{
 "cells": [
  {
   "cell_type": "code",
   "execution_count": 1,
   "metadata": {
    "_cell_guid": "b1076dfc-b9ad-4769-8c92-a6c4dae69d19",
    "_uuid": "8f2839f25d086af736a60e9eeb907d3b93b6e0e5"
   },
   "outputs": [
    {
     "name": "stdout",
     "output_type": "stream",
     "text": [
      "['.ipynb_checkpoints', 'data.csv', '[SF-DST] Movies IMBD v3.0.ipynb']\n"
     ]
    }
   ],
   "source": [
    "import numpy as np\n",
    "import pandas as pd\n",
    "import seaborn as sns\n",
    "import matplotlib.pyplot as plt\n",
    "import os\n",
    "from collections import Counter\n",
    "print(os.listdir(\"C:/Users/Anatoliy/SkillFactory/Millioner\"))"
   ]
  },
  {
   "cell_type": "code",
   "execution_count": 2,
   "metadata": {
    "scrolled": true
   },
   "outputs": [
    {
     "data": {
      "text/html": [
       "<div>\n",
       "<style scoped>\n",
       "    .dataframe tbody tr th:only-of-type {\n",
       "        vertical-align: middle;\n",
       "    }\n",
       "\n",
       "    .dataframe tbody tr th {\n",
       "        vertical-align: top;\n",
       "    }\n",
       "\n",
       "    .dataframe thead th {\n",
       "        text-align: right;\n",
       "    }\n",
       "</style>\n",
       "<table border=\"1\" class=\"dataframe\">\n",
       "  <thead>\n",
       "    <tr style=\"text-align: right;\">\n",
       "      <th></th>\n",
       "      <th>imdb_id</th>\n",
       "      <th>popularity</th>\n",
       "      <th>budget</th>\n",
       "      <th>revenue</th>\n",
       "      <th>original_title</th>\n",
       "      <th>cast</th>\n",
       "      <th>director</th>\n",
       "      <th>tagline</th>\n",
       "      <th>overview</th>\n",
       "      <th>runtime</th>\n",
       "      <th>genres</th>\n",
       "      <th>production_companies</th>\n",
       "      <th>release_date</th>\n",
       "      <th>vote_count</th>\n",
       "      <th>vote_average</th>\n",
       "      <th>release_year</th>\n",
       "    </tr>\n",
       "  </thead>\n",
       "  <tbody>\n",
       "    <tr>\n",
       "      <td>0</td>\n",
       "      <td>tt0369610</td>\n",
       "      <td>32.985763</td>\n",
       "      <td>150000000</td>\n",
       "      <td>1513528810</td>\n",
       "      <td>Jurassic World</td>\n",
       "      <td>Chris Pratt|Bryce Dallas Howard|Irrfan Khan|Vi...</td>\n",
       "      <td>Colin Trevorrow</td>\n",
       "      <td>The park is open.</td>\n",
       "      <td>Twenty-two years after the events of Jurassic ...</td>\n",
       "      <td>124</td>\n",
       "      <td>Action|Adventure|Science Fiction|Thriller</td>\n",
       "      <td>Universal Studios|Amblin Entertainment|Legenda...</td>\n",
       "      <td>6/9/2015</td>\n",
       "      <td>5562</td>\n",
       "      <td>6.5</td>\n",
       "      <td>2015</td>\n",
       "    </tr>\n",
       "    <tr>\n",
       "      <td>1</td>\n",
       "      <td>tt1392190</td>\n",
       "      <td>28.419936</td>\n",
       "      <td>150000000</td>\n",
       "      <td>378436354</td>\n",
       "      <td>Mad Max: Fury Road</td>\n",
       "      <td>Tom Hardy|Charlize Theron|Hugh Keays-Byrne|Nic...</td>\n",
       "      <td>George Miller</td>\n",
       "      <td>What a Lovely Day.</td>\n",
       "      <td>An apocalyptic story set in the furthest reach...</td>\n",
       "      <td>120</td>\n",
       "      <td>Action|Adventure|Science Fiction|Thriller</td>\n",
       "      <td>Village Roadshow Pictures|Kennedy Miller Produ...</td>\n",
       "      <td>5/13/2015</td>\n",
       "      <td>6185</td>\n",
       "      <td>7.1</td>\n",
       "      <td>2015</td>\n",
       "    </tr>\n",
       "    <tr>\n",
       "      <td>2</td>\n",
       "      <td>tt2908446</td>\n",
       "      <td>13.112507</td>\n",
       "      <td>110000000</td>\n",
       "      <td>295238201</td>\n",
       "      <td>Insurgent</td>\n",
       "      <td>Shailene Woodley|Theo James|Kate Winslet|Ansel...</td>\n",
       "      <td>Robert Schwentke</td>\n",
       "      <td>One Choice Can Destroy You</td>\n",
       "      <td>Beatrice Prior must confront her inner demons ...</td>\n",
       "      <td>119</td>\n",
       "      <td>Adventure|Science Fiction|Thriller</td>\n",
       "      <td>Summit Entertainment|Mandeville Films|Red Wago...</td>\n",
       "      <td>3/18/2015</td>\n",
       "      <td>2480</td>\n",
       "      <td>6.3</td>\n",
       "      <td>2015</td>\n",
       "    </tr>\n",
       "    <tr>\n",
       "      <td>3</td>\n",
       "      <td>tt2488496</td>\n",
       "      <td>11.173104</td>\n",
       "      <td>200000000</td>\n",
       "      <td>2068178225</td>\n",
       "      <td>Star Wars: The Force Awakens</td>\n",
       "      <td>Harrison Ford|Mark Hamill|Carrie Fisher|Adam D...</td>\n",
       "      <td>J.J. Abrams</td>\n",
       "      <td>Every generation has a story.</td>\n",
       "      <td>Thirty years after defeating the Galactic Empi...</td>\n",
       "      <td>136</td>\n",
       "      <td>Action|Adventure|Science Fiction|Fantasy</td>\n",
       "      <td>Lucasfilm|Truenorth Productions|Bad Robot</td>\n",
       "      <td>12/15/2015</td>\n",
       "      <td>5292</td>\n",
       "      <td>7.5</td>\n",
       "      <td>2015</td>\n",
       "    </tr>\n",
       "    <tr>\n",
       "      <td>4</td>\n",
       "      <td>tt2820852</td>\n",
       "      <td>9.335014</td>\n",
       "      <td>190000000</td>\n",
       "      <td>1506249360</td>\n",
       "      <td>Furious 7</td>\n",
       "      <td>Vin Diesel|Paul Walker|Jason Statham|Michelle ...</td>\n",
       "      <td>James Wan</td>\n",
       "      <td>Vengeance Hits Home</td>\n",
       "      <td>Deckard Shaw seeks revenge against Dominic Tor...</td>\n",
       "      <td>137</td>\n",
       "      <td>Action|Crime|Thriller</td>\n",
       "      <td>Universal Pictures|Original Film|Media Rights ...</td>\n",
       "      <td>4/1/2015</td>\n",
       "      <td>2947</td>\n",
       "      <td>7.3</td>\n",
       "      <td>2015</td>\n",
       "    </tr>\n",
       "  </tbody>\n",
       "</table>\n",
       "</div>"
      ],
      "text/plain": [
       "     imdb_id  popularity     budget     revenue                original_title  \\\n",
       "0  tt0369610   32.985763  150000000  1513528810                Jurassic World   \n",
       "1  tt1392190   28.419936  150000000   378436354            Mad Max: Fury Road   \n",
       "2  tt2908446   13.112507  110000000   295238201                     Insurgent   \n",
       "3  tt2488496   11.173104  200000000  2068178225  Star Wars: The Force Awakens   \n",
       "4  tt2820852    9.335014  190000000  1506249360                     Furious 7   \n",
       "\n",
       "                                                cast          director  \\\n",
       "0  Chris Pratt|Bryce Dallas Howard|Irrfan Khan|Vi...   Colin Trevorrow   \n",
       "1  Tom Hardy|Charlize Theron|Hugh Keays-Byrne|Nic...     George Miller   \n",
       "2  Shailene Woodley|Theo James|Kate Winslet|Ansel...  Robert Schwentke   \n",
       "3  Harrison Ford|Mark Hamill|Carrie Fisher|Adam D...       J.J. Abrams   \n",
       "4  Vin Diesel|Paul Walker|Jason Statham|Michelle ...         James Wan   \n",
       "\n",
       "                         tagline  \\\n",
       "0              The park is open.   \n",
       "1             What a Lovely Day.   \n",
       "2     One Choice Can Destroy You   \n",
       "3  Every generation has a story.   \n",
       "4            Vengeance Hits Home   \n",
       "\n",
       "                                            overview  runtime  \\\n",
       "0  Twenty-two years after the events of Jurassic ...      124   \n",
       "1  An apocalyptic story set in the furthest reach...      120   \n",
       "2  Beatrice Prior must confront her inner demons ...      119   \n",
       "3  Thirty years after defeating the Galactic Empi...      136   \n",
       "4  Deckard Shaw seeks revenge against Dominic Tor...      137   \n",
       "\n",
       "                                      genres  \\\n",
       "0  Action|Adventure|Science Fiction|Thriller   \n",
       "1  Action|Adventure|Science Fiction|Thriller   \n",
       "2         Adventure|Science Fiction|Thriller   \n",
       "3   Action|Adventure|Science Fiction|Fantasy   \n",
       "4                      Action|Crime|Thriller   \n",
       "\n",
       "                                production_companies release_date  vote_count  \\\n",
       "0  Universal Studios|Amblin Entertainment|Legenda...     6/9/2015        5562   \n",
       "1  Village Roadshow Pictures|Kennedy Miller Produ...    5/13/2015        6185   \n",
       "2  Summit Entertainment|Mandeville Films|Red Wago...    3/18/2015        2480   \n",
       "3          Lucasfilm|Truenorth Productions|Bad Robot   12/15/2015        5292   \n",
       "4  Universal Pictures|Original Film|Media Rights ...     4/1/2015        2947   \n",
       "\n",
       "   vote_average  release_year  \n",
       "0           6.5          2015  \n",
       "1           7.1          2015  \n",
       "2           6.3          2015  \n",
       "3           7.5          2015  \n",
       "4           7.3          2015  "
      ]
     },
     "execution_count": 2,
     "metadata": {},
     "output_type": "execute_result"
    }
   ],
   "source": [
    "data = pd.read_csv('C:/Users/Anatoliy/SkillFactory/Millioner/data.csv')\n",
    "data.head(5)"
   ]
  },
  {
   "cell_type": "code",
   "execution_count": 8,
   "metadata": {},
   "outputs": [
    {
     "data": {
      "text/plain": [
       "1890"
      ]
     },
     "execution_count": 8,
     "metadata": {},
     "output_type": "execute_result"
    }
   ],
   "source": [
    "len(data)"
   ]
  },
  {
   "cell_type": "markdown",
   "metadata": {},
   "source": [
    "# Предобработка датасета"
   ]
  },
  {
   "cell_type": "code",
   "execution_count": 44,
   "metadata": {},
   "outputs": [],
   "source": [
    "answer_ls = [] # создадим список с ответами. сюда будем добавлять ответы по мере прохождения теста\n",
    "# сюда можем вписать создание новых колонок в датасете"
   ]
  },
  {
   "cell_type": "markdown",
   "metadata": {},
   "source": [
    "# 1. У какого фильма из списка самый большой бюджет?\n",
    "Варианты ответов:\n",
    "1. The Dark Knight Rises (tt1345836)\n",
    "2. Spider-Man 3 (tt0413300)\n",
    "3. Avengers: Age of Ultron (tt2395427)\n",
    "4. The Warrior's Way\t(tt1032751)\n",
    "5. Pirates of the Caribbean: On Stranger Tides (tt1298650)"
   ]
  },
  {
   "cell_type": "code",
   "execution_count": 137,
   "metadata": {},
   "outputs": [
    {
     "data": {
      "text/plain": [
       "\"The Warrior's Way\""
      ]
     },
     "execution_count": 137,
     "metadata": {},
     "output_type": "execute_result"
    }
   ],
   "source": [
    "# тут вводим ваш ответ и добавлем в его список ответов (сейчас для примера стоит \"1\")\n",
    "#data.loc[data['imdb_id'].isin(['tt1345836','tt0413300','tt2395427','tt1032751','tt1298650'])].sort_values('budget',ascending=False)\n",
    "#answer_ls.append(4)\n",
    "data.original_title[data.budget.idxmax]"
   ]
  },
  {
   "cell_type": "markdown",
   "metadata": {},
   "source": [
    "# 2. Какой из фильмов самый длительный (в минутах)\n",
    "1. The Lord of the Rings: The Return of the King\t(tt0167260)\n",
    "2. Gods and Generals\t(tt0279111)\n",
    "3. King Kong\t(tt0360717)\n",
    "4. Pearl Harbor\t(tt0213149)\n",
    "5. Alexander\t(tt0346491)"
   ]
  },
  {
   "cell_type": "code",
   "execution_count": 32,
   "metadata": {},
   "outputs": [
    {
     "data": {
      "text/html": [
       "<div>\n",
       "<style scoped>\n",
       "    .dataframe tbody tr th:only-of-type {\n",
       "        vertical-align: middle;\n",
       "    }\n",
       "\n",
       "    .dataframe tbody tr th {\n",
       "        vertical-align: top;\n",
       "    }\n",
       "\n",
       "    .dataframe thead th {\n",
       "        text-align: right;\n",
       "    }\n",
       "</style>\n",
       "<table border=\"1\" class=\"dataframe\">\n",
       "  <thead>\n",
       "    <tr style=\"text-align: right;\">\n",
       "      <th></th>\n",
       "      <th>imdb_id</th>\n",
       "      <th>popularity</th>\n",
       "      <th>budget</th>\n",
       "      <th>revenue</th>\n",
       "      <th>original_title</th>\n",
       "      <th>cast</th>\n",
       "      <th>director</th>\n",
       "      <th>tagline</th>\n",
       "      <th>overview</th>\n",
       "      <th>runtime</th>\n",
       "      <th>genres</th>\n",
       "      <th>production_companies</th>\n",
       "      <th>release_date</th>\n",
       "      <th>vote_count</th>\n",
       "      <th>vote_average</th>\n",
       "      <th>release_year</th>\n",
       "    </tr>\n",
       "  </thead>\n",
       "  <tbody>\n",
       "    <tr>\n",
       "      <td>1158</td>\n",
       "      <td>tt0279111</td>\n",
       "      <td>0.469518</td>\n",
       "      <td>56000000</td>\n",
       "      <td>12923936</td>\n",
       "      <td>Gods and Generals</td>\n",
       "      <td>Stephen Lang|Jeff Daniels|Robert Duvall|Kevin ...</td>\n",
       "      <td>Ronald F. Maxwell</td>\n",
       "      <td>The nations heart was touched by...</td>\n",
       "      <td>The film centers mostly around the personal an...</td>\n",
       "      <td>214</td>\n",
       "      <td>Drama|History|War</td>\n",
       "      <td>Turner Pictures|Antietam Filmworks</td>\n",
       "      <td>2/21/2003</td>\n",
       "      <td>23</td>\n",
       "      <td>5.8</td>\n",
       "      <td>2003</td>\n",
       "    </tr>\n",
       "    <tr>\n",
       "      <td>1082</td>\n",
       "      <td>tt0167260</td>\n",
       "      <td>7.122455</td>\n",
       "      <td>94000000</td>\n",
       "      <td>1118888979</td>\n",
       "      <td>The Lord of the Rings: The Return of the King</td>\n",
       "      <td>Elijah Wood|Ian McKellen|Viggo Mortensen|Liv T...</td>\n",
       "      <td>Peter Jackson</td>\n",
       "      <td>The eye of the enemy is moving.</td>\n",
       "      <td>Aragorn is revealed as the heir to the ancient...</td>\n",
       "      <td>201</td>\n",
       "      <td>Adventure|Fantasy|Action</td>\n",
       "      <td>WingNut Films|New Line Cinema</td>\n",
       "      <td>12/1/2003</td>\n",
       "      <td>5636</td>\n",
       "      <td>7.9</td>\n",
       "      <td>2003</td>\n",
       "    </tr>\n",
       "    <tr>\n",
       "      <td>1337</td>\n",
       "      <td>tt0360717</td>\n",
       "      <td>1.508329</td>\n",
       "      <td>207000000</td>\n",
       "      <td>550000000</td>\n",
       "      <td>King Kong</td>\n",
       "      <td>Naomi Watts|Jack Black|Adrien Brody|Thomas Kre...</td>\n",
       "      <td>Peter Jackson</td>\n",
       "      <td>The eighth wonder of the world.</td>\n",
       "      <td>In 1933 New York, an overly ambitious movie pr...</td>\n",
       "      <td>187</td>\n",
       "      <td>Adventure|Drama|Action</td>\n",
       "      <td>WingNut Films|Universal Pictures|Big Primate P...</td>\n",
       "      <td>12/14/2005</td>\n",
       "      <td>1289</td>\n",
       "      <td>6.4</td>\n",
       "      <td>2005</td>\n",
       "    </tr>\n",
       "    <tr>\n",
       "      <td>505</td>\n",
       "      <td>tt0213149</td>\n",
       "      <td>2.478879</td>\n",
       "      <td>140000000</td>\n",
       "      <td>449220945</td>\n",
       "      <td>Pearl Harbor</td>\n",
       "      <td>Ben Affleck|Josh Hartnett|Kate Beckinsale|Cuba...</td>\n",
       "      <td>Michael Bay</td>\n",
       "      <td>December 7, 1941 - A day that shall live in in...</td>\n",
       "      <td>The lifelong friendship between Rafe McCawley ...</td>\n",
       "      <td>183</td>\n",
       "      <td>History|Romance|War</td>\n",
       "      <td>Jerry Bruckheimer Films|Touchstone Pictures</td>\n",
       "      <td>5/21/2001</td>\n",
       "      <td>1044</td>\n",
       "      <td>6.6</td>\n",
       "      <td>2001</td>\n",
       "    </tr>\n",
       "    <tr>\n",
       "      <td>1602</td>\n",
       "      <td>tt0346491</td>\n",
       "      <td>1.319068</td>\n",
       "      <td>155000000</td>\n",
       "      <td>167298192</td>\n",
       "      <td>Alexander</td>\n",
       "      <td>Colin Farrell|Angelina Jolie|Val Kilmer|Jared ...</td>\n",
       "      <td>Oliver Stone</td>\n",
       "      <td>The greatest legend of all was real.</td>\n",
       "      <td>Alexander, the King of Macedonia, leads his le...</td>\n",
       "      <td>175</td>\n",
       "      <td>War|History|Action|Adventure|Drama</td>\n",
       "      <td>France 3 CinÃ©ma|Intermedia Films|PathÃ© Renn ...</td>\n",
       "      <td>11/21/2004</td>\n",
       "      <td>519</td>\n",
       "      <td>5.6</td>\n",
       "      <td>2004</td>\n",
       "    </tr>\n",
       "  </tbody>\n",
       "</table>\n",
       "</div>"
      ],
      "text/plain": [
       "        imdb_id  popularity     budget     revenue  \\\n",
       "1158  tt0279111    0.469518   56000000    12923936   \n",
       "1082  tt0167260    7.122455   94000000  1118888979   \n",
       "1337  tt0360717    1.508329  207000000   550000000   \n",
       "505   tt0213149    2.478879  140000000   449220945   \n",
       "1602  tt0346491    1.319068  155000000   167298192   \n",
       "\n",
       "                                     original_title  \\\n",
       "1158                              Gods and Generals   \n",
       "1082  The Lord of the Rings: The Return of the King   \n",
       "1337                                      King Kong   \n",
       "505                                    Pearl Harbor   \n",
       "1602                                      Alexander   \n",
       "\n",
       "                                                   cast           director  \\\n",
       "1158  Stephen Lang|Jeff Daniels|Robert Duvall|Kevin ...  Ronald F. Maxwell   \n",
       "1082  Elijah Wood|Ian McKellen|Viggo Mortensen|Liv T...      Peter Jackson   \n",
       "1337  Naomi Watts|Jack Black|Adrien Brody|Thomas Kre...      Peter Jackson   \n",
       "505   Ben Affleck|Josh Hartnett|Kate Beckinsale|Cuba...        Michael Bay   \n",
       "1602  Colin Farrell|Angelina Jolie|Val Kilmer|Jared ...       Oliver Stone   \n",
       "\n",
       "                                                tagline  \\\n",
       "1158                The nations heart was touched by...   \n",
       "1082                    The eye of the enemy is moving.   \n",
       "1337                    The eighth wonder of the world.   \n",
       "505   December 7, 1941 - A day that shall live in in...   \n",
       "1602               The greatest legend of all was real.   \n",
       "\n",
       "                                               overview  runtime  \\\n",
       "1158  The film centers mostly around the personal an...      214   \n",
       "1082  Aragorn is revealed as the heir to the ancient...      201   \n",
       "1337  In 1933 New York, an overly ambitious movie pr...      187   \n",
       "505   The lifelong friendship between Rafe McCawley ...      183   \n",
       "1602  Alexander, the King of Macedonia, leads his le...      175   \n",
       "\n",
       "                                  genres  \\\n",
       "1158                   Drama|History|War   \n",
       "1082            Adventure|Fantasy|Action   \n",
       "1337              Adventure|Drama|Action   \n",
       "505                  History|Romance|War   \n",
       "1602  War|History|Action|Adventure|Drama   \n",
       "\n",
       "                                   production_companies release_date  \\\n",
       "1158                 Turner Pictures|Antietam Filmworks    2/21/2003   \n",
       "1082                      WingNut Films|New Line Cinema    12/1/2003   \n",
       "1337  WingNut Films|Universal Pictures|Big Primate P...   12/14/2005   \n",
       "505         Jerry Bruckheimer Films|Touchstone Pictures    5/21/2001   \n",
       "1602  France 3 CinÃ©ma|Intermedia Films|PathÃ© Renn ...   11/21/2004   \n",
       "\n",
       "      vote_count  vote_average  release_year  \n",
       "1158          23           5.8          2003  \n",
       "1082        5636           7.9          2003  \n",
       "1337        1289           6.4          2005  \n",
       "505         1044           6.6          2001  \n",
       "1602         519           5.6          2004  "
      ]
     },
     "metadata": {},
     "output_type": "display_data"
    }
   ],
   "source": [
    "display(data.loc[data['imdb_id'].isin(['tt0167260','tt0279111','tt0360717','tt0213149','tt0346491'])].sort_values('runtime',ascending=False))\n",
    "answer_ls.append(2)"
   ]
  },
  {
   "cell_type": "markdown",
   "metadata": {},
   "source": [
    "# 3. Какой из фильмов самый короткий (в минутах)\n",
    "Варианты ответов:\n",
    "\n",
    "1. Home on the Range\ttt0299172\n",
    "2. The Jungle Book 2\ttt0283426\n",
    "3. Winnie the Pooh\ttt1449283\n",
    "4. Corpse Bride\ttt0121164\n",
    "5. Hoodwinked!\ttt0443536"
   ]
  },
  {
   "cell_type": "code",
   "execution_count": 39,
   "metadata": {},
   "outputs": [
    {
     "data": {
      "text/html": [
       "<div>\n",
       "<style scoped>\n",
       "    .dataframe tbody tr th:only-of-type {\n",
       "        vertical-align: middle;\n",
       "    }\n",
       "\n",
       "    .dataframe tbody tr th {\n",
       "        vertical-align: top;\n",
       "    }\n",
       "\n",
       "    .dataframe thead th {\n",
       "        text-align: right;\n",
       "    }\n",
       "</style>\n",
       "<table border=\"1\" class=\"dataframe\">\n",
       "  <thead>\n",
       "    <tr style=\"text-align: right;\">\n",
       "      <th></th>\n",
       "      <th>imdb_id</th>\n",
       "      <th>popularity</th>\n",
       "      <th>budget</th>\n",
       "      <th>revenue</th>\n",
       "      <th>original_title</th>\n",
       "      <th>cast</th>\n",
       "      <th>director</th>\n",
       "      <th>tagline</th>\n",
       "      <th>overview</th>\n",
       "      <th>runtime</th>\n",
       "      <th>genres</th>\n",
       "      <th>production_companies</th>\n",
       "      <th>release_date</th>\n",
       "      <th>vote_count</th>\n",
       "      <th>vote_average</th>\n",
       "      <th>release_year</th>\n",
       "    </tr>\n",
       "  </thead>\n",
       "  <tbody>\n",
       "    <tr>\n",
       "      <td>769</td>\n",
       "      <td>tt1449283</td>\n",
       "      <td>1.425344</td>\n",
       "      <td>30000000</td>\n",
       "      <td>14460000</td>\n",
       "      <td>Winnie the Pooh</td>\n",
       "      <td>Jim Cummings|Travis Oates|Jim Cummings|Bud Luc...</td>\n",
       "      <td>Stephen Anderson|Don Hall</td>\n",
       "      <td>Oh Pooh.</td>\n",
       "      <td>During an ordinary day in Hundred Acre Wood, W...</td>\n",
       "      <td>63</td>\n",
       "      <td>Animation|Family</td>\n",
       "      <td>Walt Disney Pictures|Walt Disney Animation Stu...</td>\n",
       "      <td>4/13/2011</td>\n",
       "      <td>174</td>\n",
       "      <td>6.8</td>\n",
       "      <td>2011</td>\n",
       "    </tr>\n",
       "    <tr>\n",
       "      <td>1098</td>\n",
       "      <td>tt0283426</td>\n",
       "      <td>1.781615</td>\n",
       "      <td>20000000</td>\n",
       "      <td>135680000</td>\n",
       "      <td>The Jungle Book 2</td>\n",
       "      <td>John Goodman|Haley Joel Osment|Mae Whitman|Phi...</td>\n",
       "      <td>Steve Trenbirth</td>\n",
       "      <td>Feel the jungle beat</td>\n",
       "      <td>Mowgli, missing the jungle and his old friends...</td>\n",
       "      <td>72</td>\n",
       "      <td>Family|Animation|Adventure</td>\n",
       "      <td>Walt Disney Pictures|Walt Disney Television An...</td>\n",
       "      <td>2/7/2003</td>\n",
       "      <td>156</td>\n",
       "      <td>5.6</td>\n",
       "      <td>2003</td>\n",
       "    </tr>\n",
       "    <tr>\n",
       "      <td>1627</td>\n",
       "      <td>tt0299172</td>\n",
       "      <td>0.837906</td>\n",
       "      <td>110000000</td>\n",
       "      <td>103951461</td>\n",
       "      <td>Home on the Range</td>\n",
       "      <td>Randy Quaid|Steve Buscemi|Judi Dench|Cuba Good...</td>\n",
       "      <td>Will Finn|John Sanford</td>\n",
       "      <td>Bust a Moo.</td>\n",
       "      <td>The Little Piece of Heaven family farm is abou...</td>\n",
       "      <td>76</td>\n",
       "      <td>Western|Animation|Family|Comedy|Music</td>\n",
       "      <td>Walt Disney Pictures|Walt Disney Feature Anima...</td>\n",
       "      <td>4/2/2004</td>\n",
       "      <td>210</td>\n",
       "      <td>5.8</td>\n",
       "      <td>2004</td>\n",
       "    </tr>\n",
       "    <tr>\n",
       "      <td>1349</td>\n",
       "      <td>tt0121164</td>\n",
       "      <td>1.265401</td>\n",
       "      <td>40000000</td>\n",
       "      <td>117195061</td>\n",
       "      <td>Corpse Bride</td>\n",
       "      <td>Johnny Depp|Helena Bonham Carter|Emily Watson|...</td>\n",
       "      <td>Tim Burton|Mike Johnson</td>\n",
       "      <td>There's been a grave misunderstanding.</td>\n",
       "      <td>Set in a 19th-century european village, this s...</td>\n",
       "      <td>77</td>\n",
       "      <td>Romance|Fantasy|Animation|Music</td>\n",
       "      <td>Tim Burton Animation Company|Will Vinton Studi...</td>\n",
       "      <td>9/9/2005</td>\n",
       "      <td>1022</td>\n",
       "      <td>7.0</td>\n",
       "      <td>2005</td>\n",
       "    </tr>\n",
       "    <tr>\n",
       "      <td>1360</td>\n",
       "      <td>tt0443536</td>\n",
       "      <td>1.048193</td>\n",
       "      <td>15000000</td>\n",
       "      <td>51053787</td>\n",
       "      <td>Hoodwinked!</td>\n",
       "      <td>Anne Hathaway|Glenn Close|Jim Belushi|Patrick ...</td>\n",
       "      <td>Cory Edwards|Todd Edwards|Tony Leech</td>\n",
       "      <td>Armed And Dangerously Dumb.</td>\n",
       "      <td>The recipes of candies of the goody shops have...</td>\n",
       "      <td>80</td>\n",
       "      <td>Animation|Comedy|Family</td>\n",
       "      <td>The Weinstein Company|Kanbar Entertainment|Blu...</td>\n",
       "      <td>12/16/2005</td>\n",
       "      <td>288</td>\n",
       "      <td>6.0</td>\n",
       "      <td>2005</td>\n",
       "    </tr>\n",
       "  </tbody>\n",
       "</table>\n",
       "</div>"
      ],
      "text/plain": [
       "        imdb_id  popularity     budget    revenue     original_title  \\\n",
       "769   tt1449283    1.425344   30000000   14460000    Winnie the Pooh   \n",
       "1098  tt0283426    1.781615   20000000  135680000  The Jungle Book 2   \n",
       "1627  tt0299172    0.837906  110000000  103951461  Home on the Range   \n",
       "1349  tt0121164    1.265401   40000000  117195061       Corpse Bride   \n",
       "1360  tt0443536    1.048193   15000000   51053787        Hoodwinked!   \n",
       "\n",
       "                                                   cast  \\\n",
       "769   Jim Cummings|Travis Oates|Jim Cummings|Bud Luc...   \n",
       "1098  John Goodman|Haley Joel Osment|Mae Whitman|Phi...   \n",
       "1627  Randy Quaid|Steve Buscemi|Judi Dench|Cuba Good...   \n",
       "1349  Johnny Depp|Helena Bonham Carter|Emily Watson|...   \n",
       "1360  Anne Hathaway|Glenn Close|Jim Belushi|Patrick ...   \n",
       "\n",
       "                                  director  \\\n",
       "769              Stephen Anderson|Don Hall   \n",
       "1098                       Steve Trenbirth   \n",
       "1627                Will Finn|John Sanford   \n",
       "1349               Tim Burton|Mike Johnson   \n",
       "1360  Cory Edwards|Todd Edwards|Tony Leech   \n",
       "\n",
       "                                     tagline  \\\n",
       "769                                 Oh Pooh.   \n",
       "1098                    Feel the jungle beat   \n",
       "1627                             Bust a Moo.   \n",
       "1349  There's been a grave misunderstanding.   \n",
       "1360             Armed And Dangerously Dumb.   \n",
       "\n",
       "                                               overview  runtime  \\\n",
       "769   During an ordinary day in Hundred Acre Wood, W...       63   \n",
       "1098  Mowgli, missing the jungle and his old friends...       72   \n",
       "1627  The Little Piece of Heaven family farm is abou...       76   \n",
       "1349  Set in a 19th-century european village, this s...       77   \n",
       "1360  The recipes of candies of the goody shops have...       80   \n",
       "\n",
       "                                     genres  \\\n",
       "769                        Animation|Family   \n",
       "1098             Family|Animation|Adventure   \n",
       "1627  Western|Animation|Family|Comedy|Music   \n",
       "1349        Romance|Fantasy|Animation|Music   \n",
       "1360                Animation|Comedy|Family   \n",
       "\n",
       "                                   production_companies release_date  \\\n",
       "769   Walt Disney Pictures|Walt Disney Animation Stu...    4/13/2011   \n",
       "1098  Walt Disney Pictures|Walt Disney Television An...     2/7/2003   \n",
       "1627  Walt Disney Pictures|Walt Disney Feature Anima...     4/2/2004   \n",
       "1349  Tim Burton Animation Company|Will Vinton Studi...     9/9/2005   \n",
       "1360  The Weinstein Company|Kanbar Entertainment|Blu...   12/16/2005   \n",
       "\n",
       "      vote_count  vote_average  release_year  \n",
       "769          174           6.8          2011  \n",
       "1098         156           5.6          2003  \n",
       "1627         210           5.8          2004  \n",
       "1349        1022           7.0          2005  \n",
       "1360         288           6.0          2005  "
      ]
     },
     "metadata": {},
     "output_type": "display_data"
    }
   ],
   "source": [
    "display(data.loc[data['imdb_id'].isin(['tt0299172','tt0283426','tt1449283','tt0121164','tt0443536'])].sort_values('runtime'))\n",
    "answer_ls.append(3)"
   ]
  },
  {
   "cell_type": "markdown",
   "metadata": {},
   "source": [
    "# 4. Средняя длительность фильма?\n",
    "\n",
    "Варианты ответов:\n",
    "1. 115\n",
    "2. 110\n",
    "3. 105\n",
    "4. 120\n",
    "5. 100\n"
   ]
  },
  {
   "cell_type": "code",
   "execution_count": 42,
   "metadata": {},
   "outputs": [],
   "source": [
    "data.runtime.mean()\n",
    "answer_ls.append(2)"
   ]
  },
  {
   "cell_type": "markdown",
   "metadata": {},
   "source": [
    "# 5. Средняя длительность фильма по медиане?\n",
    "Варианты ответов:\n",
    "1. 106\n",
    "2. 112\n",
    "3. 101\n",
    "4. 120\n",
    "5. 115\n",
    "\n",
    "\n"
   ]
  },
  {
   "cell_type": "code",
   "execution_count": 45,
   "metadata": {},
   "outputs": [],
   "source": [
    "data.runtime.median()\n",
    "answer_ls.append(1)"
   ]
  },
  {
   "cell_type": "markdown",
   "metadata": {},
   "source": [
    "# 6. Какой самый прибыльный фильм?\n",
    "Варианты ответов:\n",
    "1. The Avengers\ttt0848228\n",
    "2. Minions\ttt2293640\n",
    "3. Star Wars: The Force Awakens\ttt2488496\n",
    "4. Furious 7\ttt2820852\n",
    "5. Avatar\ttt0499549"
   ]
  },
  {
   "cell_type": "code",
   "execution_count": 49,
   "metadata": {},
   "outputs": [],
   "source": [
    "data['profit'] = data['revenue'] - data['budget']\n",
    "data.sort_values('profit',ascending=False)\n",
    "answer_ls.append(5)"
   ]
  },
  {
   "cell_type": "markdown",
   "metadata": {},
   "source": [
    "# 7. Какой фильм самый убыточный?\n",
    "Варианты ответов:\n",
    "1. Supernova tt0134983\n",
    "2. The Warrior's Way tt1032751\n",
    "3. Flushed Away\ttt0424095\n",
    "4. The Adventures of Pluto Nash\ttt0180052\n",
    "5. The Lone Ranger\ttt1210819"
   ]
  },
  {
   "cell_type": "code",
   "execution_count": 56,
   "metadata": {},
   "outputs": [],
   "source": [
    "#data['profit'] = data['revenue'] - data['budget']\n",
    "data.sort_values('profit')\n",
    "answer_ls.append(2)"
   ]
  },
  {
   "cell_type": "markdown",
   "metadata": {},
   "source": [
    "# 8. Сколько всего фильмов в прибыли?\n",
    "Варианты ответов:\n",
    "1. 1478\n",
    "2. 1520\n",
    "3. 1241\n",
    "4. 1135\n",
    "5. 1398\n"
   ]
  },
  {
   "cell_type": "code",
   "execution_count": 65,
   "metadata": {},
   "outputs": [],
   "source": [
    "data[data.profit>0].describe()\n",
    "answer_ls.append(1)"
   ]
  },
  {
   "cell_type": "markdown",
   "metadata": {},
   "source": [
    "# 9. Самый прибыльный фильм в 2008 году?\n",
    "Варианты ответов:\n",
    "1. Madagascar: Escape 2 Africa\ttt0479952\n",
    "2. Iron Man\ttt0371746\n",
    "3. Kung Fu Panda\ttt0441773\n",
    "4. The Dark Knight\ttt0468569\n",
    "5. Mamma Mia!\ttt0795421"
   ]
  },
  {
   "cell_type": "code",
   "execution_count": 69,
   "metadata": {},
   "outputs": [],
   "source": [
    "data[data.release_year==2008].sort_values('revenue',ascending=False)\n",
    "answer_ls.append(4)"
   ]
  },
  {
   "cell_type": "markdown",
   "metadata": {},
   "source": [
    "# 10. Самый убыточный фильм за период с 2012 по 2014 (включительно)?\n",
    "Варианты ответов:\n",
    "1. Winter's Tale\ttt1837709\n",
    "2. Stolen\ttt1656186\n",
    "3. Broken City\ttt1235522\n",
    "4. Upside Down\ttt1374992\n",
    "5. The Lone Ranger\ttt1210819\n"
   ]
  },
  {
   "cell_type": "code",
   "execution_count": 80,
   "metadata": {},
   "outputs": [],
   "source": [
    "data.loc[data.release_year.isin([2012,2013,2014])].sort_values('profit')\n",
    "answer_ls.append(5)"
   ]
  },
  {
   "cell_type": "markdown",
   "metadata": {},
   "source": [
    "# 11. Какого жанра фильмов больше всего?\n",
    "Варианты ответов:\n",
    "1. Action\n",
    "2. Adventure\n",
    "3. Drama\n",
    "4. Comedy\n",
    "5. Thriller"
   ]
  },
  {
   "cell_type": "code",
   "execution_count": 91,
   "metadata": {},
   "outputs": [],
   "source": [
    "Counter(data.genres.str.split('|').sum()).most_common(3)\n",
    "answer_ls.append(3)"
   ]
  },
  {
   "cell_type": "markdown",
   "metadata": {},
   "source": [
    "# 12. Какого жанра среди прибыльных фильмов больше всего?\n",
    "Варианты ответов:\n",
    "1. Drama\n",
    "2. Comedy\n",
    "3. Action\n",
    "4. Thriller\n",
    "5. Adventure"
   ]
  },
  {
   "cell_type": "code",
   "execution_count": 103,
   "metadata": {},
   "outputs": [],
   "source": [
    "Counter(data[data.profit>0].genres.str.split('|').sum()).most_common(3)\n",
    "answer_ls.append(1)"
   ]
  },
  {
   "cell_type": "markdown",
   "metadata": {},
   "source": [
    "# 13. Кто из режиссеров снял больше всего фильмов?\n",
    "Варианты ответов:\n",
    "1. Steven Spielberg\n",
    "2. Ridley Scott \n",
    "3. Steven Soderbergh\n",
    "4. Christopher Nolan\n",
    "5. Clint Eastwood"
   ]
  },
  {
   "cell_type": "code",
   "execution_count": 105,
   "metadata": {},
   "outputs": [],
   "source": [
    "Counter(data.director.str.split('|').sum()).most_common(3)\n",
    "answer_ls.append(3)"
   ]
  },
  {
   "cell_type": "markdown",
   "metadata": {},
   "source": [
    "# 14. Кто из режиссеров снял больше всего Прибыльных фильмов?\n",
    "Варианты ответов:\n",
    "1. Steven Soderbergh\n",
    "2. Clint Eastwood\n",
    "3. Steven Spielberg\n",
    "4. Ridley Scott\n",
    "5. Christopher Nolan"
   ]
  },
  {
   "cell_type": "code",
   "execution_count": 107,
   "metadata": {},
   "outputs": [],
   "source": [
    "Counter(data[data.profit>0].director.str.split('|').sum()).most_common(3)\n",
    "answer_ls.append(4)"
   ]
  },
  {
   "cell_type": "markdown",
   "metadata": {},
   "source": [
    "# 15. Кто из режиссеров принес больше всего прибыли?\n",
    "Варианты ответов:\n",
    "1. Steven Spielberg\n",
    "2. Christopher Nolan\n",
    "3. David Yates\n",
    "4. James Cameron\n",
    "5. Peter Jackson\n"
   ]
  },
  {
   "cell_type": "code",
   "execution_count": 130,
   "metadata": {},
   "outputs": [],
   "source": [
    "data.groupby(['director'])[['profit']].sum().sort_values(['profit'],ascending=False).head(10)\n",
    "answer_ls.append(5)"
   ]
  },
  {
   "cell_type": "markdown",
   "metadata": {},
   "source": [
    "# 16. Какой актер принес больше всего прибыли?\n",
    "Варианты ответов:\n",
    "1. Emma Watson\n",
    "2. Johnny Depp\n",
    "3. Michelle Rodriguez\n",
    "4. Orlando Bloom\n",
    "5. Rupert Grint"
   ]
  },
  {
   "cell_type": "code",
   "execution_count": 183,
   "metadata": {},
   "outputs": [
    {
     "name": "stdout",
     "output_type": "stream",
     "text": [
      "[('Emma Watson', 6666245597), ('Daniel Radcliffe', 6514990281), ('Rupert Grint', 6408638290), ('Ian McKellen', 6087375777), ('Robert Downey Jr.', 5316030161), ('Orlando Bloom', 5148578162), ('Johnny Depp', 4776417000), ('Ralph Fiennes', 4739260140), ('Michelle Rodriguez', 4608031235), ('Anne Hathaway', 4490351538), ('Scarlett Johansson', 4203244858), ('Ben Stiller', 4201954571), ('Cameron Diaz', 4146490085), ('Samuel L. Jackson', 4036974161), ('Vin Diesel', 3923216862), ('Dwayne Johnson', 3899824603), ('Tom Cruise', 3872196893), ('Chris Evans', 3793939244), ('Gary Oldman', 3708823251), ('Zoe Saldana', 3572392568), ('Michael Caine', 3481833508), ('Shia LaBeouf', 3393362177), ('Chris Hemsworth', 3347424695), ('Angelina Jolie', 3345409359), ('Kristen Stewart', 3324049211), ('Helena Bonham Carter', 3289902810), ('Brad Pitt', 3287408957), ('Paul Walker', 3137283755), ('Sam Worthington', 3135365646), ('Daniel Craig', 3133778323), ('Will Smith', 3107921771), ('Tom Hanks', 3078112705), ('Josh Hutcherson', 3047241377), ('Mark Ruffalo', 3045858157), ('Jennifer Lawrence', 3031588432), ('Leonardo DiCaprio', 3029444829), ('Taylor Lautner', 3023620411), ('Robert Pattinson', 3008872499), ('Woody Harrelson', 2988729199), ('Cate Blanchett', 2918861980), ('James Franco', 2901670993), ('Sigourney Weaver', 2895067138), ('Antonio Banderas', 2891623730), ('Sandra Bullock', 2824692940), ('Matt Damon', 2803535866), ('Eddie Murphy', 2797586538), ('Bradley Cooper', 2792958718), ('Elijah Wood', 2787731978), ('Christian Bale', 2741738014), ('Liv Tyler', 2739870270), ('Julie Andrews', 2718858871), ('Viggo Mortensen', 2699098722), ('Harrison Ford', 2696134112), ('Steve Carell', 2668010978), ('Mike Myers', 2634259979), ('Jack Black', 2620004430), ('Liam Neeson', 2536858504), ('Keira Knightley', 2534854685), ('Jason Statham', 2495798922), ('George Clooney', 2477120111), ('Natalie Portman', 2468418555), ('Stephen Lang', 2460224804), ('Elizabeth Banks', 2440975500), ('Liam Hemsworth', 2429092160), ('Adam Sandler', 2387021605), ('Seann William Scott', 2376422215), ('Owen Wilson', 2375025339), ('Mark Wahlberg', 2324586236), ('Michael Keaton', 2316042286), ('Josh Duhamel', 2296594437), ('Richard Armitage', 2291125550), ('Bill Nighy', 2272709441), ('Chris Pratt', 2264031555), ('Kristen Wiig', 2247774460), ('Martin Freeman', 2245427868), ('Tobey Maguire', 2231331790), ('Denis Leary', 2224658555), ('Peter Facinelli', 2222107909), ('Judi Dench', 2203621895), ('John Leguizamo', 2193502213), ('Tom Hardy', 2129641063), ('Steve Buscemi', 2097184654), ('Ewan McGregor', 2090801439), ('Russell Crowe', 2065975814), ('Andy Serkis', 2057975393), ('Gwyneth Paltrow', 2051072268), ('Hugh Jackman', 2043789637), ('Emma Stone', 2023612916), ('Robert De Niro', 1989540634), ('Kirsten Dunst', 1972542719), ('Jonah Hill', 1955372029), ('Tyrese Gibson', 1954038544), ('Guy Pearce', 1953730753), ('Frances McDormand', 1941014837), ('Simon Pegg', 1927222589), ('John Goodman', 1918861833), ('Geoffrey Rush', 1918496931), ('Bryce Dallas Howard', 1917236873), ('Sacha Baron Cohen', 1916134152), ('Michael Gambon', 1906469638), ('Willem Dafoe', 1886667580), ('Ashley Greene', 1885118157), ('Adam Driver', 1884109030), ('Mark Hamill', 1868178225), ('Carrie Fisher', 1868178225), ('Daisy Ridley', 1868178225), ('Irrfan Khan', 1863613082), ('Jamie Foxx', 1860077704), ('Amy Adams', 1819139040), ('Gerard Butler', 1814331972), ('Jackie Chan', 1805945694), ('Jeremy Renner', 1805307161), ('Meryl Streep', 1792276260), ('Colin Firth', 1792021986), ('Dustin Hoffman', 1769635731), ('Megan Fox', 1749357755), ('Robin Williams', 1739802878), ('Chris Rock', 1725577596), ('Kevin James', 1724987946), ('Maggie Smith', 1714286499), ('Don Cheadle', 1698836838), ('Ray Romano', 1687442698), ('Justin Long', 1668080734), ('Zach Galifianakis', 1643064842), ('Russell Brand', 1641894717), ('Hank Azaria', 1628132253), ('Jason Lee', 1604563794), ('Nicolas Cage', 1598427930), ('Jim Carrey', 1579517274), ('Jordana Brewster', 1568762707), ('Seth Rogen', 1532111572), ('John Malkovich', 1528571988), ('Graham McTavish', 1516455355), ('David Schwimmer', 1513502299), ('Keanu Reeves', 1498961637), ('Amanda Seyfried', 1497822181), ('Allison Janney', 1497124685), ('Ken Watanabe', 1495008278), ('Ben Kingsley', 1487684460), ('Morgan Freeman', 1478916574), ('Jason Bateman', 1477790582), (\"Vincent D'Onofrio\", 1465576509), ('Ken Jeong', 1452196639), ('Ryan Reynolds', 1445757622), ('Jennifer Aniston', 1443185988), ('Ed Harris', 1433643828), ('Christoph Waltz', 1415633955), ('Ken Stott', 1413519788), ('Jack Davenport', 1412846074), ('Mila Kunis', 1411974109), ('Will Arnett', 1411551691), ('Julie Walters', 1404008567), ('Bruce Willis', 1402368647), ('Anthony Hopkins', 1398887962), ('Michael Fassbender', 1396919073), ('Jason Segel', 1381034598), ('Carla Gugino', 1378790398), ('Ben Affleck', 1371296619), ('Jake Gyllenhaal', 1369845596), ('Ving Rhames', 1367591200), ('Nick Robinson', 1363528810), ('Jessica Chastain', 1355397478), ('Aaron Eckhart', 1352459484), ('Vince Vaughn', 1351186518), ('Jude Law', 1347852227), ('Julia Roberts', 1346783045), ('Josh Gad', 1340350280), ('Hayden Christensen', 1336469783), ('Charlize Theron', 1329803370), ('Alan Rickman', 1324666007), ('Leslie Mann', 1314569622), ('Bill Hader', 1314097465), ('Thandie Newton', 1306199066), ('Monica Bellucci', 1286310870), ('Denzel Washington', 1278642199), ('Rachel McAdams', 1275304837), ('Josh Brolin', 1271330619), ('Kristen Bell', 1266445306), ('Ian McDiarmid', 1266398328), ('Jay Baruchel', 1265942894), ('Famke Janssen', 1258361241), ('Javier Bardem', 1257445372), ('Paul Bettany', 1251524842), ('Andrew Garfield', 1250524708), ('David Cross', 1241555575), ('Alfred Molina', 1229444150), ('Tommy Lee Jones', 1216769285), ('Jon Hamm', 1213064725), ('Paul Rudd', 1210975726), ('Channing Tatum', 1209494233), ('Hugo Weaving', 1201151589), ('Stellan SkarsgÃ¥rd', 1199116345), ('Ed Helms', 1195018840), ('Patrick Stewart', 1193273688), ('Christopher Plummer', 1190137280), ('James McAvoy', 1178987928), ('Amanda Peet', 1177312381), ('PenÃ©lope Cruz', 1168450274), ('Steve Coogan', 1166801573), ('Will Ferrell', 1165510652), ('RenÃ©e Zellweger', 1164990827), ('Queen Latifah', 1154625474), ('Rosamund Pike', 1134755001), ('Mark Strong', 1131611562), ('Richard Harris', 1131328909), ('Idina Menzel', 1124219009), ('Jonathan Groff', 1124219009), ('Santino Fontana', 1124219009), ('Thomas Haden Church', 1122456954), ('Jeff Bridges', 1120780625), ('Joaquin Phoenix', 1120274502), ('Andy GarcÃ\\xada', 1117749317), ('Heath Ledger', 1111508240), ('Rose Byrne', 1107178907), ('Billy Crystal', 1101686608), ('Justin Bartha', 1097159972), ('Neil Patrick Harris', 1093496678), ('Chiwetel Ejiofor', 1093097183), ('Jesse Eisenberg', 1092766286), ('Anna Faris', 1081636934), ('Mel Gibson', 1079231358), ('Carrie-Anne Moss', 1079169881), ('Michael PeÃ±a', 1074664116), ('Rachel Weisz', 1072009252), ('Brian Cox', 1068874359), ('Jada Pinkett Smith', 1066567624), ('Jason Clarke', 1065051837), ('Martin Sheen', 1055310537), ('Emily Blunt', 1053071561), ('Brad Garrett', 1046311112), ('Billy Burke', 1039021060), ('Sean Bean', 1035597311), ('Jon Voight', 1033061074), ('Jane Lynch', 1031200074), ('John Cusack', 1031032432), ('Sharlto Copley', 1029873565), ('Naomie Harris', 1027867754), ('Skandar Keynes', 1024144587), ('Georgie Henley', 1024144587), ('Ian McShane', 1023678483), ('Benjamin Bratt', 1015810166), ('Elle Fanning', 1013929879), ('Ioan Gruffudd', 1010384046), ('John Cleese', 1009569409), ('Nicole Kidman', 1000969666), ('Matthew McConaughey', 999064410), ('Lucy Liu', 993283774), ('Emma Thompson', 987066274), ('Helen Mirren', 982061005), ('Ned Beatty', 973896514), ('Sylvester Stallone', 970268324), ('Joan Cusack', 966017065), ('Eddie Marsan', 954973067), ('Amy Poehler', 954595982), ('Pierce Brosnan', 952867243), ('Eva Green', 950504033), ('Salma Hayek', 945394032), ('Jennifer Connelly', 942585561), ('Kate Beckinsale', 938034028), ('Luke Evans', 929770819), ('Tim Allen', 928139970), ('Kerry Washington', 923826504), ('Jaden Smith', 922308630), ('Richard Jenkins', 921423264), ('Giovanni Ribisi', 919483785), ('Stanley Tucci', 916891529), ('Laurence Fishburne', 914806127), ('Anil Kapoor', 912623924), ('Arnold Schwarzenegger', 912241043), ('Kenneth Branagh', 912054905), ('Chris Pine', 902838990), ('Halle Berry', 901250736), ('Brendan Gleeson', 900356579), ('Miranda Cosgrove', 894761885), ('Ellen Page', 888883058), ('Timothy Spall', 884640240), ('Craig T. Nelson', 883328576), ('Chris Noth', 878232620), ('Joseph Gordon-Levitt', 877435832), ('Phyllis Smith', 874906101), ('Mia Wasikowska', 870458340), ('Colin Farrell', 865467136), ('Naomi Watts', 864926361), ('Catherine Zeta-Jones', 862954118), ('Reese Witherspoon', 862425360), ('Robbie Coltrane', 860502299), ('Drew Barrymore', 856424409), ('Forest Whitaker', 853551533), ('Paula Patton', 852390780), ('Maggie Grace', 851148760), ('Michael Douglas', 846264947), ('Crispin Glover', 843895173), ('Shailene Woodley', 839380546), ('Christopher Walken', 834792475), ('Adrien Brody', 833276217), ('Kristin Davis', 826406154), ('John Lithgow', 825191875), ('Albert Brooks', 823808214), ('Catherine Keener', 820589644), ('Billy Connolly', 812051007), ('Anna Kendrick', 800607398), ('Zachary Levi', 798194003), ('Vincent Cassel', 795027991), ('David Thewlis', 794194602), ('Sebastian Stan', 791289166), ('Milla Jovovich', 786655780), ('Jim Caviezel', 783829193), ('Chris Wedge', 782244782), ('Judy Greer', 777154799), ('Abigail Breslin', 772064316), ('Ellen DeGeneres', 770625978), ('Alexander Gould', 770625978), ('Dougray Scott', 770598375), ('Scott Glenn', 765359323), ('William Moseley', 763458370), ('Anna Popplewell', 763458370), ('Jon Favreau', 762627789), ('Ashton Kutcher', 761846333), ('Donald Sutherland', 761734071), ('Justin Timberlake', 760455865), ('Patrick Dempsey', 757202471), ('Julia Stiles', 755983128), ('Jae Head', 754237680), ('Freida Pinto', 752770729), ('Eric Bana', 747050749), ('LÃ©a Seydoux', 746344149), ('Dennis Quaid', 745536243), ('Bobby Cannavale', 742563614), ('Vera Farmiga', 739811245), ('Alice Braga', 738196047), ('Tom Hiddleston', 735144708), ('Eva Mendes', 731647728), ('Diane Lane', 730552719), ('Idris Elba', 729513850), ('Ron Perlman', 727076793), ('Jennifer Lopez', 722319779), ('Dakota Fanning', 722124237), ('Marisa Tomei', 720492109), ('Jessica Alba', 718956099), ('Jason Biggs', 718047825), ('Logan Lerman', 716360706), ('Dev Patel', 711318891), ('Jayma Mays', 709799821), ('Richard Roxburgh', 708901267), ('Maria Bello', 707992013), ('Joel Edgerton', 704417211), ('Richard Kind', 703138943), ('Larry the Cable Guy', 701835545), ('Toby Kebbell', 701402999), ('Ray Winstone', 701300816), ('Lewis Black', 699946257), ('Mary Steenburgen', 699297588), ('Keri Russell', 696330761), ('Topher Grace', 693867855), ('Jodie Foster', 692981079), ('Julianne Moore', 691873851), ('Teri Polo', 691336278), ('Helen Hunt', 688540250), ('Michelle Williams', 686220214), ('Cliff Robertson', 682708551), ('Rainn Wilson', 680060118), ('Elizabeth Reaser', 678281159), ('Tom Felton', 676586689), ('Selena Gomez', 676210369), ('Delroy Lindo', 675059230), ('Thomas Kretschmann', 673004361), ('Jeff Daniels', 670281878), ('Bryan Cranston', 668057463), ('Steve Martin', 662007236), ('Sienna Miller', 660670762), ('Terrence Howard', 654463199), ('Zac Efron', 649963240), ('Sarah Jessica Parker', 649315022), ('John C. Reilly', 648400516), ('Barbra Streisand', 647293524), ('Seth MacFarlane', 647231921), ('Katherine Heigl', 647162538), ('Emily Mortimer', 646992715), ('Dane DeHaan', 646176007), ('Kevin McNally', 645340751), ('David Wenham', 645001947), ('Jack Nicholson', 642197880), ('Michael Shannon', 641150621), ('Diane Kruger', 634477126), ('Olga Kurylenko', 633615983), ('Audrey Tautou', 633239851), ('Oliver Platt', 633203913), ('Rowan Atkinson', 632048651), ('Luis GuzmÃ¡n', 630895549), ('Brendan Fraser', 629714029), ('Ellie Kemper', 629450790), ('Cedric the Entertainer', 628899385), ('Michelle Monaghan', 626259328), ('Anton Yelchin', 626210342), ('James Cromwell', 623756015), ('Zooey Deschanel', 623426479), ('Johnny Knoxville', 620515040), ('Kate Winslet', 619303024), ('Ed Asner', 619115486), ('Thomas Ian Nicholas', 618992382), ('Henry Cavill', 616758227), ('Dave Franco', 613786961), ('Karl Urban', 613344026), ('Isla Fisher', 612590868), ('Orto Ignatiussen', 611392705), ('Phaldut Sharma', 611392705), ('Sienna Guillory', 611264335), ('Jennifer Garner', 608226957), ('Philip Seymour Hoffman', 608117250), ('Juno Temple', 606545351), ('Alexandra Daddario', 603808737), ('Dave Bautista', 603312399), ('Karen Allen', 601636033), ('Paul Giamatti', 599499410), ('Kelly Macdonald', 598073029), ('Rhys Ifans', 594437873), ('Rachael Taylor', 594336566), ('Corey Stoll', 593427556), ('Robert Redford', 593392802), ('Alec Baldwin', 591993156), ('John Hannah', 591141913), ('Edward Norton', 589530364), ('Amy Sedaris', 589420142), ('Helmut Bakaitis', 588599701), ('Mickey Rourke', 586892036), ('Rosemary Harris', 583766341), ('Patton Oswalt', 582795167), ('Casey Affleck', 582153994), ('Maia Morgenstern', 581899420), ('Christo Jivkov', 581899420), ('Francesco De Vito', 581899420), ('Rebel Wilson', 579280902), ('Isobelle Molloy', 578410378), ('Evangeline Lilly', 577870671), ('Dakota Johnson', 576427145), ('Billy Crudup', 573934412), ('James Marsden', 571809610), ('Holly Hunter', 571476924), ('Andy Samberg', 571426877), ('Kathy Bates', 569019388), ('Bruce Greenwood', 568430075), ('Leslie Bibb', 568035770), ('Alan Cumming', 566683503), ('Terence Stamp', 565203293), (\"Dylan O'Brien\", 564576787), ('Kaya Scodelario', 564576787), ('Hugh Grant', 564316793), ('Kyle Gallner', 564171460), ('Domhnall Gleeson', 563794227), ('Tim Robbins', 561525781), ('Bonnie Hunt', 561377092), ('Clive Owen', 560641754), ('Zachary Quinto', 560393348), ('Chris Tucker', 560086749), ('Tobin Bell', 559671044), ('Liev Schreiber', 558666747), ('Martin Lawrence', 557993182), ('Jamie Bell', 557647300), ('Jessica Biel', 557197075), ('Mandy Moore', 556520122), ('Jordan Nagai', 556342744), ('Bob Peterson', 556342744), ('Kim Cattrall', 553822776), ('Colm Feore', 552759977), ('ChloÃ« Grace Moretz', 548674908), ('Melissa McCarthy', 547668075), ('Hailee Steinfeld', 543785173), ('Joel Murray', 543559607), ('Cherry Jones', 540519203), ('Dominique Louis', 539442092), ('Cynthia Nixon', 538600478), ('Lena Headey', 537458756), ('AnnaSophia Robb', 536552784), ('Alan Arkin', 534499217), ('Jean Reno', 534052399), ('Mads Mikkelsen', 532613817), ('Rebecca Ferguson', 532330139), ('Mathieu Amalric', 530691045), ('Kyle Chandler', 530568816), ('Bill Paxton', 529840710), ('Jamie Dornan', 529651467), ('Eloise Mumford', 529651467), ('Miles Teller', 529621773), ('Richard Gere', 528795720), ('Jeffrey Wright', 528642754), ('Tilda Swinton', 528344134), ('Jennifer Ehle', 527336389), ('Goran Visnjic', 526565466), ('Sam Elliott', 526347280), ('Emmy Rossum', 525596106), ('Juliette Binoche', 525517827), ('Benedict Cumberbatch', 525471273), ('Dominic West', 524830589), ('Lisa Ann Walter', 524701295), ('Harvey Keitel', 524225881), ('David Spade', 522975263), ('Oded Fehr', 522125942), ('Alfre Woodard', 521936035), ('Christopher Eccleston', 520685031), ('Maya Rudolph', 518434765), ('Victor Rasuk', 518063424), ('Michael Chiklis', 514038655), ('Anthony Mackie', 514005153), ('Ian Holm', 513280933), ('Regina Hall', 512855582), ('Joel McHale', 512793141), ('Freddie Highmore', 509788079), ('Jamie Chung', 505687664), ('Suraj Sharma', 502324192), ('Timothy Olyphant', 500434857), ('Gemma Arterton', 500287903), ('David Andrews', 499692268), ('Alison Brie', 499581896), ('Jai Courtney', 497432334), ('Miranda Otto', 497367502), ('Ice Cube', 494678205), ('Michael Clarke Duncan', 494368059), ('Winona Ryder', 493716892), ('Ayush Tandon', 489016565), ('Gautam Belur', 489016565), ('Adil Hussain', 489016565), ('Jet Li', 487323184), ('Scott Adsit', 487105443), ('Ryan Potter', 487105443), ('Daniel Henney', 487105443), ('T.J. Miller', 487105443), ('Djimon Hounsou', 486979697), ('Olivia Wilde', 486327016), ('Christine Baranski', 483918135), ('Sam Neill', 483823850), ('Cole Konis', 483507423), ('Ben Reed', 483507423), ('Taraji P. Henson', 483329975), ('Rick Yune', 481717388), ('Brian Dennehy', 480565360), ('Ali Larter', 479064187), ('Daryl Sabara', 478903383), ('Ansel Elgort', 478389466), ('Charlie Tahan', 477840078), ('Kris Kristofferson', 477657760), ('Aaron Taylor-Johnson', 475223287), ('Lou Romano', 473722818), ('Peter Sohn', 473722818), ('Rip Torn', 470015453), ('Emily Watson', 466713286), ('Jake Cherry', 464480841), ('Dick Van Dyke', 464480841), ('Carlos Alazraqui', 464466481), ('Lily James', 463958096), ('Heather Graham', 463828734), ('Clint Eastwood', 463805523), ('Diego Luna', 458424322), ('Hayden Panettiere', 457187783), ('Justin Chatwin', 456549492), ('Zach Braff', 456301213), ('Tina Fey', 454873580), ('James Caan', 454771605), ('Nikolaj Coster-Waldau', 454447536), ('J.K. Simmons', 453964231), ('Julian McMahon', 453774314), ('Anthony Anderson', 452314844), ('William Fichtner', 452167599), ('Dan Castellaneta', 452068851), ('Julie Kavner', 452068851), ('Nancy Cartwright', 452068851), ('Yeardley Smith', 452068851), ('Theo James', 451386096), ('Josh Hartnett', 448026707), ('Mary Gibbs', 447816256), ('James Coburn', 447816256), ('Richard Madden', 447351353), ('Holliday Grainger', 447351353), ('Jeff Garlin', 445745727), ('Bernie Mac', 444693491), ('Jim Broadbent', 443352706), ('Paul Newman', 442984627), ('Sarah Michelle Gellar', 442870153), ('Roselyn SÃ¡nchez', 441065487), ('Ryan Gosling', 440211949), ('Brittany Snow', 436873169), ('Noomi Rapace', 436109472), ('Salli Richardson-Whitfield', 435349010), ('Willow Smith', 435349010), ('Chris Klein', 435282191), ('Eddie Kaye Thomas', 434002798), ('John Turturro', 432768918), ('Hilary Swank', 432696905), ('Patrick Wilson', 430331003), ('Katie Holmes', 430070539), ('Adam Scott', 429541084), ('Lainie Kazan', 428606561), ('Michael Ealy', 428540162), ('Amber Valletta', 426295632), ('Cloris Leachman', 425220295), ('Adam Brody', 423513599), ('Michael Stuhlbarg', 423457110), ('Choi Min-sik', 423360063), ('Amr Waked', 423360063), ('Julian Rhind-Tutt', 423360063), ('CiarÃ¡n Hinds', 423311648), ('Matthew Gray Gubler', 421362739), ('Dash Mihok', 419272402), ('Jay O. Sanders', 419272402), ('TÃ©a Leoni', 417593371), ('Pamela Anderson', 416245961), ('Ray Liotta', 415719306), ('Dane Cook', 413151166), ('Cliff Curtis', 412941831), ('Alex Pettyfer', 412826358), ('Craig Berry', 409160692), ('David Burrows', 409160692), ('Bill Murray', 407752684), ('Nicholas Hoult', 407587394), ('Dolph Lundgren', 407043817), ('Arnold Vosloo', 405891190), ('Costas Mandylor', 405794229), ('Betsy Russell', 405794229), ('Marton Csokas', 405228619), ('Philip Baker Hall', 404572835), ('Catherine Bell', 404572835), ('Imelda Staunton', 404212575), ('Paul Dano', 403873413), ('Nick Nolte', 403445301), ('John Travolta', 403405634), ('William Hurt', 403331749), ('Rob Riggle', 402801764), ('Radha Mitchell', 401932263), ('Sarah Silverman', 400313407), ('Taylor Swift', 399385595), ('Will Poulter', 397950503), ('Paul Anderson', 397950503), ('Franka Potente', 397816737), ('Tom Wilkinson', 397238043), ('Margot Robbie', 395863657), ('Will.i.am', 394635760), ('Skylar Astin', 391922292), ('Alyson Hannigan', 389987213), ('Karin Konoval', 389860185), ('Hiroyuki Sanada', 389425381), ('Michael Cera', 387768635), ('Carey Mulligan', 387018110), ('Giancarlo Giannini', 386090727), ('David Strathairn', 385951240), ('Charlie Day', 384294109), ('Eric Dane', 383087803), ('Peter Sarsgaard', 382395787), ('Mireille Enos', 382248361), ('Linda Cardellini', 382011095), ('Sterling Jerins', 381283872), ('Kevin Hart', 377789603), ('Rade Serbedzija', 375451072), ('Nia Long', 375064250), ('Tyler Perry', 373940912), ('BeyoncÃ© Knowles', 372401927), ('Garrett Hedlund', 371812586), ('Cuba Gooding Jr.', 370912485), ('Robert Patrick', 370580110), ('Uma Thurman', 368211132), ('Kate Hudson', 366959265), ('Nat Wolff', 366663565), ('Miley Cyrus', 365967227), ('Christina Applegate', 365757395), ('Victor Garber', 365624623), ('Jonathan Rhys Meyers', 364700455), ('Billy Bob Thornton', 364246828), ('Kevin Bacon', 363771092), ('Brandon T. Jackson', 363764023), ('John Corbett', 363744044), ('Michael Constantine', 363744044), ('Andrea Martin', 363744044), ('Vincent Regan', 363481532), ('Archie Panjabi', 363419703), ('Mia Drake Inderbitzin', 362910544), ('Saurabh Shukla', 362910544), ('Jason Sudeikis', 362232725), ('Joey King', 360366878), ('Al Pacino', 360333201), ('Rami Malek', 359701918), ('Robin Wright', 358996629), ('Nia Vardalos', 358540336), ('Kevin McKidd', 356887926), ('Fred Willard', 355436781), ('Oliver Reed', 354640427), ('Alexa PenaVega', 353669520), ('Scott Speedman', 352866375), ('Max von Sydow', 352453040), ('Alan Ritchson', 352200000), ('Noel Fisher', 352200000), ('Clancy Brown', 348706648), ('Jordi MollÃ\\xa0', 348607282), ('Dominic Cooper', 348087876), ('Tom Kenny', 347755824), ('Bill Fagerbakke', 347755824), ('Rodger Bumpass', 347755824), ('Carolyn Lawrence', 347755824), ('Thomas Brodie-Sangster', 347746748), ('Paddy Considine', 346688379), ('William H. Macy', 344483139), ('Katie Cassidy', 344397443), ('Elizabeth Olsen', 343937091), ('America Ferrera', 343931820), ('Ben Burtt', 341311860), ('Elissa Knight', 341311860), ('John Ratzenberger', 341311860), ('Taron Egerton', 340775130), ('Colin Hanks', 340483410), ('Jeffrey Garcia', 340271840), ('Paul Sanchez', 339632142), ('Lari White', 339632142), ('Mary Elizabeth Winstead', 339393405), ('Wendi McLendon-Covey', 339378133), ('Katie Featherston', 338521810), ('Sprague Grayden', 338521810), ('Connie Nielsen', 337764917), ('Marlon Wayans', 337371291), ('John Hurt', 336626586), ('Christine Taylor', 336394656), ('Rory Culkin', 336247917), ('Sebastian Koch', 335264655), ('Jeffrey Tambor', 335133080), ('Zhang Ziyi', 334568764), ('Cheech Marin', 333362142), ('Abigail Hargrove', 331865000), ('Lake Bell', 331830154), ('Donna Murphy', 331794936), ('M.C. Gainey', 331794936), ('Luke Grimes', 331141306), ('Will Patton', 331099921), ('Rob Corddry', 330479849), ('Abbie Cornish', 329521191), ('Chris Cooper', 328901914), ('Rihanna', 327896492), ('Rosario Dawson', 325549017), ('Ike Barinholtz', 325168453), ('Julia Winter', 324968763), ('Kiefer Sutherland', 324558368), ('Christopher Mintz-Plasse', 324114566), ('Ginnifer Goodwin', 320600237), ('Regina King', 320148152), ('Yu Rong-Guang', 317852395), ('Tess Liu', 317852395), ('Alessandro Nivola', 317701448), ('Candice Bergen', 317622424), ('William Atherton', 316758981), ('Chad Lindberg', 316758981), ('Josh Lucas', 316071535), ('Steve Zahn', 315899202), ('Barbara Hershey', 314803731), ('Craig Ferguson', 314338759), ('Ki Hong Lee', 314319861), ('Aml Ameen', 314319861), ('Blake Cooper', 314319861), ('Kathleen Turner', 313919386), ('Eddie Izzard', 313883436), ('Carmen Electra', 313666602), ('Bailee Madison', 313503850), ('Malin Ã…kerman', 311396283), ('Brie Larson', 308954009), ('Carrie Coon', 308330363), ('Amy Smart', 307241727), ('Michael B. Jordan', 307184973), ('Jack McBrayer', 306222889), ('Jamie Elman', 306222889), ('Lili Taylor', 305000141), ('Johnny A. Sanchez', 304742074), ('Ben Whishaw', 304547718), ('Lauren Holly', 304111707), ('Mark Feuerstein', 304111707), ('Lindsay Lohan', 304093222), ('Daryl Hannah', 303335530), ('Cole Hauser', 303071262), ('Bruce McGill', 302157427), ('Laura Dern', 302152061), ('Ron Livingston', 302080819), ('Lara Flynn Boyle', 301818803), ('Cameron Richardson', 301366633), ('Vanessa Hudgens', 300863056), ('Miranda Richardson', 299996214), ('Brittany Murphy', 299458824), ('Kelly Reilly', 298947962), ('Ray Stevenson', 298241422), ('Ken Davitian', 298219575), ('Julie Ann Emery', 298100420), ('Debra Messing', 297604990), ('Benicio del Toro', 295610402), ('Jackie Earle Haley', 295570609), ('Tao Okamoto', 295440673), ('Rila Fukushima', 295440673), ('Svetlana Khodchenkova', 295440673), ('Dan Aykroyd', 293584844), ('Sam Trammell', 293151265), ('Mekhi Phifer', 293003144), ('Piper Perabo', 292553004), ('Rob Reiner', 292000694), ('Toby Stephens', 291971116), ('Maggie Q', 291840595), ('MÃ©lanie Laurent', 291829944), ('Sam Rockwell', 291694934), ('Toni Collette', 290270905), ('Betty White', 289380279), ('Danny DeVito', 289182477), ('Nick Frost', 289106272), ('Aidan Gillen', 285860739), ('Tim McGraw', 285737503), ('Emilia Clarke', 285603537), ('Iain Glen', 285299105), ('Lombardo Boyar', 284335608), ('Eugene Levy', 284226112), ('Morris Chestnut', 283900987), ('Kim Coates', 283829116), ('Selma Blair', 283812094), ('Li Bingbing', 283565879), ('Rhona Mitra', 283330100), ('Rufus Sewell', 283067629), ('John Ortiz', 282906331), ('Matt Dillon', 281560659), ('Hugh Laurie', 281559499), ('Quinton Aaron', 280208309), ('Aaron Paul', 280059764), ('Tim Roth', 279208440), ('Elizabeth Debicki', 279185528), ('Blythe Danner', 278444045), ('Simon Baker', 276785665), ('Jason Isaacs', 275983276), ('Trevor Morgan', 275780809), ('Mary Alice', 274988211), ('Dwight Yoakam', 274658879), ('Claire Danes', 273673663), ('Mike Vogel', 273115409), ('David Carradine', 273108461), ('Sean Penn', 271696359), ('Albert Finney', 271259703), ('Hilary Duff', 270610291), ('RamÃ³n RodrÃ\\xadguez', 269744392), ('Maggie Gyllenhaal', 269674681), ('Greg Kinnear', 269235857), ('Jessica Lange', 268946856), ('Christina Ricci', 268257275), ('Courteney Cox', 267852767), ('Jenny Slate', 267695435), ('Andy Buckley', 267695435), ('Amy Ryan', 267684432), ('Haley Joel Osment', 267313963), ('Kurt Russell', 265634340), ('Seth Green', 264975627), ('Jean Smart', 264566577), ('Michelle Pfeiffer', 264177927), ('Dermot Mulroney', 263242401), ('Katy Perry', 263161134), ('Lynn Collins', 262837708), ('Gary Sweet', 260686217), ('Arthur Angel', 260686217), ('Robert Duvall', 260013146), ('Asia Argento', 259693324), ('Dave Sheridan', 259019771), ('Jon Abrahams', 259019771), ('Bridget Moynahan', 258879115), ('Teresa Palmer', 258404013), ('Keith David', 257437977), ('Adam G. Sevani', 257108509), ('Ben Mendelsohn', 256408655), ('Lois Smith', 256372926), ('Luke Ford', 256128639), ('Rachel Covey', 255487652), ('Ernie Reyes, Jr.', 253242294), ('Rebecca Hall', 253067472), ('Brian Howe', 252077295), ('James Karen', 252077295), ('Elisabeth Shue', 252046440), ('Joel Kinnaman', 251968388), ('Eli Roth', 249131050), ('Annabelle Wallis', 248773813), ('Eric Ladin', 248773813), ('Tony Amendola', 248773813), ('Gabriel Bateman', 248773813), ('Jessica Lowndes', 248586800), ('Gia Mantegna', 248586800), ('Tom Welling', 247595375), ('Haley Bennett', 247560950), ('Derek Mears', 247182526), ('Gemma Jones', 247132815), ('David Harbour', 243864415), ('Luenell', 243572744), ('Bob Barr', 243572744), ('Samantha Morton', 241936482), ('Tom McGrath', 241552094), ('Chris Miller', 241552094), ('Christopher Knights', 241552094), ('Conrad Vernon', 241552094), ('Luke Wilson', 238940820), ('Taylor Kitsch', 237787675), ('Mike Epps', 237458441), ('Christopher Carley', 236958228), ('Bee Vang', 236958228), ('Ahney Her', 236958228), ('Brian Haley', 236958228), ('Wentworth Miller', 236221663), ('Kacey Barnfield', 236221663), ('Leonard Nimoy', 235680446), ('Nick Stahl', 235000000), ('D. B. Sweeney', 234970792), ('Raini Rodriguez', 234890373), ('Yaya DaCosta', 234804829), ('Matt Jones', 233871007), ('Michael York', 233633907), ('Mindy Sterling', 233633907), ('Adam Goldberg', 232928991), ('Scott Patterson', 232410166), ('Jessica Lucas', 231736080), ('Kevin Durand', 231187166), ('Charlie Sheen', 231051961), ('Simon Rex', 231051961), ('Patricia Clarkson', 230898767), ('Michael Sheen', 230753273), ('Bruce Boxleitner', 230062763), ('David Koechner', 229048314), ('Hugh Keays-Byrne', 228436354), ('Josh Helman', 228436354), ('Burn Gorman', 227602906), ('Sullivan Stapleton', 227580051), ('Callan Mulvey', 227580051), ('DemiÃ¡n Bichir', 227434297), ('Alan Tudyk', 227234916), ('Marion Cotillard', 227113544), ('Charlie Hunnam', 226961836), ('Ossie Davis', 226748063), ('Max Casella', 226748063), ('Sam Claflin', 226600000), ('Jennifer Coolidge', 226396741), ('Marg Helgenberger', 225908549), ('Jon Bernthal', 225903742), ('Kellan Lutz', 223847506), ('Hayley Atwell', 223774065), ('Harry Connick Jr.', 222675086), ('Taylor Momsen', 222141403), ('Bill Irwin', 222141403), ('Shaun Toub', 221778970), ('Viola Davis', 221393401), ('Camilla Belle', 220432286), ('Ty Burrell', 220321935), ('Stacy Keach', 220102693), ('Rory Kinnear', 219555708), ('Allen Leech', 219555708), ('Cillian Murphy', 219380845), ('Noah Taylor', 218708728), ('Matthew Broderick', 218402345), ('Jeremy Irons', 218347965), ('Odette Annable', 218283324), ('Gabrielle Union', 218048807), ('Meagan Good', 218025354), ('Matthew Goode', 217572727), ('Sanaa Lathan', 217305912), ('John Hawkes', 216909849), ('James Garner', 216541086), ('Kevin Kline', 215296890), ('January Jones', 213924167), ('Ben Barnes', 213830026), ('Gene Hackman', 213193625), ('Yuliya Snigir', 212654182), ('Kristanna Loken', 212405420), ('Matthew Lillard', 210976969), ('Ludacris', 210767566), ('Julia Ormond', 210210178), ('Joel Courtney', 210095987), ('Riley Griffiths', 210095987), ('Ryan Lee', 210095987), ('Jake Johnson', 210087448), ('Shawn Wayans', 209902274), ('Kim Basinger', 209613391), ('Val Kilmer', 209136681), ('Heather Matarazzo', 208904109), ('Susan Sarandon', 208618170), ('Wanda Sykes', 208548258), ('Jared Harris', 208392465), ('Harry Lloyd', 208158639), ('Jennifer Jason Leigh', 208091055), ('Martin Henderson', 207895130), ('Michael Roof', 207448382), ('Rooney Mara', 207201893), ('Ayelet Zurer', 206613439), ('Pierfrancesco Favino', 206613439), ('Tracy Morgan', 205996766), ('T.I.', 205476463), ('Gregor Fisher', 204931766), ('Max Baldry', 204736344), ('Emma de Caunes', 204736344), ('Spencer Breslin', 204577968), ('Peter Capaldi', 204207227), ('Nicola Peltz', 204002923), ('Carol Burnett', 203543259), ('Holly Valance', 201830568), ('David Dorfman', 201348933), ('Shannon Cochran', 201348933), ('Yvan Attal', 200967156), ('Lauren Bittner', 200703818), ('Christopher Nicholas Smith', 200703818), ('Chloe Csengery', 200703818), ('Alan Alda', 200541096), ('Moon Bloodgood', 200396057), ('Jim Parsons', 200319392), ('Marcia Gay Harden', 200008773), ('Armie Hammer', 199979886), ('Danny Glover', 199877478), ('George Lopez', 199705959), ('Karel Roden', 199236344), ('Robert Carlyle', 198526545), ('Kyra Sedgwick', 197326618), ('Lucy Punch', 196197492), ('Diane Keaton', 195371175), ('Eric Roberts', 194470394), ('Randy Couture', 194470394), ('Lily Collins', 193980229), ('Patrick Warburton', 193601129), ('Alakina Mann', 192947037), ('James Bentley', 192947037), ('Eric Sykes', 192947037), ('Jonas Armstrong', 192541256), ('James Badge Dale', 192336852), ('William Shatner', 192145118), ('Eddie Redmayne', 192038879), ('Shane Brolly', 191376455), (\"Chris O'Donnell\", 191080764), ('Hannibal Buress', 190360392), ('Kenneth Welsh', 189863608), ('Kathryn Hahn', 189716103), ('Dakota Goyo', 189268508), ('Sean Patrick Thomas', 188890330), ('Max Minghella', 188588606), ('Nate Parker', 188035744), ('Cam Gigandet', 187673245), ('Dakota Blue Richards', 187305194), ('Michael Jeter', 187172023), ('David Arquette', 186771338), ('Mike Colter', 186763646), ('Lizzy Caplan', 186730379), ('Laura Linney', 186305352), ('Blake Lively', 186065154), ('Ben Foster', 186056323), ('Gillian Anderson', 185762289), ('Mel Brooks', 185696994), ('Paula Abdul', 185696994), ('Steve Toussaint', 185154643), ('Jacki Weaver', 184738714), ('Rob Schneider', 184255624), ('Briana Evigan', 183688466), ('Peter Dinklage', 183687977), ('Daniel Olbrychski', 183329073), ('Spencer Treat Clark', 183297423), ('Jacob Vargas', 183098900), ('Juliette Lewis', 182571105), ('Alex Russell', 182394288), ('Douglas Smith', 182108530), ('Imogen Poots', 181901330), ('F. Murray Abraham', 181650082), (\"James D'Arcy\", 181632382), ('Emile Hirsch', 181198088), ('Malcolm McDowell', 181006465), ('Aziz Ansari', 180974074), ('Nathalie Boltt', 180819611), ('Sylvaine Strike', 180819611), ('Elizabeth Mkandawie', 180819611), ('Chi McBride', 180721728), ('Saoirse Ronan', 180422610), ('Robert Forster', 180342265), ('Lucy Lawless', 180067301), ('Barry Pepper', 179944702), ('Jane Horrocks', 179834564), ('Neve Campbell', 178972962), ('Virginia Madsen', 178869118), ('Colm Meaney', 178720382), ('Steven Strait', 178597471), ('Freddie Prinze Jr.', 178396436), ('Steven Berkoff', 178346189), ('Kaley Cuoco', 177753603), ('Michelle Dockery', 177332826), ('Jared Leto', 176835560), ('Aryana Engineer', 175159255), ('Pihla Viitala', 174803475), ('Jake Thomas', 174461007), ('Eminem', 174000000), (\"O'Shea Jackson Jr.\", 173634991), ('Corey Hawkins', 173634991), ('Jason Mitchell', 173634991), ('Neil Brown Jr.', 173634991), ('Aldis Hodge', 173634991), ('Jason Behr', 173474602), ('William Mapother', 173474602), ('KaDee Strickland', 173474602), ('John Patrick Amedori', 173118121), ('Michael Vartan', 172939078), ('Jenny McCarthy', 172673217), ('Marny Eng', 172673217), ('Lisa Kudrow', 172502985), ('Melissa George', 172309133), ('Will Forte', 172149533), ('John Forsythe', 172105545), ('Jason Cope', 171857353), ('Kal Penn', 171097126), ('Miranda Hart', 170666219), ('Liam Aiken', 170075123), ('Julia Louis-Dreyfus', 169788712), ('Burt Reynolds', 169124244), ('Jason Flemyng', 168970245), ('Breckin Meyer', 168861122), ('Noah Ringer', 168502923), ('Jackson Rathbone', 168502923), ('Michael Irby', 168387299), ('Eric Winter', 167298907), ('Bree Turner', 167298907), ('Nick Searcy', 167298907), ('Zachary Gordon', 167230068), (\"Chris O'Dowd\", 167219958), (\"Lupita Nyong'o\", 167000000), ('Timothy Dalton', 166861033), ('Lymari Nadal', 166465037), ('Nick Offerman', 166432701), ('Ed Oxenbould', 166104211), ('Peter Berg', 165742693), ('Kate Beahan', 165379313), ('Gary Cole', 165091020), ('Dylan Minnette', 164824964), ('Scoot McNairy', 164787749), ('Tommy Flanagan', 164633781), ('Garry Marshall', 164432665), ('Don Knotts', 164432665), ('Shirley MacLaine', 163493053), ('James Corden', 162902372), ('Melissa Leo', 162700211), ('Peter Sallis', 162452832), ('Nicholas Smith', 162452832), ('Liz Smith', 162452832), ('Danielle Panabaker', 162198734), ('Anika Noni Rose', 162045765), ('Bruno Campos', 162045765), ('Michael-Leon Wooley', 162045765), ('Jennifer Cody', 162045765), ('Jimmy Bennett', 161360615), ('Nathanael Baring', 161000000), ('Mo Zinal', 161000000), ('Andrea Riseborough', 160623804), ('Mark Rolston', 160291162), ('Cody Horn', 160221571), ('Wesley Snipes', 160049430), ('Susie Essman', 159979994), ('Mark Walton', 159979994), ('Rachael Harris', 159971800), ('Anders Holm', 159564672), ('JoJo Kushner', 159564672), ('TomÃ¡s MiliÃ¡n', 159515725), ('Russell G. Jones', 159515725), ('Clea DuVall', 159485434), ('Giancarlo Esposito', 159419636), ('TchÃ©ky Karyo', 158940456), ('Tyler Hilton', 158438883), ('Werner Herzog', 158340595), ('Lauren Graham', 158217252), ('Chris Messina', 157725355), (\"Keir O'Donnell\", 157293131), ('Shirley Knight', 157293131), ('Amara Miller', 157243185), ('Nick Krause', 157243185), ('Carmen Ejogo', 157208224), ('Raymond Ochoa', 156926147), ('Jack Bright', 156926147), ('Maleah Nipay-Padilla', 156926147), ('Kate Upton', 156781193), ('Don Johnson', 156781193), ('Aaron Yoo', 156557270), ('Amanda Bynes', 156381561), ('Isabel Lucas', 156147287), ('Joy Bryant', 156085164), ('Gena Rowlands', 156048576), ('Rhys Darby', 155990978), ('Sasha Alexander', 155990978), ('Fionnula Flanagan', 155990978), ('Kevin Spacey', 155936167), ('Corey Burton', 155916407), ('Tim Meadows', 155733810), ('Matthew Perry', 155425093), ('Sean Hayes', 155191803), ('David Hasselhoff', 155181299), ('Henry Winkler', 155181299), ('FranÃ§ois BerlÃ©and', 155076120), ('Scott Porter', 155030280), ('Robert Knepper', 154945302), ('Charles Dance', 154397822), ('Eric Balfour', 154392691), ('Elizabeth Perkins', 154328874), ('Jaime King', 154235108), ('Shawnee Smith', 153876815), ('Bahar Soomekh', 153876815), ('Dina Meyer', 153876815), ('Craig Bierko', 153802531), ('Donal Logue', 153761794), ('Frankie Muniz', 153462440), ('Joey Lauren Adams', 152999686), ('Edgar RamÃ\\xadrez', 152663213), ('Melanie Lynskey', 152094826), ('Kyla Pratt', 151866922), ('Sophie Okonedo', 151752523), ('Jake Abel', 150824410), ('Jennifer Love Hewitt', 150804534), ('Stephen Tobolowsky', 150804534), ('Evan Arnold', 150804534), ('Mae Whitman', 150708634), ('Matthew Macfadyen', 150422431), ('Jennifer Carpenter', 149427685), ('Ed Speleers', 149288105), ('Ryan Guzman', 148636392), ('Stephen Boss', 148636392), ('Olivia Thirlby', 148444968), ('Jessica Barth', 147863606), ('Noah Schnapp', 147233113), ('Bill Melendez', 147233113), ('Venus Schultheis', 147233113), ('Hadley Belle Miller', 147233113), ('Madisyn Shipman', 147233113), ('John Krasinski', 146501397), ('Bobby Campo', 146167139), ('Shantel VanSanten', 146167139), ('Nick Zano', 146167139), ('Haley Webb', 146167139), ('Krista Allen', 146167139), ('Michael Stahl-David', 145764026), ('Allison Miller', 145701451), ('Keegan Connor Tracy', 145622824), ('Art Parkinson', 145529201), ('Frank Grillo', 145489226), ('Elizabeth Mitchell', 144961310), ('Daniel Day-Lewis', 144954049), ('Vinnie Jones', 144692216), ('Tony Revolori', 144600318), ('Mariah Carey', 144570008), ('Jascha Washington', 143959438), ('Sarah Gadon', 143554798), ('Aksel Hennie', 143400000), ('Peter Stormare', 143331354), ('HÃ©ctor Elizondo', 143092196), ('Mr. T', 142988466), ('Ewen Bremner', 142414904), ('Daniel Tay', 141398518), ('Eddie Deezen', 140875730), ('Chris Coppola', 140875730), ('Nona Gaye', 140875730), ('Robert Hoffman', 140697756), ('Eric Christian Olsen', 140648749), ('Shuler Hensley', 140257475), ('Nina Dobrev', 140021271), ('Rene Russo', 139945860), ('Vivica A. Fox', 139535376), ('Romola Garai', 139464361), ('Angus Macfadyen', 139236460), ('50 Cent', 138878201), ('Sean Connery', 138314968), ('Tom Holland', 138274123), ('Samuel Joslin', 138274123), ('Oaklee Pendergast', 138274123), ('Gong Li', 138207355), ('Kathryn Newton', 137817992), ('Matt Shively', 137817992), ('Brady Allen', 137817992), ('Billy Ray Cyrus', 137781822), ('Jerry Seinfeld', 137594577), ('Robin Tunney', 137269622), ('Rachel Bilson', 137231186), ('Olivia Munn', 137191626), ('Michael Rooker', 137000488), ('Georgina Cates', 136831537), ('Spike Jonze', 136831537), ('Kelly Hu', 136822738), ('Ashley Judd', 136268248), ('Sam Robards', 135926552), ('Treat Williams', 135000000), ('Griffin Gluck', 134918407), ('Andrew Howard', 134849455), ('Bette Midler', 134255996), ('Jackson Nicoll', 134248899), ('Odeya Rush', 134151271), ('Brooklyn Decker', 133725485), ('Wendie Malick', 133100209), ('Angie Harmon', 132821926), ('Jay Hernandez', 132730436), ('Bianca A. Santos', 132558413), ('Will Rothhaar', 132466756), ('Cory Hardrict', 132466756), ('Julie Bowen', 132276397), ('Kevin Chapman', 131822020), ('Burt Young', 131721132), ('Geraldine Hughes', 131721132), ('James Francis Kelly III', 131721132), ('Megan Charpentier', 131497771), ('Isabelle NÃ©lisse', 131497771), ('Daniel Kash', 131497771), ('Tony Shalhoub', 130854889), ('Max Baker', 130427240), ('Beverly Todd', 130372502), ('Rob Morrow', 130372502), ('Michael Kelly', 130000000), ('Anna Wood', 130000000), ('Rachel Melvin', 129837010), ('Brady Bluhm', 129837010), ('Stephen Rea', 129637924), ('Sarah Roemer', 129561523), ('Jason Patric', 129406761), ('Lyriq Bent', 129352633), ('Isaiah Washington', 129345243), ('Rick Malambri', 129291809), ('Joe Slaughter', 129291809), ('Sharni Vinson', 129291809), ('Alyson Stoner', 129291809), ('Paul RodrÃ\\xadguez', 129281606), ('Tika Sumpter', 128997819), ('DJ Qualls', 128859820), ('Deborah Kara Unger', 128803872), ('Christina Hendricks', 128785290), ('George W. Bush', 128653030), ('Greta Gerwig', 128515837), ('Robert Schwartzman', 128335153), ('Devon Aoki', 128219628), ('David Moscow', 128211698), ('Julianne Hough', 128075854), ('Matthew Davis', 128022778), ('Max Charles', 127912430), ('Ariel Winter', 127912430), ('Glenn Close', 127822215), ('Will Kemp', 127816700), ('Cassie Ventura', 127816700), ('Aasif Mandvi', 127687160), ('Emmanuelle Chriqui', 127646883), ('DMX', 127484917), ('Annie Parisse', 127371441), ('Ulrich Thomsen', 127355814), ('Sean Astin', 126912589), ('Shane West', 126394388), ('Danny McBride', 126124074), ('Michael Moore', 126089539), ('Madison Pettis', 125880543), ('Steve Valentine', 125233863), ('Sage Ryan', 125233863), ('Campbell Scott', 125216468), ('John Slattery', 124601117), ('Snoop Dogg', 124196388), ('Nick Swardson', 124143748), ('Katee Sackhoff', 124032396), ('Jim Parrack', 123963748), ('Izabella Scorupco', 123725841), ('Shiloh Fernandez', 123606624), ('Walton Goggins', 123582442), ('Stephen Dillane', 122937682), ('Busta Rhymes', 122911117), ('David Krumholtz', 122791973), ('Lucas Black', 122752999), ('Jeremy Piven', 122644578), ('Mario', 122365631), ('Gordon Liu Chia-Hui', 122159461), ('Scott Foley', 121834276), ('Tom Cavanagh', 121584141), ('Lusia Strus', 121482882), ('Allen Covert', 121269535), ('Peter Gallagher', 121269535), ('Bam Margera', 121061024), ('Steve-O', 121061024), ('Chris Pontius', 121061024), ('Powers Boothe', 120844268), ('Zach Gilford', 120622067), ('Natalie Imbruglia', 120583018), ('Tasha de Vasconcelos', 120583018), ('Ben Miller', 120583018), ('Alicia Vikander', 120546410), ('Emily Osment', 120545279), ('Jason Earles', 120545279), ('Gina Gershon', 120500408), ('Damon Wayans Jr.', 119621271), ('Jillian Bell', 119566811), ('Janet Jackson', 119565262), ('Sean Patrick Flanery', 118779755), ('Wes Bentley', 118743128), ('Bella Thorne', 118523244), ('Jean Dujardin', 118432856), ('BÃ©rÃ©nice Bejo', 118432856), ('Penelope Ann Miller', 118432856), ('John Carroll Lynch', 118271525), ('Sydney Pollack', 117927599), (\"Frances O'Connor\", 117790499), ('Clifton Powell', 117721799), ('Amber Heard', 117613562), ('David Keith', 117419617), ('Kevin Nealon', 117314923), ('Doug Jones', 117306721), ('Alexander SkarsgÃ¥rd', 117231892), ('Siobhan Fallon', 117010817), ('Krysten Ritter', 116995982), ('Emilio Rivera', 116620422), ('Tyler Steelman', 116267476), ('Eli Wallach', 116204704), ('Michael Rapaport', 116179976), ('Fausto Callegarini', 116070171), ('Kerr Smith', 116037032), ('Milo Ventimiglia', 116016033), ('Michael J. Fox', 116010531), ('Jamie Lee Curtis', 115903649), ('Jeremy Irvine', 115894102), ('Bernard Hill', 115845187), ('Phil Collins', 115680000), ('Connor Funk', 115680000), ('Taran Killam', 115674180), ('David Oyelowo', 115490590), ('Nolan Gould', 115483765), ('Jimmi Simpson', 115368975), ('Russell Peters', 115332697), ('Michael Arden', 115332697), ('Roger Barclay', 115078586), ('Alexis Bledel', 114670926), ('Jaime Pressly', 114393013), ('Sayed Badreya', 114379533), ('ZoÃ« Kravitz', 113843127), ('Glenn Morshower', 113843127), ('Gerald McRaney', 113789176), ('Sarah Jane Morris', 113167691), ('Stevie Wonder', 113114517), ('Al Gore', 113114517), ('Guy Torry', 112792834), ('Michael Angarano', 112688396), ('Joan Plowright', 112675402), ('Robert Capron', 112117892), ('Curtis Armstrong', 112114212), ('Ana Gasteyer', 112042871), ('Donald Faison', 111886707), ('Octavia Spencer', 111843313), ('Jane Fonda', 111749918), ('Emma Bell', 110887643), (\"Nicholas D'Agosto\", 110887643), ('Miles Fisher', 110887643), ('Ellen Wroe', 110887643), ('Jacqueline MacInnes Wood', 110887643), ('Om Puri', 110881231), ('Dax Shepard', 110833476), ('Sidney Johnston', 110730736), ('Alisa Khazanova', 110730736), ('Mary Stockley', 110730736), ('Matt Walsh', 110602194), ('Nathan Kress', 110602194), ('Alycia Debnam-Carey', 110602194), ('Gael GarcÃ\\xada Bernal', 110330182), ('Fred Williamson', 110268750), ('Izabella Miko', 110082120), ('Terry Crews', 109996757), ('John Michael Higgins', 109754382), ('John Mahoney', 109431584), ('Yousuf Azami', 109295601), ('Cary Elwes', 109186195), ('Ethan Hawke', 108729085), ('Jennifer Esposito', 108520364), ('Sylvia Syms', 108384128), ('Helen McCrory', 108384128), ('Michael Irvin', 108320568), ('Nelly', 108320568), ('Leonor Varela', 108018494), ('Eric Lloyd', 107855065), ('Jay Chou', 107817248), ('Edward Furlong', 107817248), ('David Morse', 107773916), ('Geoff Pierson', 107626285), ('Matt Bomer', 107613057), ('Kevin Nash', 107613057), ('Adam RodrÃ\\xadguez', 107613057), ('Kathryn McCormick', 107470746), ('Megan Boone', 107470746), ('Jessica Guadix', 107470746), ('Ryan Hurst', 106706683), ('Devon Bostick', 106529570), ('Jeffrey Dean Morgan', 106511841), ('Felicity Jones', 106201940), ('Kristen Wilson', 106104344), ('Raven-SymonÃ©', 106104344), ('Amy Schumer', 105795793), ('Colin Quinn', 105795793), ('Vanessa Bayer', 105795793), ('Dan Byrd', 105691622), ('Adriana Barraza', 105690463), ('Mare Winningham', 105448221), ('Chandler Canterbury', 105446362), ('Nadia Townsend', 105446362), ('Steven Brand', 105333180), ('Joely Richardson', 105294342), ('Jennifer Tilly', 105119910), ('Jean Heywood', 105000000), ('Jamie Draven', 105000000), ('Guillaume Canet', 104056873), ('Virginie Ledoyen', 104056873), ('Staffan Kihlbom', 104056873), ('Portia Doubleday', 104009702), ('Sarah Wayne Callies', 103887391), ('Robert Taylor', 103862963), ('Paulo Costanzo', 103754278), ('Betty Buckley', 103403799), ('Jerry Ferrara', 103333911), ('Tessa Thompson', 102935567), ('Phylicia RashÄd', 102935567), ('James Earl Jones', 102650785), ('Gary Lewis', 102610873), ('Brad Dourif', 102505019), ('Jenna Dewan', 102194847), ('Damaine Radcliff', 102194847), (\"De'Shawn Washington\", 102194847), ('Sharon Small', 102000000), ('Anthony Stewart Head', 101956699), ('Susan Brown', 101956699), ('Martin Klebba', 101701446), ('Jennifer Hudson', 101561264), ('Dianna Agron', 101387055), ('Peta Wilson', 101265204), ('Raoul Bova', 101183863), ('Jared Padalecki', 101145172), ('Joe Viterelli', 101069860), ('Tyler Hoechlin', 101001478), ('Aidan Quinn', 100786397), ('Bruno Ganz', 100786397), ('Danny Trejo', 100584873), ('Jeff Goldblum', 100006051), ('Natasha Richardson', 99906693), ('Tyler Posey', 99906693), ('Kiele Sanchez', 99782847), ('ZoÃ« Borde', 99782847), ('Michael Madsen', 99564881), ('Brenda Blethyn', 99266061), ('Emma Roberts', 98819340), ('Alice Evans', 98611771), ('Tim McInnerny', 98611771), ('GÃ©rard Depardieu', 98611771), (\"Jack O'Connell\", 98442937), ('Takamasa Ishihara', 98442937), ('Finn Wittrock', 98442937), ('Anna Camp', 98350426), ('Orlando Jones', 98347985), ('Emily Procter', 98259062), ('Mark Moses', 98259062), ('Toby Jones', 98143823), ('Ethan Suplee', 98087762), ('Max Irons', 97781935), ('Wood Harris', 97744425), ('Amy Irving', 97644820), ('Kimberly Elise', 97576878), ('Erica Leerhsen', 97571655), ('Tom Everett Scott', 97552487), ('Olivia Cooke', 97529779), ('Ana Coto', 97529779), ('Daren Kagasoff', 97529779), ('Skye McCole Bartusiak', 97212951), ('Lochlyn Munro', 97106228), ('Mary Kay Place', 96972703), (\"Jerry O'Connell\", 96323886), ('Mike White', 96282949), ('Jennifer Beals', 96251594), ('James DeBello', 96220678), ('Gio Perez', 96000000), ('Joel Garland', 96000000), ('Rinko Kikuchi', 95860946), ('Adam Campbell', 95413990), ('Anthony Edwards', 95361550), ('Jonathan Breck', 95320455), ('Kim Dickens', 95213455), ('Bill Pullman', 95017254), ('Eliza Bennett', 94980196), ('Cobie Smulders', 94758246), ('Norman Reedus', 94748173), ('Tony Todd', 94728719), ('Callan McAuliffe', 94492830), ('Kate Mara', 94333179), ('Lin Shaye', 94303851), ('Leigh Whannell', 94303851), ('Angus Sampson', 94303851), ('Seamus Davey-Fitzpatrick', 94188334), ('Constantino Romero', 94000000), ('Sandra Oh', 93502303), ('Marylouise Burke', 93502303), ('Olivia DeJonge', 93450062), ('Benjamin Kanes', 93450062), ('Deanna Dunagan', 93450062), ('Mark Rylance', 93275222), ('Simon Woods', 93147947), ('Charlotte Le Bon', 93062763), ('Rodrigo Santoro', 92920243), ('Ryan Merriman', 92719158), ('Kris Lemche', 92719158), ('Alexz Johnson', 92719158), ('Sam Easton', 92719158), ('Shad Moss', 92647808), ('Nathaniel Parker', 92290266), ('Marsha Thomason', 92290266), ('Carice van Houten', 92240899), ('Violante Placido', 92217355), ('Fergus Riordan', 92217355), ('Johnny Whitworth', 92217355), ('Jason Alexander', 92006069), ('Julie Christie', 91766556), ('Stefanie Scott', 91637535), ('Oscar Isaac', 91210375), ('David Banner', 90922175), ('Michael Rainey Jr.', 90922175), ('LaJessie Smith', 90922175), ('Colin Salmon', 90773236), ('Austin Crim', 90466177), ('Joe Manganiello', 90121575), ('Tom Hollander', 90083746), ('Henry Thomas', 89977104), ('Joan Allen', 89965663), ('Harriet Owen', 89862682), ('Blayne Weaver', 89862682), ('Jeff Bennett', 89862682), ('Kath Soucie', 89862682), ('Scout Taylor-Compton', 89675375), ('Tyler Mane', 89675375), ('John Witherspoon', 89649284), ('Olivier Martinez', 89608313), ('AndrÃ© Benjamin', 89600790), ('Linda Emond', 89540499), ('Jonathan Tucker', 89479340), ('Eileen Atkins', 89466552), ('Connor Corum', 89332962), ('Jon Ted Wynne', 89332962), ('Jesse James', 89047131), ('Stuart Townsend', 88661183), ('Colin Stinton', 88505027), ('Thomas Jane', 88241666), ('Sophie Kennedy Clark', 88129872), ('Barbara Jefford', 88129872), ('Oliver Cooper', 88000000), ('Jonathan Daniel Brown', 88000000), ('Thomas Mann', 88000000), ('Dax Flame', 88000000), ('Kirby Bliss Blanton', 88000000), ('James Woods', 87975923), ('Adam Pascal', 87953569), ('Joe Anderson', 87234471), ('Jessica Simpson', 87172585), ('John Alderton', 86542059), ('Linda Bassett', 86542059), ('Annette Crosbie', 86542059), ('Kevin Smith', 86444019), ('Louis C.K.', 86153935), ('Jensen Ackles', 85734718), ('Betsy Rue', 85734718), ('Vinessa Shaw', 85694087), ('Martin Donovan', 85635176), ('Justin Bieber', 85441954), ('Usher Raymond', 85441954), ('Sean Kingston', 85441954), ('Sam Lerner', 85423247), ('Simon McBurney', 85308068), ('Frank Finlay', 85072577), ('Maureen Lipman', 85072577), ('Emilia Fox', 85072577), ('Jonny Lee Miller', 84980316), ('Robert Englund', 84908830), ('Ken Kirzinger', 84908830), ('Jason Ritter', 84908830), ('Monica Keena', 84908830), ('Jason Schwartzman', 84668958), ('Bryan Greenberg', 84663461), ('Steve Howey', 84663461), ('Leven Rambin', 84578751), ('Sophie Vavasseur', 84394835), ('Marin Ireland', 84281051), ('Mark Harmon', 84230332), ('Harold Gould', 84230332), ('Haley Hudson', 84230332), ('Jose Pablo Cantillo', 84000309), ('Bokeem Woodbine', 83920470), ('Christian Kane', 83564935), ('Alex Thomas', 83564935), ('Chad Michael Murray', 83516954), ('William Lee Scott', 83060858), ('Elden Henson', 83060858), ('Melora Walters', 83060858), ('Jesper Christensen', 82944923), ('Emily Browning', 82670772), ('Simon Chandler', 82180323), ('David Calder', 82180323), ('Richard Felix', 82180323), ('Birgit Minichmayr', 82180323), ('Columbus Short', 82019800), ('Analeigh Tipton', 81980662), ('Harold Perrineau', 81727951), ('Emjay Anthony', 81516642), ('June Squibb', 81489468), ('Christopher Evan Welch', 81408652), ('Richard Cabral', 81362372), ('Carlos Pratts', 81362372), ('Eddie J. Fernandez', 81362372), ('Jorge Diaz', 81362372), ('David Fernandez Jr.', 81362372), ('Chandra West', 81196419), ('Ian McNeice', 81196419), ('Brenton Thwaites', 81010702), ('Anna Friel', 80793267), ('Thomas Dekker', 80664037), ('Lou Taylor Pucci', 80542952), ('Elizabeth Blackmore', 80542952), ('Gerard Plunkett', 80455994), ('Jill Scott', 80257317), ('Malik Yoba', 80257317), ('Rudy Youngblood', 80175290), ('Dalia HernÃ¡ndez', 80175290), ('Jonathan Brewer', 80175290), ('Morris Birdyellowhead', 80175290), ('Raoul Max Trujillo', 80175290), ('Sally Field', 79914842), ('James Newman', 79914842), ('Sally Hawkins', 79505481), ('Natalya Rudakova', 78979549), ('David Atrakchi', 78979549), ('Rob Lowe', 78669509), ('Alice Parkinson', 78609310), ('Daniel Wyllie', 78609310), ('Allison Cratchley', 78609310), ('Fredro Starr', 78038276), ('Terry Kinney', 78038276), ('Jane Levy', 77960314), ('Noah Huntley', 77719885), ('Christopher Dunne', 77719885), ('Emma Hitching', 77719885), ('Lauren Hodges', 77669379), ('Sam Shepard', 77626441), ('Eduardo VerÃ¡stegui', 77597242), ('Daniella Alonso', 77597242), ('Kate Butler', 77587063), ('Youki Kudoh', 77242962), ('Tsai Chin', 77242962), ('Suzuka Ohgo', 77242962), ('Paul Whitehouse', 77195061), ('Ulrich Tukur', 77002758), ('Brian Geraghty', 76587386), ('Aaliyah', 76515870), ('Taryn Manning', 76229385), ('Mark Boone Junior', 76229069), ('Tatum Etheridge', 76156230), ('Frankie Faison', 76086475), ('Maitland Ward', 76086475), ('Penelope Wilton', 75911834), ('Charles S. Dutton', 75714293), ('Jessica Hecht', 75575636), ('Christopher Kovaleski', 75575636), ('Edi Gathegi', 75362093), ('Garry Shandling', 75019340), ('Billy Boyd', 74840755), ('Shohreh Aghdashloo', 74830111), ('Ebon Moss-Bachrach', 74830111), ('Nathan Gamble', 74828930), ('Natalie Martinez', 74412126), ('Jake Weber', 74356381), ('Matt Lanter', 74149909), ('Cara Delevingne', 73512300), ('Halston Sage', 73512300), ('Justice Smith', 73512300), ('Austin Abrams', 73512300), ('Brian Tee', 73468292), ('Nathalie Kelley', 73468292), ('Alex Fisher', 73391145), ('Peter Clayton-Luce', 73391145), ('Gemma Ward', 73391145), ('Skyler Gisondo', 73384188), ('Steele Stebbins', 73384188), ('Britt Robertson', 73213055), ('Collin Chou', 72906624), ('Andrew McCarthy', 72839667), ('Kerris Dorsey', 72654149), ('Amanda Righetti', 72379051), ('Travis Van Winkle', 72379051), ('Mary McCormack', 71994738), ('Shannyn Sossamon', 71930297), ('Ruth Wilson', 71649296), ('Emory Cohen', 71561749), ('Natasha Calis', 71446075), ('Madison Davenport', 71446075), ('Rob LaBelle', 71446075), ('Marianne Jean-Baptiste', 71155843), ('Catherine Sutherland', 71155843), ('Adam Garcia', 70990850), ('Kagiso Kuypers', 70877916), ('Alex Borstein', 70759963), ('Harry Lennix', 70731534), ('Kathy Baker', 70705082), ('Eugenio Derbez', 70673788), ('Brittany Daniel', 70108731), ('Colin Ford', 70081841), ('Maggie Elizabeth Jones', 70081841), ('Tadanobu Asano', 69987960), ('Minnie Driver', 69946163), ('Jasmine Jessica Anthony', 69679598), ('David Lyons', 69594140), ('Mike Pniewski', 69594140), ('Eric Mabius', 69441078), ('Ryan McCluskey', 69441078), ('Oscar Pearce', 69441078), ('Eartha Kitt', 69327687), ('Nestor Serrano', 69272766), ('Gonzalo Menendez', 69272766), ('Alexander Asefa', 69272766), ('Jonathan Bennett', 69181830), ('Erik Per Sullivan', 69137784), ('Zeljko Ivanek', 69137784), ('Tyra Banks', 68916474), ('QuvenzhanÃ© Wallis', 68821816), ('Chris J. Murray', 68099553), ('Brit Shaw', 68099553), ('Ivy George', 68099553), ('Lauren Frandsen', 68099553), ('Tyler Craig', 68099553), ('Frank Langella', 68081552), ('Tracey Ullman', 68072206), ('Geraldine Somerville', 67954044), ('Jamie Blackley', 67874843), ('Kevin Corrigan', 67805466), ('Jerry Stiller', 67766650), ('Maura Tierney', 67714830), ('David Zayas', 67485757), ('Kevin Sorbo', 67435831), ('AdriÃ¡n Alonso Barona', 67400065), ('Julio Oscar Mechoso', 67400065), ('Nick Chinlund', 67400065), ('Dallas Roberts', 67294551), ('Manish Dayal', 66880821), ('Rohan Chand', 66880821), ('Faune A. Chambers', 66865564), ('Dan Hedaya', 66313837), ('Anne Heche', 66244770), ('Daniel E. Smith', 66244770), ('Claudia Christian', 66053725), ('Aleisha Allen', 65918663), ('Philip Bolden', 65918663), ('Chris Sanders', 65771527), ('Daveigh Chase', 65771527), ('Tia Carrere', 65771527), ('Kevin McDonald', 65771527), ('Sofia Vassilieva', 65714875), ('Jon Bon Jovi', 65666415), (\"Catherine O'Hara\", 65651031), ('Charlie Cox', 65560026), ('Daeg Faerch', 65253908), ('Mika Boorem', 65207021), ('Alexis Dziena', 65204978), ('Ryan Newman', 65175006), ('Mitchel Musso', 65175006), ('Spencer Locke', 65175006), ('Mos Def', 65143137), ('Rosanna Arquette', 65071651), ('Ben Chaplin', 64785590), ('Saul Rubinek', 64745083), ('Jenny Wade', 64601050), ('Teri Hatcher', 64596398), ('Jennifer Saunders', 64596398), ('Dawn French', 64596398), ('Stephen Merchant', 64462508), ('Ryan Sheckler', 64462508), ('A.J. Cook', 64426405), ('Michael Landes', 64426405), (\"Bobb'e J. Thompson\", 64380927), ('Cheryl Hines', 64328518), ('Courtney Taylor Burness', 64146832), ('Shyann McClure', 64146832), ('Eve', 63781642), ('Romany Malco', 63268301), ('Matthew Marsden', 63244290), ('Reynaldo Gallegos', 63244290), ('Jake La Botz', 63244290), ('Michael Carman', 63076342), ('Mark Brady', 63076342), ('Ellen Pompeo', 63055349), ('Leah Remini', 63055349), ('Ricky Gervais', 62871655), ('John Cho', 62817243), ('Colleen Haskell', 62772742), ('John C. McGinley', 62772742), ('Ne-Yo', 62511123), ('Jermaine Williams', 62511123), ('Huntley Ritter', 62449929), ('Stephen Fry', 62448905), ('India Eisley', 62400000), ('Julianna Margulies', 62371898), ('Ric Young', 62366779), ('Don Curry', 62354163), ('Patrick Mofokeng', 62233971), ('Matt Stern', 62233971), ('RZA', 62045480), ('Joseph Morgan', 62011111), ('Jon Heder', 61852082), ('Ryan Dunn', 61778712), ('Oona Laurence', 61709827), ('Dianne Wiest', 61648754), ('Angela Bassett', 61634109), ('Mako', 61608995), ('Alfie Allen', 61558892), ('Derek Jacobi', 61340801), ('David McCullough', 61336445), ('J.J. Johnson', 61286096), ('Polly Adams', 61286096), ('Trish Gates', 61286096), ('Nancy McDoniel', 61286096), ('Opal Alladin', 61286096), ('Aamir Khan', 61000000), ('Kareena Kapoor', 61000000), ('Madhavan', 61000000), ('Sharman Joshi', 61000000), ('Boman Irani', 61000000), ('Eliza Dushku', 60934419), ('James Remar', 60875534), ('Lorna Raver', 60842646), ('Dileep Rao', 60842646), ('Jack Reynor', 60664106), ('Chris Riggi', 60547866), ('Jenn Proske', 60547866), ('Bradley Dodds', 60547866), ('Saxon Sharbino', 60437994), ('Kyle Catlett', 60437994), ('Kennedi Clements', 60437994), ('Mathieu Kassovitz', 60358911), ('Hanns Zischler', 60358911), ('Dennis Farina', 60332605), ('Marc Anthony', 60293714), ('Kristy Swanson', 60180723), ('Rumer Willis', 60149060), ('Emily Barclay', 60073390), ('Deborra-Lee Furness', 60073390), ('Ali Suliman', 59938656), ('Nathan Lane', 59773156), ('Joanna Gleason', 59728529), ('Lou Myers', 59728529), ('Dave England', 59282312), ('Steven R. McQueen', 59188165), ('Jessica Szohr', 59188165), ('Faith Ford', 59136880), (\"Colin O'Donoghue\", 59047633), ('Robbie Amell', 58995889), ('Danneel Ackles', 58864220), ('Edward Herrmann', 58784054), ('Dean Winters', 58739897), ('Tim Blake Nelson', 58712074), ('Chris Marquette', 58525284), ('Kat Dennings', 58389385), ('Ashley Tisdale', 58378744), ('Erica Ash', 58378744), ('Brian Blessed', 58338361), ('Hal Holbrook', 58288697), ('Rob Brown', 58255132), ('Alexander Nathan Etel', 58071443), ('Priyanka Xi', 58071443), ('Jeffrey Donovan', 58020255), ('Keke Palmer', 58018837), (\"Michael O'Keefe\", 57619210), (\"Denis O'Hare\", 57515970), ('Donald Sumpter', 57466670), ('Marla Sokoloff', 57359791), ('Peter Outerbridge', 57233629), ('Chris Potter', 57006880), ('Edward Burns', 56830128), ('Scottie Thompson', 56821036), ('Affion Crockett', 56799880), ('Jorge Garcia', 56799880), ('Sarah Bolger', 56777537), ('Seth Meyers', 56702060), ('Jean Michel ParÃ©', 56702060), ('Steven Mackintosh', 56327197), ('Alexander Ludwig', 56303988), ('Luke Bracey', 56201043), ('Rosie Perez', 56057570), ('Debi Derryberry', 55936232), ('Megan Cavanagh', 55936232), ('Mark DeCarlo', 55936232), ('Lauren German', 55646590), ('Rachel Griffiths', 55597042), ('Beth Grant', 55597042), ('Angus T. Jones', 55597042), ('Michael Imperioli', 55572378), ('Ella Rae Peck', 55572378), ('Adam Levine', 55464861), ('Diana Scarwid', 55464351), ('Julie Benz', 55462984), ('Rupert Friend', 55264219), ('George McLaren', 55197635), ('Thierry Neuvic', 55197635), ('Cyndi Mayo Davis', 55197635), ('John Rhys-Davies', 55149435), ('Chadwick Boseman', 55020213), ('T.R. Knight', 55020213), ('Nicole Beharie', 55020213), ('Christopher Meloni', 55020213), ('George Takei', 55000000), ('Sean Maguire', 54646831), ('Diedrich Bader', 54646831), ('Aaron Stanford', 54623713), ('Kathleen Quinlan', 54623713), ('Tony Kgoroge', 54563971), ('Justin Chambers', 54422372), ('David Denman', 53978653), ('Beau Knapp', 53978653), ('Bonnie Perlman', 53830340), ('Gabourey Sidibe', 53647833), ('Lenny Kravitz', 53647833), ('Johnny Simmons', 53590521), ('Rosemarie DeWitt', 53576782), ('Tony Cox', 53488889), ('Brett Kelly', 53488889), ('Neal McDonough', 53381787), ('Khalid Abdalla', 53276047), ('Atossa Leoni', 53276047), ('Zekeria Ebrahimi', 53276047), ('Ahmad Khan Mahmoodzada', 53276047), ('Geoffrey Arend', 53222734), ('Kate Nauta', 53167639), ('Alessandro Gassman', 53167639), ('Arielle Kebbel', 53160357), ('Ninja', 53069268), ('Yolandi Visser', 53069268), ('Maude Apatow', 53058786), ('Kate Walsh', 52989091), ('Len Cariou', 52913171), ('Laura Fraser', 52487473), ('Pete Postlethwaite', 52471427), ('Lee Tergesen', 52378584), ('Annie Corley', 52378584), ('Jared Gilman', 52263166), ('Kara Hayward', 52263166), ('Alexandra Maria Lara', 52247624), ('Natalie Dormer', 52247624), ('Henry Simmons', 52240381), ('Michael Nyqvist', 52167945), ('Laurie Holden', 52021201), ('Clark Gregg', 51966987), ('Jim Sturgess', 51906097), ('Jason Mewes', 51781648), ('Charles Malik Whitfield', 51753202), ('Bruce Dern', 51653105), ('Mari Morrow', 51615414), ('Faizon Love', 51615414), ('Richard Gant', 51505343), ('Liana Liberato', 51413525), ('Will Sasso', 51258289), ('Dillon Freasier', 51181545), (\"Kevin J. O'Connor\", 51181545), ('Jesse Bradford', 51143461), ('Emily Bett Rickards', 51076141), (\"Eileen O'Higgins\", 51076141), ('Catherine McCormack', 51049560), ('Larry Bryggman', 51049560), ('Amber Tamblyn', 50889820), ('Nicky Whelan', 50843658), ('Sarah Burns', 50636986), ('Antony Starr', 50631118), ('Andrew Hampton', 50631118), ('Tatiana Maslany', 50619773), ('Chyler Leigh', 50468332), ('Mia Kirshner', 50468332), ('Gabriel Macht', 50466783), ('Beau Bridges', 50416905), ('Rose Leslie', 50396650), ('Ã“lafur Darri Ã“lafsson', 50396650), ('Victor Gojcaj', 50166126), ('Erin Daniels', 50052851), ('Sean Combs', 50029656), ('Geena Davis', 49956806), ('Anna Hoelck', 49956806), ('Kim Staunton', 49935764), ('Kazunari Ninomiya', 49673228), ('Tsuyoshi Ihara', 49673228), ('Ryo Kase', 49673228), ('Nakamura ShidÅ II', 49673228), ('Desmond Harrington', 49400459), ('Laurence Fox', 49237563), ('Gina Philips', 49217789), ('Patricia Belcher', 49217789), ('Eileen Brennan', 49217789), ('Margo Martindale', 49188937), ('Britney Spears', 49141030), ('Anson Mount', 49141030), ('Jodelle Ferland', 49139399), ('Jena Malone', 49047644), ('Matthew Fox', 49005853), ('Justin Pierce', 48827328), ('Sean Faris', 48656183), (\"Joanna 'JoJo' Levesque\", 48535022), ('Tom Courtenay', 48520298), ('Sung Kang', 48420468), ('Kelly Preston', 48344274), ('Andie MacDowell', 48319678), ('Rutina Wesley', 48273173), ('Isaac Hempstead Wright', 48255770), ('Dee Bradley Baker', 48255770), ('Steve Blum', 48255770), ('Ana de la Reguera', 48197993), ('HÃ©ctor JimÃ©nez', 48197993), ('Darius Rose', 48197993), ('Christopher Lee', 48100000), ('Fernanda Dorogi', 48100000), ('Todd Louiso', 47956902), ('Kevin Heffernan', 47871470), ('Alison Lohman', 47691788), ('Dennis Hopper', 47670602), ('Ed Skrein', 47629670), ('Loan Chabanol', 47629670), ('Gabriella Wright', 47629670), ('Tatjana PajkoviÄ‡', 47629670), ('Rose Abdoo', 47600000), ('Dianne Reeves', 47600000), ('Christopher McDonald', 47381698), ('Hannah Ware', 47347656), ('Rolf Kanies', 47347656), ('Emily Deschanel', 47192859), ('Barry Watson', 47192859), ('Tory Mussett', 47192859), ('Tucker Albrizzi', 47139399), ('Spencer Garrett', 47039271), ('Kodi Smit-McPhee', 46920317), ('AndrÃ© Holland', 46787908), ('Omar J. Dorsey', 46787908), ('Boyd Holbrook', 46743244), (\"Robert Ri'chard\", 46669806), ('Allison Tolman', 46548707), ('Charlie Rowe', 46546518), ('Angourie Rice', 46546518), ('Timothy Hutton', 46313132), ('David Paymer', 46211543), ('Pauline Collins', 46155126), ('Ray Wise', 46102666), ('Garikayi Mutambirwa', 46102666), ('Eric Nenninger', 46102666), ('Josh Hammond', 46102666), ('Emilie de Ravin', 46002706), ('Roma Downey', 45800064), ('Diogo Morgado', 45800064), ('Louise Delamere', 45800064), ('Darwin Shaw', 45800064), ('Amber Rose Revah', 45800064), ('Martha Higareda', 45569869), ('Peyton List', 45543353), ('Efren Ramirez', 45491618), ('Katharine McPhee', 45442940), ('Harris Yulin', 45357322), ('Michael Wincott', 45178561), ('Dina Spybey-Waters', 44854431), ('Ben Shenkman', 44854431), ('Romeo Miller', 44646763), ('Richmond Arquette', 44601681), ('Larry Miller', 44600326), ('David Duchovny', 44568607), ('SofÃ\\xada Vergara', 44507663), ('Heida Reed', 44389433), ('Ari Graynor', 44342221), ('Parker Posey', 44309766), ('Fernanda Romero', 44309766), ('MÃ\\xada Maestro', 44298474), ('Patricia Reyes SpÃ\\xadndola', 44298474), ('David Morrissey', 44286769), ('Samantha Mumba', 43729176), ('Phyllida Law', 43729176), ('Laura Kirk', 43729176), ('Matthias Schoenaerts', 43296239), ('James Ransone', 42882018), ('Tate Ellington', 42882018), ('Nicholas King', 42882018), ('Lucas Jade Zumann', 42882018), ('Anjelica Huston', 42636953), ('Daniel Studi', 42563539), ('Chopper Bernet', 42563539), ('Jeff LeBeau', 42563539), ('Tom Selleck', 42492941), (\"Alex O'Loughlin\", 42477008), ('Kathryn Morris', 42422002), ('Paul Adelstein', 42383208), ('Fred Ward', 42353659), ('Jacinda Barrett', 42162929), ('Allie Mickelson', 42084830), ('Craig Archibald', 42084830), ('Bronwen Coleman', 42084830), ('Kate Shindle', 42084830), ('Derek Luke', 41623688), ('Monica Potter', 41603031), ('Jonathan Lipnicki', 41512794), ('Anita Briem', 41336122), ('Brian H. Dierker', 41255142), ('Russell Wong', 41231760), ('Misha Gabriel', 41165646), ('Ajay Naidu', 41019135), ('Dominic Purcell', 41006913), ('Robert Maillet', 40896829), ('Carlo Rota', 40896829), ('Kate del Castillo', 40630415), ('Olivia Williams', 40571863), ('Carly Nahon', 40427839), ('Eriq La Salle', 40223306), ('Michael Jai White', 40184721), ('Joseph Ruskin', 40103895), ('Alex Rocco', 40103895), ('Wayne Newton', 40103895), ('Sharon Leal', 40072596), ('Chris Mulkey', 40000000), ('Yul Vazquez', 40000000), ('Amanda Detmer', 39948955), ('Madeleine Stowe', 39660784), ('MoisÃ©s Arias', 39576986), ('Ian Richardson', 39558115), ('Kenny Wormald', 39543328), ('Max Ryan', 39437847), ('Kit Harington', 39313040), ('John Ales', 39307945), ('Asa Butterfield', 39223914), ('Jeffrey DeMunn', 39096190), ('Karen Gillan', 39030246), ('James Lafferty', 39030246), ('Rory Cochrane', 39030246), ('Judah Friedlander', 38703995), ('Rick Gonzalez', 38577491), ('Taye Diggs', 38575411), ('Adam Lamberg', 38534455), ('Hallie Todd', 38534455), ('Robert Carradine', 38534455), ('David Belle', 38480960), ('Sophia Bush', 38409614), ('Fann Wong', 38323487), ('Yanina Studilina', 38129518), ('Philippe Reinhardt', 38129518), ('Heiner Lauterbach', 38129518), ('Maria Smolnikova', 38129518), ('Carly Schroeder', 37800000), ('Nick Cannon', 37588485), ('Leonard Roberts', 37588485), ('GQ', 37588485), ('Whoopi Goldberg', 37498534), ('Cameron Boyce', 37436439), ('Erica Gluck', 37436439), ('Bianca Kajlich', 37212295), ('Elias Koteas', 37114594), ('Andre Braugher', 37106245), ('Benjamin Walker', 37085897), ('Bill Moseley', 37071490), ('Anna Paquin', 37049764), ('Josh Charles', 36643346), ('Jake T. Austin', 36600828), ('Hope Davis', 36536196), ('Kristen Connolly', 36486080), ('Anna Hutchison', 36486080), ('Fran Kranz', 36486080), ('Jesse Williams', 36486080), ('Sean McCann', 36445708), ('Noah Emmerich', 36180218), ('Lester Speight', 35673607), ('Addison Timlin', 35479076), ('Hrithik Roshan', 35396427), ('Abhishek Bachchan', 35396427), ('Uday Chopra', 35396427), ('Bipasha Basu', 35396427), ('Alex Jennings', 35387687), ('Frances de la Tour', 35387687), ('Gwen Taylor', 35387687), ('Tony Curran', 35255709), ('Perdita Weeks', 35100000), ('Ben Feldman', 35100000), ('Edwin Hodge', 35100000), ('FranÃ§ois Civil', 35100000), ('Marion Lambert', 35100000), ('Justin Chon', 35065672), ('Sarah Wright', 35065672), ('Jonathan Keltz', 35065672), ('Skyler Samuels', 35028634), ('Christie Lynn Smith', 34956140), ('Liza Lapira', 34823199), ('Corey Johnson', 34751909), ('Lea Michele', 34706665), ('ClÃ©mence PoÃ©sy', 34695458), ('Cher', 34519773), ('Christina Aguilera', 34519773), ('Max Lewis', 34469904), ('Tom Sizemore', 34453620), ('Sheri Moon Zombie', 34251012), ('Ellia English', 34192128), ('Lonny Ross', 34192128), ('Alex Veadov', 33926886), ('Xzibit', 33924217), ('Judith Scott', 33915888), ('Hal Williams', 33915888), ('Kevin Pollak', 33892332), ('Vicky Krieps', 33782078), ('Jeremy Strong', 33719388), ('Jeff Anderson', 33676537), (\"Brian O'Halloran\", 33676537), ('Cynthia Stevenson', 33614809), ('Johanna Braddy', 33610009), ('Gil McKinney', 33610009), ('Emi Ikehata', 33610009), ('Jadie-Rose Hobson', 33610009), ('Beau Mirchoff', 33610009), ('Chris Brown', 33605172), ('Alice Eve', 33437479), ('Alexander Pollock', 33375151), ('Miriam Margolyes', 33375151), ('Dana Ivey', 33354918), ('Robert Klein', 33354918), ('Ron Eldard', 33349884), ('Rupert Evans', 33318987), ('Tim Matheson', 33275483), ('Simon Helberg', 33275483), ('Luca Calvani', 33145109), ('Daniel BrÃ¼hl', 32802632), ('Anna Maria Horsford', 32682270), ('David Costabile', 32616646), ('Paul Herman', 32462438), ('Cara Seymour', 32398025), ('Hakeem Kae-Kazim', 32333295), ('Enzo Cilenti', 32333295), ('Ashton Holmes', 32310791), ('Darrin Henson', 32304619), ('Adelaide Clemens', 32302796), ('Teo Halm', 32300000), ('Astro', 32300000), ('Resse Hartwig', 32300000), ('Ella Wahlestedt', 32300000), ('Jason Gray-Stanford', 32300000), ('Jeremy Sheffield', 32175038), ('Gaspard Ulliel', 32169884), ('Aaran Thomas', 32169884), ('Jimmy Fallon', 32061273), ('Redman', 31985079), ('Cary-Hiroyuki Tagawa', 31903274), ('Laura Johnson', 31891803), ('Gabriel Byrne', 31768205), ('Jack Conley', 31493123), ('Tom Arnold', 31489558), ('Laura Ramsey', 31486630), ('Claudia Karvan', 31416464), ('Rachel Blanchard', 31298967), ('David Ogden Stiers', 31089085), ('Alice Drummond', 30907234), ('Sarah Polley', 30903590), ('Russ Fega', 30723096), ('Jemima West', 30565421), ('Robert Sheehan', 30565421), ('Steve Whitmire', 30383113), ('Eric Jacobson', 30383113), ('Elizabeth Hurley', 30313393), ('Riz Ahmed', 30197217), ('Kevin Rahm', 30197217), ('Rhiana Griffith', 30187659), ('Lewis Fitz-Gerald', 30187659), ('Gary Sinise', 30161162), ('Steven Seagal', 29958599), ('Bill Duke', 29958599), ('Debra Jo Rupp', 29779728), ('Matt Schulze', 29475129), ('Sam Anderson', 29433975), ('Robert Belushi', 29433975), ('Catherine Kresge', 29433975), ('Jacob Tremblay', 29401758), ('Sean Bridgers', 29401758), ('Evan Rachel Wood', 29182795), ('Lorraine Nicholson', 29088990), ('Carrie Underwood', 29088990), ('Kenan Thompson', 29022014), ('Nathan Phillips', 29022014), ('Scott Eastwood', 29013281), ('Lolita Davidovich', 29013281), ('Melissa Benoist', 29013281), ('Johnathon Schaech', 28855419), ('Luis Tosar', 28794509), ('Paris Hilton', 28766121), ('Brian Van Holt', 28766121), ('Heidi Hayes', 28740827), ('Craig Robinson', 28572262), ('Sophie Monk', 28548426), ('Jake Lacy', 28472135), ('DeRay Davis', 28201432), ('Amanda Crew', 28122114), ('Kristen Schaal', 27991087), ('Nicholas Art', 27738099), ('Paula GarcÃ©s', 27730191), ('Pascale Hutton', 27483764), ('Natalia Klimas', 27280250), ('Samantha Mathis', 27266564), ('Dan Yeager', 27241945), ('Marilyn Burns', 27241945), ('Tania Raymonde', 27241945), ('BjÃ¶rk', 27231879), ('Joel Grey', 27231879), ('Alicia Keys', 27105395), ('Katija Pevec', 27028752), ('Dean Collins', 27028752), ('Joseph Fiennes', 26976270), ('Judy Davis', 26884340), ('Sanoe Lake', 26842679), ('Laura Harring', 26817444), ('Ashley Benson', 26724284), ('Rachel Korine', 26724284), (\"Mo'Nique\", 26592335), ('Common', 26438988), ('Charlie Saxton', 26438988), ('Andy Dick', 26368909), ('Tim Bagley', 26368909), ('Ben Schwartz', 26181942), ('Mary-Kate Olsen', 26165571), ('Lisa Gay Hamilton', 26165571), ('Steve Harris', 26135745), ('Michelle Horn', 25944725), ('Frances Fisher', 25868991), ('Greg Germann', 25754228), ('Juan Carlos HernÃ¡ndez', 25583804), ('Bijou Phillips', 25419521), ('Richard Burgi', 25419521), ('Dylan Walsh', 25251371), ('Fred Dalton Thompson', 25251371), ('Adam David Thompson', 25181600), ('Tony Goldwyn', 25156284), ('Richard Dreyfuss', 25130093), ('Bob Hoskins', 25058809), ('Colin Egglesfield', 24901913), ('Ashley Williams', 24901913), ('Scott MacDonald', 24889998), ('Chris Diamantopoulos', 24819301), ('Brad Loree', 24664855), ('Minka Kelly', 24492759), ('Fred Melamed', 24430334), ('Sari Lennick', 24430334), ('Aaron Wolff', 24430334), ('Chase Wright Vanek', 24421467), ('Randy Quaid', 24234015), ('LL Cool J', 24192136), ('Jeremy Sumpter', 24085459), ('Josh Wiggins', 23967255), ('Mia Xitlali', 23967255), ('Tara Reid', 23718291), ('Robert Joy', 23656036), ('Bojana NovakoviÄ‡', 23583175), ('Logan Marshall-Green', 23583175), ('Monica Raymund', 23485056), ('Mircea Monroe', 23450437), ('Mamie Gummer', 23325328), ('Audra McDonald', 23325328), ('Bob Tracey', 23157539), ('Jesse Metcalfe', 23009669), ('Ashanti', 23009669), ('Dylan Moran', 23000000), ('Harish Patel', 23000000), ('Shu Qi', 22928932), ('Harland Williams', 22788254), ('Devon Sawa', 22716229), ('Hunter McCracken', 22674226), ('Finnegan Williams', 22674226), ('Julie Delpy', 22514562), ('Lennie James', 22439370), ('Til Schweiger', 22250126), ('Michael Kenneth Williams', 22101592), ('Richard Briers', 21975011), ('Sonoya Mizuno', 21869414), ('Michelle Trachtenberg', 21819570), ('Roy Scheider', 21700105), ('Evan Peters', 21627431), ('Louis Gossett, Jr.', 21609243), ('Tasha Smith', 21609243), ('Tracee Ellis Ross', 21609243), ('Isabelle Fuhrman', 21596251), ('CCH Pounder', 21596251), ('James Gandolfini', 21306983), ('Moran Atias', 21148651), ('Izabela Vidovic', 21058898), (\"Mike O'Brien\", 21010817), ('Callum Blue', 20965854), ('Shannon Woodward', 20726956), ('Rachael Markarian', 20726956), ('Mia Moretti', 20726956), ('Ryan Robbins', 20562924), ('Warren Christie', 20562924), ('Lloyd Owen', 20562924), ('Andrew Airlie', 20562924), ('Michael Kopsa', 20562924), ('Jenna Fischer', 20502667), ('Rain', 20462347), ('Randall Duk Kim', 20462347), ('Jason Spevack', 20451307), ('Jack Kehler', 20451307), ('Maureen Keiller', 20451307), ('Pink', 20406466), ('E.G. Daily', 20406466), ('Ezra Miller', 20400000), ('Debra Winger', 20277485), ('Mimi Rogers', 20267515), ('Jonny Weston', 20248241), ('Virginia Gardner', 20248241), (\"Sofia Black-D'Elia\", 20248241), ('Allen Evangelista', 20248241), ('Samaire Armstrong', 20150434), ('Hill Harper', 20007180), ('Barkhad Abdi', 19848185), ('Frank Welker', 19834815), ('Shane Baumel', 19834815), ('Timyra-Joi Beatty', 19834815), ('Elisha Cuthbert', 19804104), ('Jim Beaver', 19679822), ('Taylor Dooley', 19425966), ('Cayden Boyd', 19425966), ('Brit Marling', 19386566), ('Marley Shelton', 19372610), ('Laurie Metcalf', 19332978), ('Nicole Sullivan', 19332978), ('Adrian Grenier', 19263404), ('Kevin Connolly', 19263404), ('Kevin Dillon', 19263404), ('Gugu Mbatha-Raw', 19229032), ('Vanessa Williams', 19179516), ('Steve Harvey', 19179516), ('Shari Headley', 19179516), ('Method Man', 19155435), ('Obba BabatundÃ©', 19155435), ('Alexa Davalos', 19155219), ('Allan Corduner', 19155219), ('Edison Chen', 19143839), ('Raffey Cassidy', 19035668), ('Thomas Robinson', 19035668), ('Trey Parker', 18907422), ('Matt Stone', 18907422), ('Kristen Miller', 18907422), ('Masasa Moyo', 18907422), ('Daran Norris', 18907422), ('Hanyu Zhang', 18786960), ('Ren Quan', 18786960), ('Wang Baoqiang', 18786960), ('Deng Chao', 18786960), ('Yuan Wenkang', 18786960), ('Demi Moore', 18659991), ('Cicely Tyson', 18645546), ('Eva Marie Saint', 18645546), ('Dave Matthews', 18645546), ('Ted Levine', 18376292), ('Paul Hogan', 18288674), ('Linda Kozlowski', 18288674), ('Jere Burns', 18288674), ('Jonathan Banks', 18288674), ('Alec Wilson', 18288674), ('Dean Cain', 18284563), ('Marin Hinkle', 18270895), ('Deirdre Blades', 18133014), ('Jennifer Schwalbach Smith', 18105111), ('Gerry Bednob', 18105111), ('Jon Foster', 18105095), ('Wendell Pierce', 18105095), ('Mackenzie Davis', 18049082), ('Ritchie Coster', 17920346), ('Cameron Bright', 17907996), ('Michiel Huisman', 17629776), ('Willie Nelson', 17612226), ('Chace Crawford', 17597471), ('Bill Smitrovich', 17556119), ('Amila Terzimehic', 17556119), ('Jemaine Clement', 17387857), ('Roger Ashton-Griffiths', 17316267), ('Lucas Till', 17236543), ('Iben Hjejle', 17126295), ('Lisa Bonet', 17126295), ('Jesse Spencer', 17095657), ('Rashida Jones', 17085371), ('Noah Segan', 17042000), ('Thekla Reuten', 17002538), ('Dan Futterman', 16730058), ('Michael Mosley', 16680201), ('Richard T. Jones', 16680201), ('Diora Baird', 16620508), ('Eddie Griffin', 16604473), ('Denise Richards', 16604473), ('Cozi Zuehlsdorff', 16424533), ('Scott G. Anderson', 16300645), ('Frank Whaley', 16300645), ('S. Epatha Merkerson', 16181331), ('Kevin Zegers', 16007618), ('Hannah Spearritt', 15648639), ('Johnny Messner', 15632458), ('John Ashton', 15619699), ('Eva Longoria', 15543192), ('Bill Clinton', 15538513), ('Hillary Clinton', 15538513), ('Dennis Haysbert', 15527914), ('Leighton Meester', 15505320), ('Adam Herschman', 15505009), ('John Lone', 15452643), ('Zachary Knighton', 15399945), ('Kyle Davis', 15399945), ('Thomas Horn', 15247881), (\"Ser'Darius Blain\", 15127963), ('Peter Fonda', 15016220), ('Leah Pipes', 14706120), ('Teri Andrzejewski', 14706120), ('Jean-Marie Lamour', 14641323), ('Marc Fayolle', 14641323), ('Julanne Chidi Hill', 14560577), ('Glenne Headly', 14331068), ('Alison Pill', 14331068), ('Catherine Deneuve', 14285694), ('Elise Neal', 14201636), ('Sarah Wynter', 14085477), ('Gabriella Wilde', 14077920), ('Rhys Wakefield', 14077920), ('Emma Rigby', 14077920), ('Jenna Boyd', 14053061), ('Roger Bart', 13952748), ('Billy Campbell', 13801187), ('Tessa Allen', 13801187), ('Armin Mueller-Stahl', 13773747), ('Sarah Paulson', 13770342), ('Alicia Witt', 13685763), ('Will Yun Lee', 13681566), ('Ethan Embry', 13667806), ('Jessica Bowman', 13642838), ('Stuart Stone', 13642838), ('Bitsie Tulloch', 13623572), ('Matthew Willig', 13623572), ('Katarina Cas', 13560274), ('Ann Dowd', 13424826), ('Hugh Dancy', 13383537), ('Omar Gooding', 13381649), ('Dennis Miller', 13287695), ('Chris Penn', 12978402), ('Aimee Garcia', 12886719), ('Carter Jenkins', 12881056), ('Austin Butler', 12881056), ('Doris Roberts', 12881056), ('Fana Mokoena', 12830000), ('Robin Thomas', 12793283), ('French Stewart', 12793283), ('Shane Harper', 12789000), ('David A.R. White', 12789000), ('Cassidy Gifford', 12789000), ('Christopher Guest', 12750246), ('Dean Norris', 12689727), ('Lyndon Smith', 12689727), (\"Carroll O'Connor\", 12609995), ('Robert Loggia', 12609995), ('Gillian Jacobs', 12571189), ('Bill Burr', 12571189), ('Kristen Cloke', 12510851), ('Lacey Chabert', 12510851), ('Shannon Elizabeth', 12430766), ('Jake Busey', 12430766), ('Bernie Casey', 12430766), ('Richard Portnow', 12295611), ('Gary Dourdan', 12295611), ('Joseph Gilgun', 12204030), ('Tamala Jones', 12197398), ('Paul Rae', 12197398), ('Martin Short', 12069183), ('Peter Coyote', 12065979), ('Kristin Chenoweth', 12005248), ('Alan Dale', 11993168), ('Norah Jones', 11786738), ('Cat Power', 11786738), ('Gisele BÃ¼ndchen', 11609966), ('Tye Sheridan', 11587700), ('Jacob Lofland', 11587700), ('Carmen Chaplin', 11482931), ('L. Scott Caldwell', 11480851), ('Leon Rippy', 11480851), ('Kevin Dunn', 11480851), ('Rachel Hurd-Wood', 11479947), ('Liam Cunningham', 11404810), ('Alicia Silverstone', 11351350), ('Tom Berenger', 11292535), ('Joshua Jackson', 11116000), ('Mini Anden', 11070807), ('Musetta Vander', 11070433), ('Jake McDorman', 11006849), ('J.R. Villarreal', 10948425), ('Collette Wolfe', 10939027), ('Malcolm David Kelley', 10867586), ('Cory Hodges', 10867586), ('Christina Cox', 10772733), ('Jenna Stern', 10664721), ('Whitney Houston', 10637469), ('Cee Lo Green', 10637469), ('Clark Duke', 10616539), ('Marguerite Moreau', 10479110), ('Vincent PÃ©rez', 10479110), ('Paul McGann', 10479110), ('Gina Carano', 10372606), ('Chris Sarandon', 10346186), ('James Hong', 10346186), ('Catherine Chan', 10346186), ('Robert John Burke', 10346186), ('Lennie Loftin', 10342161), ('Ben Garant', 10342161), ('Mary Birdsong', 10342161), ('Jamie Campbell Bower', 10209529), ('Ashley Bell', 10179302), ('Julia Garner', 10179302), ('Andrew Sensenig', 10179302), ('Judd Lormand', 10179302), (\"BrÃ\\xadan F. O'Byrne\", 10161391), ('Missi Pyle', 10159905), ('Makenzie Vega', 10159905), ('Denzel Whitaker', 10056101), ('Max Records', 9942188), ('J.B. Smoove', 9942188), ('Sid Haig', 9829545), ('Karen Black', 9829545), ('Aly Michalka', 9703747), ('Deborah Rush', 8856124), ('Anthony Ruivivar', 8852638), ('Margaret Avery', 8650785), ('Jamel Debbouze', 8463701), ('Samy Naceri', 8463701), ('Roschdy Zem', 8463701), ('Sami Bouajila', 8463701), ('Bernard Blancan', 8463701), ('Larenz Tate', 8350926), ('Geno Silva', 8350926), ('Jacqueline Obradors', 8350926), ('Tabu', 8138836), ('Sahira Nair', 8138836), ('Zuleikha Robinson', 8103450), ('Omar Sharif', 8103450), ('Adam Alexi-Malle', 8103450), ('Louise Lombard', 8103450), ('Douglas Booth', 7987720), ('David Tennant', 7922237), ('David Hayman', 7916563), ('Chris Warren, Jr.', 7728118), ('Damian Lewis', 7715436), ('Martin Starr', 7664377), ('Ron Glass', 7640028), ('JoBeth Williams', 7500000), ('Olympia Dukakis', 7500000), ('Maggie Siff', 7465299), ('Ashley Hinshaw', 7365435), ('James Buckley', 7365435), ('Christa Nicola', 7365435), ('Amir K', 7365435), ('Jonathan Frakes', 7312826), ('LeVar Burton', 7312826), ('Brent Spiner', 7312826), ('Gates McFadden', 7312826), ('Portia Dawson', 7297244), ('Anne Bancroft', 7036004), ('Aleksa Palladino', 7005257), (\"John D'Leo\", 6894225), ('Donnie Wahlberg', 6888965), ('Jonathan Cherry', 6818181), ('Tyron Leitso', 6818181), ('Clint Howard', 6818181), ('Ona Grauer', 6818181), ('Michael Eklund', 6818181), ('Naveen Andrews', 6766271), ('Charles Edwards', 6766271), ('Douglas Hodge', 6766271), ('Agnes Bruckner', 6714147), ('Busy Philipps', 6551495), ('Monet Mazur', 6546197), ('Wallace Wolodarsky', 6471023), ('Omar Benson Miller', 6442528), ('Hayley Magnus', 6410000), ('Scott Bakula', 6024826), ('Dylan Brown', 5871113), ('Christina Milian', 5864194), ('Sylvia Hoeks', 5755873), ('Maximilian Dirr', 5755873), ('Geraldine James', 5735397), ('Bob Odenkirk', 5654912), ('Marshall Chapman', 5529194), ('John Billingsley', 5495563), ('Sarah Drew', 5429707), ('Patricia Heaton', 5429707), ('Logan White', 5429707), ('Robert Amaya ', 5429707), ('Jack Thompson', 5395488), ('Peter Falk', 5377030), ('Drea de Matteo', 5294470), ('Alex D. Linz', 5292381), ('Nora Dunn', 5292381), ('Ryan Phillippe', 5256147), ('Emily Ratajkowski', 5122090), ('Nick Rotteveel', 5122090), ('Alessandro Lindblad', 5122090), ('Ann Miller', 5117339), ('Zoie Palmer', 5114487), ('Barbara Flynn', 5078241), ('Bill Paterson', 5078241), ('Justine Waddell', 5000337), ('Kane Hodder', 5000000), ('Lexa Doig', 5000000), ('Chuck Campbell', 5000000), ('Lisa Ryder', 5000000), ('David Cronenberg', 5000000), ('Myleene Klass', 5000000), ('Robin Walsh', 5000000), ('Matt McKenna', 5000000), ('Ann Harada', 5000000), ('Ben Levin', 5000000), ('Dan Levy', 5000000), ('Dominique McElligott', 4760104), ('Rosie Shaw', 4760104), ('Adrienne Shaw', 4760104), ('Lily Tomlin', 4700000), ('Andy Lau', 4662874), ('Nicholas Tse', 4662874), ('Fan Bingbing', 4662874), ('Wu Jing', 4662874), ('Angela Kinsey', 4340177), ('Danila Kozlovskiy', 4333790), ('Andrei Dementiev', 4333790), ('Michael MacKenzie', 4309223), ('Matt Cross', 4261569), ('Danny Sapani', 4261569), ('Ken Medlock', 4252847), ('Aman Johal', 4252847), ('Israel Broussard', 4145732), ('Taissa Farmiga', 4145732), ('Katie Chang', 4145732), ('Claire Julien', 4145732), ('Sasha Barrese', 4145613), ('John Broadwater', 4040871), ('James Cameron', 4040871), ('Mike Cameron', 4040871), ('Ken Marschall', 4040871), ('Bruce Davison', 3929123), ('Herman Osorio', 3929123), ('Miguel Castro', 3929123), ('Lea Thompson', 3682924), ('SinÃ©ad Cusack', 3612356), ('Meg Ryan', 3537909), ('Matt Bush', 3493728), ('Katrina Bowden', 3493728), ('Jean-Luc Bilodeau', 3493728), ('Alexis Georgoulis', 3455276), ('Alistair McGowan', 3455276), ('Michael Zegen', 3333531), ('James Rebhorn', 3333531), ('Caroline Goodall', 3273583), ('Dr. Dre', 3229331), ('DJ Pooh', 3229331), ('Angell Conwell', 3229331), ('Bruce Bruce', 3229331), ('Aitana SÃ¡nchez-GijÃ³n', 3203235), ('John Sharian', 3203235), ('Michael Ironside', 3203235), ('Dan Stevens', 3103769), ('Marlon Brando', 3069884), ('Paul Soles', 3069884), ('Lee Oakes', 3029747), ('Rutger Hauer', 3013805), ('Michael Biehn', 2992388), ('Skeet Ulrich', 2942221), ('Amaury Nolasco', 2942221), ('Eleanor Tomlinson', 2687603), ('Jonathan Jackson', 2685016), ('Elvis Polanski', 2603069), ('Ellen Burstyn', 2341130), ('Saffron Burrows', 2222308), ('Ryan Kwanten', 2217407), ('Bob Gunton', 2217407), ('Laura Regan', 2217407), ('Gina Torres', 2196245), ('Brooke Smith', 2188922), ('Kelly Carlson', 2165608), ('Abigail Bianca', 2165608), ('Anthony Ray Parker', 2165608), ('Aimee Teegarden', 2130000), ('Thomas McDonell', 2130000), ('Nicholas Braun', 2130000), ('Danielle Campbell', 2130000), ('MÃ©lanie Thierry', 2108608), (\"Kerry O'Malley\", 2000000), ('Josh Peck', 1841858), ('Ludivine Sagnier', 1269536), ('Mena Suvari', 682118), ('Flaminia Cinque', 536623), ('Zena Grey', 122338), ('Dylan Baker', -254693), ('Michael Pitt', -346981), ('Rachelle Lefevre', -486801), ('John Cena', -554066), ('Clifton Collins, Jr.', -626216), ('Callum Keith Rennie', -1189887), ('Yvonne Strahovski', -2068302), ('Eamonn Walker', -2239647), ('Brennan Brown', -2347965), (\"Peter O'Toole\", -2377154), ('RubÃ©n Blades', -2377154), ('Glenn Howerton', -2385227), ('Christopher Jordan Wallace', -2385227), ('Kuno Becker', -2389127), ('Charles Grodin', -2412515), ('Cyril Raffaelli', -2415869), (\"Tony D'Amario\", -2415869), ('Dany Verissimo-Petit', -2415869), ('Bibi Naceri', -2415869), ('Sarah Snook', -2500000), ('Christopher Kirby', -2500000), ('Madeleine West', -2500000), ('Shahkrit Yamnarm', -2512610), ('Charlie Yeung', -2512610), ('Panward Hemmanee', -2512610), ('Nirattisai Kaljaruek', -2512610), ('Jason Dohring', -2514873), ('Enrico Colantoni', -2514873), ('Chris Lowell', -2514873), ('Percy Daggs III', -2514873), ('Joseph Cross', -2516590), ('Mary Beth Hurt', -2516590), ('Dylan McDermott', -2533556), ('William Black', -2563491), ('Elijah Cummings', -2563491), ('Baron Hill', -2563491), ('James Brolin', -2567837), ('Cory Monteith', -2575000), ('Victoria Justice', -2582638), ('Chelsea Handler', -2582638), ('Josh Pence', -2582638), ('Maika Monroe', -2632839), ('Sheila Kelley', -2632839), ('Aubrey Peeples', -2666316), ('Aurora Perrineau', -2666316), ('Hayley Kiyoko', -2666316), ('Barnaby Carpenter', -2666316), ('Michael T. Weiss', -2683342), ('Katharine Isabelle', -2683342), ('Omar Metwally', -2751330), ('Moa Khouas', -2751330), ('Zineb Oukach', -2751330), ('Marshall Bell', -2822857), ('Toby Huss', -2822857), ('Pat Healy', -2822857), ('Matt Long', -2879925), ('Jeremy Howard', -2879925), ('Danny Strong', -2879925), ('Benjamin Hollingsworth', -2977272), ('Lauren Hutton', -2977272), ('Andy Davoli', -3000000), (\"Peter O'Brien\", -3007986), ('Mitch Baker', -3019004), ('Jordan Garrett', -3025541), ('Debbie Reynolds', -3106279), ('Sherri Shepherd', -3106279), ('Patrick Fischler', -3106279), ('VerÃ³nica Echegui', -3136417), ('Rafe Spall', -3153000), ('Megan Park', -3153000), ('Margarita Levieva', -3189887), ('Mark Addy', -3241743), ('Daniel Baldwin', -3394237), ('Madeline Carroll', -3400000), ('Caity Lotz', -3450523), ('Jay Chandrasekhar', -3498345), ('Paul Soter', -3498345), ('Erik Stolhanske', -3498345), ('Tanja Reichert', -3498345), ('Mark Duplass', -3565222), ('Shalom Harlow', -3575530), ('Ivana MiliÄeviÄ‡', -3575530), ('Sarah Murdoch', -3575530), ('Aidan McArdle', -3611233), ('Avery Brooks', -3640020), ('Jesse Plemons', -3741940), ('Jack McElhone', -3900000), ('Dania Ramirez', -3916401), ('WolÃ© Parks', -3916401), ('Walter Matthau', -3962091), ('Adam Arkin', -3962091), ('Ben Daniels', -4012679), ('Deobia Oparei', -4012679), ('Kerry Fox', -4059945), ('Edie Martin', -4059945), ('John Cothran, Jr.', -4096154), ('Scott Mechlowicz', -4203153), ('Jacob Pitts', -4203153), ('Travis Wester', -4203153), ('Chi Cao', -4280549), ('Chengwu Guo', -4280549), ('Wen Bin Huang', -4280549), ('Joan Chen', -4280549), ('Eugene Hutz', -4302070), ('Boris Leskin', -4302070), ('Jana Hrabetova', -4302070), ('Jonathan Safran Foer', -4302070), ('Jenna Elfman', -4449152), ('Rupert Everett', -4546957), ('Felicity Huffman', -4639719), ('Lee Asquith-Coe', -4880844), ('Augustus Prew', -4929670), ('Rita Wilson', -4937934), ('Ron Leibman', -4937934), ('Akshay Kumar', -5000000), ('Neha Dhupia', -5000000), ('Aditya Roy Kapoor', -5000000), ('Randhir Kapoor', -5000000), ('Shawn Roberts', -5098661), ('John Magaro', -5170043), ('Nick Lashaway', -5170043), ('Chazz Palminteri', -5500000), ('Rae Dawn Chong', -5582420), ('Michael Michele', -5762530), ('Loren Dean', -5767020), ('John Pyper-Ferguson', -5767020), ('Andrew Scott', -5772702), ('Leelee Sobieski', -5806669), ('Patricia VelÃ¡squez', -5851171), ('Kristin Scott Thomas', -5895284), ('Sean Pertwee', -5966835), ('G. W. Bailey', -6048539), ('Teddy Geiger', -6237110), ('Billie Whitelaw', -6439124), ('R. H. Thomson', -6540542), ('Gregory Itzin', -6597680), ('Allison Mackie', -6597680), ('Francesca Neri', -6617567), ('Blake Woodruff', -6714803), ('Julian Christopher', -6714803), ('Bruce Campbell', -6888686), ('Joanna Lumley', -6964239), ('Damon Herriman', -6979977), ('Riley Keough', -7004189), ('Stella Maeve', -7004189), ('Kelsey Grammer', -7040020), ('Brady Corbet', -7061128), ('Devon Gearhart', -7061128), ('Kelly Clarkson', -7077834), ('Justin Guarini ', -7077834), ('Brandon Henschel', -7077834), ('Greg Siff', -7077834), ('Brian Dietzen', -7077834), ('Mary-Louise Parker', -7110296), ('Brooke Shields', -7126596), ('Tim Daly', -7207439), ('Jeremy Sisto', -7249425), ('Zaid Farid', -7258268), ('Bruce Altman', -7258702), ('Andrew Ginsburg', -7258702), ('Nikki Reed', -7360655), ('Lydia Hull', -7360655), ('Troy Garity', -7368097), ('William Converse-Roberts', -7368097), ('Julianna Guill', -7372508), ('Luke Pasqualino', -7372508), ('Paul Freeman', -7498062), ('Gemmenne de la PeÃ±a', -7517225), ('Claire Forlani', -7539628), ('Laura Prepon', -7586085), ('Jon Seda', -7601372), ('Daniela Ruah', -7634623), ('Chris Massoglia', -7639625), ('Riaad Moosa', -7670000), ('Joe Morton', -7677600), ('Ron Rifkin', -7677600), ('Susanna Thompson', -7677600), ('Kelly Lynch', -7873775), ('KryÅ¡tof HÃ¡dek', -7919749), ('Paul Brannigan', -7919749), ('Michael Moreland', -7919749), ('Scott Dymond', -7919749), ('Elyes Gabel', -7992930), ('Ian Somerhalder', -8092315), ('Sherry Miller', -8114566), ('Sharon Osbourne', -8114566), ('Dondre Whitfield', -8199698), ('Ashley Scott', -8285235), ('Anthony Rapp', -8329380), ('Jesse L. Martin', -8329380), ('Wilson Jermaine Heredia', -8329380), ('Richard E. Grant', -8444012), ('Jim Carter', -8444012), ('Pamela Gidley', -8444012), ('Kyle Gass', -8594405), ('Ronnie James Dio', -8594405), ('Meat Loaf', -8594405), ('Stephen Spinella', -8658984), ('Alec Mapa', -8658984), ('Liam McIntyre', -8720548), ('Gaia Weiss', -8720548), ('Scott Adkins', -8720548), ('Roxanne McKee', -8720548), ('Sam Jaeger', -8841513), ('Katherine Waterston', -8889025), ('Eduardo Noriega', -9073590), ('Drake Bell', -9128166), ('Leslie Nielsen', -9128166), ('Christopher Lambert', -9156392), ('Adrian Paul', -9156392), ('Donnie Yen', -9156392), ('Lisa Barbuscia', -9156392), ('Michael C. Hall', -9171460), ('Jason London', -9217324), ('Lee Majors', -9217324), ('Willie Garson', -9217324), ('Gordon Pinsent', -9269982), ('Liane Balaban', -9269982), ('Mark Critch', -9269982), ('Nonso Anozie', -9450893), ('Gemma Chan', -9450893), ('Frank C. Turner', -9557192), ('Matthew Walker', -9557192), ('Josh Flitter', -9568823), ('Peter Firth', -9568823), ('Dejan Angelov', -9651751), ('DragoÈ™ Bucur', -9651751), ('Caroline Chikezie', -9695999), ('Kelan Pannell', -9713701), ('Janette Scott', -9713701), ('Elle Peterson', -9775758), ('Thomas Curtis', -9775758), ('Susan Ward', -9782502), ('Lori Heuring', -9782502), ('Matthew Settle', -9782502), ('Nathan Bexton', -9782502), ('Tess Harper', -9782502), ('Maury Chaykin', -9800895), ('Anne Archer', -9800895), ('Nash Edgerton', -9954577), ('Anthony Hayes', -9954577), ('Mackenzie Gray', -10027033), ('James Hetfield', -10027033), ('Lars Ulrich', -10027033), ('Kirk Hammett', -10027033), ('Karyn Parsons', -10300000), ('Billy Dee Williams', -10300000), ('Jill Talley', -10300000), ('Taylor Schilling', -10372625), ('Paul Johansson', -10372625), ('Grant Bowler', -10372625), ('Jodie Whittaker', -10385849), ('John Boyega', -10385849), ('Luke Treadaway', -10385849), ('Doug Hutchison', -10410627), ('Jacob Latimore', -10481811), ('Caitlin Stasey', -10495064), ('Phoebe Tonkin', -10495064), ('Deniz Akdeniz', -10495064), ('Lincoln Lewis', -10495064), ('Pam Grier', -10512135), (\"David O'Hara\", -10788574), ('Lauren Ambrose', -10840066), ('Vanessa Lachey', -10890716), ('Nicole Ari Parker', -10890716), ('Crista Flanagan', -10890716), (\"Gary 'G. Thang' Johnson\", -10890716), ('Brian J. White', -10919372), ('Jolie Vanier', -11027492), ('Gabriel Mann', -11044402), ('Tia Texada', -11137288), (\"Ed O'Neill\", -11137288), ('Jay Mohr', -11269953), ('Aishwarya Rai Bachchan', -11300535), ('Becca Gardner', -11381716), ('Maurice Godin', -11413624), ('Heather Locklear', -11485156), ('Rebecca De Mornay', -11588043), ('John Robinson', -11588043), ('Bill Goldberg', -11627590), ('Agata Buzek', -11647115), ('Vicky McClure', -11647115), ('Benedict Wong', -11647115), ('Max Thieriot', -11710585), ('Jeremy Northam', -11860709), ('Vanessa Redgrave', -11903700), ('Eva Amurri Martino', -11941633), ('Taylor Kinney', -11979336), ('Bai Ling', -12041304), ('Vincent Pastore', -12069815), ('Richard Roundtree', -12167000), ('Greg Bryk', -12179359), ('Sela Ward', -12303252), ('MaÃ¯ Anh Le', -12327950), ('Oanh Nguyen', -12327950), (\"Jaran 'See Tao' Petcharoen\", -12327950), ('StÃ©phanie Lagarde', -12327950), ('Antje Traue', -12354673), ('Cung Le', -12354673), ('Danny McCarthy', -12464669), ('Kevin Sussman', -12965168), ('Rebecca Romijn', -13046603), ('Amy Brenneman', -13069116), ('Sarah Dubrovsky', -13150858), ('Judd Hirsch', -13209021), ('Eve Hewson', -13209021), ('Kerry Condon', -13209021), ('Raad Rawi', -13371787), ('Mehmet Ferda', -13371787), ('Philip Quast', -13371787), ('Sharon Stone', -13526042), ('Jakob Salvati', -13579681), ('David Henrie', -13579681), ('Frank Collison', -13844219), ('Jack Huston', -13953036), ('Natasha Henstridge', -13989168), ('Tiya Sircar', -14000000), ('Kevin Chamberlin', -14000000), ('Russell Means', -14177139), ('Jay Tavare', -14177139), ('Daniel Gillies', -14373200), ('Pruitt Taylor Vince', -14373200), ('Chrysta Olson', -14373200), ('Fairuza Balk', -14410898), ('Stacey Dash', -14423505), ('Jane Alexander', -14518911), ('Charlotte Rampling', -14620591), ('Sophie Marceau', -14631103), ('Paul Wilson', -14631103), ('Rachel Dratch', -14701793), ('Gaelan Connell', -14789012), ('Melissa Sagemiller', -14988268), ('Omari Hardwick', -14988268), ('Eddie Cibrian', -14992009), ('Brandon Routh', -15365938), ('Sam Huntington', -15365938), ('Travis Oates', -15540000), ('Bud Luckey', -15540000), ('Diego Boneta', -15581387), ('Portia de Rossi', -15705099), ('Lambert Wilson', -15789013), (\"Mickey O'Keefe\", -15809131), ('Meredith Droeger', -15865707), ('Michelle Yeoh', -15873589), ('Charlotte Gainsbourg', -15998879), ('Kieran Culkin', -16557976), ('Raymond J. Barry', -16682849), ('Shawn Hatosy', -16978735), ('Jeremy Davies', -16997242), ('Christopher Cousins', -16998743), ('George Dzundza', -17566085), ('Chris Carmack', -17873542), ('Chris Zylka', -17873542), ('Dustin Milligan', -17873542), ('Lisa Roberts Gillan', -18146652), ('Rie Rasmussen', -18161090), ('Gregg Henry', -18161090), ('Edward James Olmos', -18567273), (\"Matt O'Leary\", -18640258), ('Sara Paxton', -18874784), ('Mario Van Peebles', -19286175), ('Ron Silver', -19286175), ('Paul Schneider', -19348152), ('Megan Dodds', -19450800), ('Mark Margolis', -19695110), ('Aunjanue Ellis', -19796494), ('Justin Whalin', -19814759), ('Zoe McLellan', -19814759), ('Mackenzie Crook', -19873733), ('Bob Balaban', -19964585), ('Adrianne Palicki', -20193217), ('Essie Davis', -20372608), ('Joel David Moore', -20506381), ('June Diane Raphael', -20568747), ('Leslie Stefanson', -20765992), ('John Finn', -20765992), ('Udo Kier', -21097985), ('Amelia Curtis', -21097985), ('Wen Yann Shih', -21171682), ('Seymour Cassel', -21171682), ('Gregory Smith', -21321087), ('Levi Miller', -21611680), ('Sam Riley', -22110966), ('Thora Birch', -22378250), ('Chevy Chase', -22493812), ('Christian McKay', -22663828), ('Tiger Hu Chen', -22945059), ('Jeremy Marinas', -22945059), ('Steven Dasz', -22945059), ('Karen Mok', -22945059), ('Edie Falco', -23009372), ('Armand Assante', -23040764), ('Courtney Love', -23083131), ('SÃ´nia Braga', -23300000), ('Peter Weller', -23439194), ('Stephen Baldwin', -23531725), ('Kristen Johnston', -23531725), ('Joan Collins', -23531725), ('Wanda De Jesus', -23800483), ('Tina Lifford', -23800483), ('Kou Shibasaki', -24037525), ('Min Tanaka', -24037525), ('John Benjamin Hickey', -24099751), ('Patrick Fugit', -24446640), ('Alexander Siddig', -24726592), ('Shelbie Bruce', -24958633), ('Tammy Blanchard', -25091435), ('Lance Reddick', -25138978), ('Leland Orser', -26085092), ('Tim Curry', -26102377), ('Jordana Spiro', -26387531), (\"Jodi Lyn O'Keefe\", -26820934), ('Horatio Sanz', -27173844), ('Justin Michael Brandt', -27472096), ('Richard Goteri', -27472096), ('Peter Carey', -27472096), ('Tom Skerritt', -27793972), ('Shawn Doyle', -27793972), ('Wendy Raquel Robinson', -28190986), ('Nelsan Ellis', -28279842), ('Michael Bunin', -28279842), ('Michael Rispoli', -29199698), ('Martin Landau', -29322326), ('Jasmine Trinca', -29335251), ('Benno FÃ¼rmann', -29406029), ('Justin Theroux', -29501089), ('Max Martini', -29833498), ('Tom Sturridge', -29866898), ('Bridget Fonda', -30152636), ('Frances Conroy', -30417903), ('Roscoe Lee Browne', -30421885), ('Stephen Dorff', -30655177), ('Ashraf Barhom', -30958495), ('Michael Lonsdale', -30958495), ('Jim Cummings', -31080000), ('Jorma Taccone', -31311169), ('Matt Lauer', -31311169), ('Stan Collymore', -31370522), ('Josh Holloway', -31380311), ('Stephen McHattie', -31874469), ('Laz Alonso', -32499282), ('Ryan Cartwright', -32589251), ('Mischa Barton', -32589251), ('Jay Villiers', -32589251), ('Simone Spinazze', -32589251), ('Randall Park', -32694825), ('Diana Bang', -32694825), ('Sarita Choudhury', -32714831), ('Cindy Cheung', -32714831), ('Sami Gayle', -32893443), ('Kevin Costner', -34908956), ('Jessica Brown Findlay', -34972471), ('Rachel Nichols', -35584232), ('William Forsythe', -36078488), ('Keith Dallas', -36438863), ('Bruce Payne', -36469213), ('Harry Treadaway', -37130952), ('Kristin Kreuk', -37235799), ('Marcel IureÈ™', -37712956), ('CÃ©cile De France', -37821105), ('Robert Fyfe', -37821105), ('Omar Epps', -38875943), ('Sarah Shahi', -38958676), ('Kip Pardue', -39255262), ('Robert Sean Leonard', -39255262), ('Estella Warren', -39255262), ('Chris Kattan', -40007608), ('Jason Bonham', -40008098), ('Unax Ugalde', -40392392), ('Catalina Sandino Moreno', -40392392), ('Joel Gretsch', -40540573), ('Kate Burton', -41657868), ('ZoÃ« Bell', -41962103), ('Vanessa Ferlito', -41962103), ('Sydney Tamiia Poitier', -41962103), ('Scott Hazell', -42200000), ('Mac McDonald', -42200000), ('Philip Winchester', -42200000), ('Todd Boyce', -42200000), ('Janeane Garofalo', -42615954), ('Natascha McElhone', -43024897), ('Kevin Conway', -43076064), ('C. Thomas Howell', -43076064), ('Sara Foster', -43191450), ('Linh Äan Pháº¡m', -43452791), ('James Purefoy', -44066149), ('Johnny Strong', -44187007), ('Steve Burton', -44357293), ('Jim Belushi', -45290145), ('Steven Culp', -45433254), ('Shawn Driscoll', -45433254), ('Peter Mullan', -45596962), ('Paz Vega', -45927296), ('Sophia Myles', -45966317), ('RenÃ©e Taylor', -46604061), ('Lenny Venito', -46733791), ('Zoe Kazan', -46814567), ('Scott Caan', -47864159), ('Adam Beach', -48183791), ('Danny Huston', -50921934), ('Stephanie Szostak', -50963643), ('Tory Kittles', -51788987), ('Ming-Na Wen', -51868170), ('James Kidnie', -51893525), ('Heidi Hawkins', -51893525), ('Leehom Wang', -52247060), ('Tang Wei', -52247060), ('Holt McCallany', -52247060), ('Rose McGowan', -52832569), ('Christian Slater', -52837017), ('Rachael Leigh Cook', -56354007), ('Adewale Akinnuoye-Agbaje', -58107342), ('Brandy Norwood', -61403089), ('Joe Pantoliano', -62172931), ('Courtney B. Vance', -64449405), ('Joss Ackland', -64831034), ('John Shrapnel', -64831034), ('Jackson Bond', -64928486), ('Alice Krige', -65084812), ('Robert Mammone', -69833498), ('James Carpinello', -69833498), ('Mark Consuelos', -69833498), ('Jane Krakowski', -70135786), ('Lena Olin', -71626175), ('Charlie Hewson', -71626175), ('Heike Makatsch', -74010360), ('Armin Rohde', -74010360), ('Wilfried Hochholdinger', -74010360), ('Lou Diamond Phillips', -75171919), ('Bryan Brown', -80445998), ('James Spader', -86199411), ('Jason Momoa', -86715150), ('Dan Fogler', -88887046), ('David Hyde Pierce', -106526767), ('Elisabeth Harnois', -111007242), ('Emilio EchevarrÃ\\xada', -119180039), ('Kate Bosworth', -369455668), ('Jang Dong-gun', -413912431), ('Ti Lung', -413912431)]\n"
     ]
    }
   ],
   "source": [
    "#cписал со слака. мозгов не хватил (в каком модуле искать все эти шаги?)\n",
    "import operator\n",
    "\n",
    "data2 = data\n",
    "result = dict()\n",
    "\n",
    "for i in range(len(data2)):\n",
    "    actors = data2.iloc[i].cast.split('|')\n",
    "    for actor in actors:\n",
    "        if actor not in result:\n",
    "            result[actor]=data2.iloc[i].profit\n",
    "        else:\n",
    "            result[actor]+=data2.iloc[i].profit\n",
    "\n",
    "sorted_d = sorted(result.items(), reverse=True, key=operator.itemgetter(1))\n",
    "print(sorted_d)\n",
    "answer_ls.append(1)"
   ]
  },
  {
   "cell_type": "markdown",
   "metadata": {},
   "source": [
    "# 17. Какой актер принес меньше всего прибыли в 2012 году?\n",
    "Варианты ответов:\n",
    "1. Nicolas Cage\n",
    "2. Danny Huston\n",
    "3. Kirsten Dunst\n",
    "4. Jim Sturgess\n",
    "5. Sami Gayle"
   ]
  },
  {
   "cell_type": "code",
   "execution_count": 35,
   "metadata": {},
   "outputs": [
    {
     "name": "stdout",
     "output_type": "stream",
     "text": [
      "[('Kirsten Dunst', -68109207), ('Timothy Spall', -51893525), ('James Kidnie', -51893525), ('Heidi Hawkins', -51893525), ('Malin Ã…kerman', -43733509), ('Nicolas Cage', -32893443), ('Josh Lucas', -32893443), ('Sami Gayle', -32893443), ('Danny Huston', -32893443), ('Jim Sturgess', -23410657), ('John Krasinski', -22141997), ('Isabel Lucas', -20193217), ('Adrianne Palicki', -20193217), ('Eddie Murphy', -17955723), ('Allison Janney', -17955723), ('Cliff Curtis', -17955723), ('Clark Duke', -17955723), ('Garrett Hedlund', -16215682), ('Sam Riley', -16215682), ('Tom Sturridge', -16215682), ('Diego Boneta', -15581387), ('Julianne Hough', -15581387), ('Josh Duhamel', -15363831), ('Rosario Dawson', -15363831), (\"Vincent D'Onofrio\", -15363831), ('50 Cent', -15363831), ('Drew Barrymore', -15280785), ('Kristen Bell', -15280785), ('Vinessa Shaw', -15280785), ('Dermot Mulroney', -15280785), ('Tyler Perry', -14646768), ('Rachel Nichols', -14646768), ('Jean Reno', -14646768), ('Matthew Fox', -14646768), ('Giancarlo Esposito', -14646768), ('Sarah Gadon', -14436444), ('Juliette Binoche', -14436444), ('Paul Giamatti', -14436444), ('Samantha Morton', -14436444), ('Eva Amurri Martino', -11941633), ('Leighton Meester', -11941633), ('Andy Samberg', -11941633), ('Jennifer Aniston', -10840066), ('Justin Theroux', -10840066), ('Lauren Ambrose', -10840066), ('Karl Urban', -8962258), ('Olivia Thirlby', -8962258), ('Lena Headey', -8962258), ('Wood Harris', -8962258), ('Jason Cope', -8962258), ('Cuba Gooding Jr.', -7634623), ('Daniela Ruah', -7634623), ('Terrence Howard', -7634623), ('Ashley Greene', -7372508), ('Sebastian Stan', -7372508), ('Tom Felton', -7372508), ('Julianna Guill', -7372508), ('Luke Pasqualino', -7372508), ('Matt Damon', -6861212), ('Rosemarie DeWitt', -6861212), ('Lucas Black', -6861212), ('Jason Bateman', -6571952), ('Hope Davis', -6571952), ('Frank Grillo', -6571952), ('Paula Patton', -6571952), ('Michael Nyqvist', -6571952), ('Michael Shannon', -3916401), ('Dania Ramirez', -3916401), ('Jamie Chung', -3916401), ('WolÃ© Parks', -3916401), ('Joaquin Phoenix', -3741940), ('Philip Seymour Hoffman', -3741940), ('Amy Adams', -3741940), ('Laura Dern', -3741940), ('Jesse Plemons', -3741940), ('Mark Duplass', -3565222), ('Henry Cavill', -3136417), ('VerÃ³nica Echegui', -3136417), ('Sigourney Weaver', -3136417), ('Caroline Goodall', -3136417), ('Katherine Heigl', -3106279), ('Debbie Reynolds', -3106279), ('Sherri Shepherd', -3106279), ('Patrick Fischler', -3106279), ('Victoria Justice', -2582638), ('Jackson Nicoll', -2582638), ('Chelsea Handler', -2582638), ('Josh Pence', -2582638), ('Jane Levy', -2582638), ('Eva Longoria', -2377154), ('Andy GarcÃ\\xada', -2377154), ('Oscar Isaac', -2377154), (\"Peter O'Toole\", -2377154), ('RubÃ©n Blades', -2377154), ('Blake Lively', 2000000), ('Aaron Taylor-Johnson', 2000000), ('Benicio del Toro', 2000000), ('Danielle Panabaker', 3493728), ('Matt Bush', 3493728), ('Katrina Bowden', 3493728), ('Jean-Luc Bilodeau', 3493728), ('David Koechner', 3493728), ('John Cusack', 3657751), ('Luke Evans', 3657751), ('Alice Eve', 3657751), ('Kevin McNally', 3657751), ('Olivia Wilde', 3666239), ('Jamie Bell', 4221189), ('Ed Harris', 4221189), ('Edward Burns', 4221189), ('Sam Rockwell', 4422261), ('Christopher Walken', 4422261), ('Abbie Cornish', 4422261), ('Zoe Saldana', 7231461), ('Jeremy Irons', 7231461), ('Dennis Quaid', 7231461), ('Chris Sarandon', 10346186), ('James Hong', 10346186), ('Catherine Chan', 10346186), ('Robert John Burke', 10346186), ('Gina Carano', 10372606), ('Bill Paxton', 10372606), ('Whitney Houston', 10637469), ('Cee Lo Green', 10637469), ('Derek Luke', 10637469), ('Mike Epps', 10637469), ('Carmen Ejogo', 10637469), ('Susan Sarandon', 11543423), ('Joseph Gilgun', 12204030), ('Lennie James', 12204030), ('Peter Stormare', 12204030), ('Joseph Gordon-Levitt', 13125599), ('Paul Dano', 17042000), ('Noah Segan', 17042000), ('Logan Lerman', 20400000), ('Emma Watson', 20400000), ('Ezra Miller', 20400000), ('Nina Dobrev', 20400000), ('Katy Perry', 20726956), ('Russell Brand', 20726956), ('Shannon Woodward', 20726956), ('Rachael Markarian', 20726956), ('Mia Moretti', 20726956), ('Brad Pitt', 22930465), ('Scoot McNairy', 22930465), ('Ben Mendelsohn', 22930465), ('James Gandolfini', 22930465), ('Ray Liotta', 22930465), ('Richard Gere', 23485056), ('Tim Roth', 23485056), ('Brit Marling', 23485056), ('Monica Raymund', 23485056), ('Alison Brie', 23909751), ('Lynn Collins', 24139100), ('Willem Dafoe', 24139100), ('Sean Hayes', 24819301), ('Will Sasso', 24819301), ('Chris Diamantopoulos', 24819301), ('SofÃ\\xada Vergara', 24819301), ('Shia LaBeouf', 27676580), ('Mia Wasikowska', 27676580), ('Tom Hanks', 28482868), ('Halle Berry', 28482868), ('Jim Broadbent', 28482868), ('Hugo Weaving', 28482868), ('Adelaide Clemens', 32302796), ('Kit Harington', 32302796), ('Sean Bean', 32302796), ('Carrie-Anne Moss', 32302796), ('Radha Mitchell', 32302796), ('Kristen Connolly', 36486080), ('Anna Hutchison', 36486080), ('Fran Kranz', 36486080), ('Jesse Williams', 36486080), ('Ben Foster', 38100000), ('J.K. Simmons', 38100000), ('Cameron Diaz', 39700000), ('Jennifer Lopez', 39700000), ('Emily Blunt', 40951751), ('Jake Gyllenhaal', 41126384), ('Michael PeÃ±a', 41126384), ('Natalie Martinez', 41126384), ('David Harbour', 41126384), ('Charlie Tahan', 42491068), ('Winona Ryder', 42491068), (\"Catherine O'Hara\", 42491068), ('Martin Short', 42491068), ('Martin Landau', 42491068), ('Benjamin Walker', 43265139), ('Dominic Cooper', 43265139), ('Anthony Mackie', 43265139), ('Mary Elizabeth Winstead', 43265139), ('Rufus Sewell', 43265139), ('Kodi Smit-McPhee', 47139399), ('Tucker Albrizzi', 47139399), ('Jodelle Ferland', 47139399), ('Casey Affleck', 47139399), ('Maggie Smith', 48520298), ('Tom Courtenay', 48520298), ('Pauline Collins', 48520298), ('Michael Gambon', 48520298), ('Jeffrey Dean Morgan', 51252858), ('Jared Gilman', 52263166), ('Kara Hayward', 52263166), ('Bill Murray', 52263166), ('Leslie Mann', 53058786), ('Maude Apatow', 53058786), ('Devon Bostick', 55112176), ('Steve Zahn', 55112176), ('Peyton List', 55112176), ('Rachael Harris', 55112176), ('Zachary Gordon', 55112176), ('Hugh Grant', 58338361), ('Jeremy Piven', 58338361), ('Brian Blessed', 58338361), ('Salma Hayek', 60338361), ('Stephen Rea', 62400000), ('Theo James', 62400000), ('India Eisley', 62400000), ('Paul Rudd', 62618720), ('Roselyn SÃ¡nchez', 69272766), ('Emilio Rivera', 69272766), ('Nestor Serrano', 69272766), ('Gonzalo Menendez', 69272766), ('Alexander Asefa', 69272766), ('Natasha Calis', 71446075), ('Madison Davenport', 71446075), ('Kyra Sedgwick', 71446075), ('Rob LaBelle', 71446075), ('Jessica Biel', 73802074), ('Bill Nighy', 73802074), ('Jason Segel', 76968537), ('Colin Farrell', 78224335), ('Jerry Ferrara', 84070507), ('Meagan Good', 84070507), ('Regina Hall', 84070507), ('Kevin Hart', 84070507), ('Meryl Streep', 84281051), ('Steve Carell', 84281051), ('Jean Smart', 84281051), ('Marin Ireland', 84281051), ('Oliver Cooper', 88000000), ('Jonathan Daniel Brown', 88000000), ('Thomas Mann', 88000000), ('Dax Flame', 88000000), ('Kirby Bliss Blanton', 88000000), ('Michelle Pfeiffer', 91961927), ('Jason Clarke', 92820716), ('Joel Edgerton', 92820716), ('Alexander SkarsgÃ¥rd', 94025485), ('Rihanna', 94025485), ('Tadanobu Asano', 94025485), ('Billy Crystal', 94772232), ('Bette Midler', 94772232), ('Marisa Tomei', 94772232), ('Tom Everett Scott', 94772232), ('Bailee Madison', 94772232), ('Johnny Depp', 95527149), ('Helena Bonham Carter', 95527149), ('Jackie Earle Haley', 95527149), ('Jonny Lee Miller', 95527149), ('Julia Roberts', 98018522), ('Lily Collins', 98018522), ('Armie Hammer', 98018522), ('Nathan Lane', 98018522), ('Martin Klebba', 98018522), ('Skylar Astin', 98350426), ('Brittany Snow', 98350426), ('Anna Camp', 98350426), ('Rebel Wilson', 98350426), ('Kathryn McCormick', 107470746), ('Ryan Guzman', 107470746), ('Stephen Boss', 107470746), ('Megan Boone', 107470746), ('Jessica Guadix', 107470746), ('Daniel Radcliffe', 110730736), ('Sidney Johnston', 110730736), ('Alisa Khazanova', 110730736), ('Mary Stockley', 110730736), ('Sayed Badreya', 114379533), ('Aasif Mandvi', 114379533), ('Anna Faris', 114379533), ('Chris Pratt', 116730467), ('Mark Strong', 116959816), ('Taylor Kitsch', 120164585), ('Jessica Chastain', 120497296), ('Denzel Washington', 123076205), ('Ryan Reynolds', 123076205), ('Vera Farmiga', 123076205), ('Joel Kinnaman', 123076205), ('Dane DeHaan', 130000000), ('Alex Russell', 130000000), ('Michael B. Jordan', 130000000), ('Michael Kelly', 130000000), ('Anna Wood', 130000000), ('Brooklyn Decker', 133725485), ('CiarÃ¡n Hinds', 134869836), ('Katie Featherston', 137817992), ('Kathryn Newton', 137817992), ('Matt Shively', 137817992), ('Brady Allen', 137817992), ('Sprague Grayden', 137817992), ('Naomi Watts', 138274123), ('Tom Holland', 138274123), ('Samuel Joslin', 138274123), ('Oaklee Pendergast', 138274123), ('Tom Cruise', 142759208), ('Alec Baldwin', 146360283), ('Michael Ealy', 146470507), ('Jeremy Renner', 146572938), ('Rachel Weisz', 146572938), ('Scott Glenn', 146572938), ('Stacy Keach', 146572938), ('Ewan McGregor', 148646729), ('David Oyelowo', 150705972), ('Edgar RamÃ\\xadrez', 151000000), ('Sam Worthington', 155221189), ('Richard Jenkins', 158340595), ('Werner Herzog', 158340595), ('Chris Pine', 158376448), ('Jonah Hill', 159585328), ('Brie Larson', 159585328), ('Dave Franco', 159585328), ('Ellie Kemper', 159585328), ('Matthew McConaughey', 160221571), ('Olivia Munn', 160221571), ('Cody Horn', 160221571), ('Alex Pettyfer', 160221571), ('Jude Law', 161941670), ('Isla Fisher', 161941670), ('Rachel McAdams', 166114570), ('Sam Neill', 166114570), ('Scott Speedman', 166114570), ('Jessica Lange', 166114570), ('Megan Fox', 167438319), ('Kate Beckinsale', 174302074), ('Milla Jovovich', 175159255), ('Sienna Guillory', 175159255), ('Michelle Rodriguez', 175159255), ('Aryana Engineer', 175159255), ('Li Bingbing', 175159255), ('Robert De Niro', 184738714), ('Jacki Weaver', 184738714), ('Chris Tucker', 184738714), ('Jason Biggs', 184989584), ('Alyson Hannigan', 184989584), ('Chris Klein', 184989584), ('Thomas Ian Nicholas', 184989584), ('Brendan Gleeson', 185072317), ('Ben Affleck', 187824128), ('Alan Arkin', 187824128), ('John Goodman', 187824128), ('Victor Garber', 187824128), ('Bradley Cooper', 191970175), ('Edward Norton', 198836104), ('Sylvester Stallone', 212573423), ('Dolph Lundgren', 212573423), ('Arnold Schwarzenegger', 212573423), ('Jason Statham', 222919609), ('Anna Kendrick', 226316209), ('Sam Claflin', 226600000), ('Ian McShane', 226600000), ('Bryan Cranston', 238410192), ('Adam Sandler', 261433970), ('Bruce Willis', 263378341), ('Noomi Rapace', 273170142), ('Idris Elba', 273170142), ('Steve Buscemi', 273375603), ('David Spade', 273375603), ('Kevin James', 273375603), ('Selena Gomez', 273375603), ('Dwayne Johnson', 276692760), ('Kristin Davis', 276692760), ('Vanessa Hudgens', 276692760), ('Luis GuzmÃ¡n', 276692760), ('Zac Efron', 278840316), ('Danny DeVito', 278840316), ('Taylor Swift', 278840316), ('Ed Helms', 278840316), ('Rob Riggle', 278840316), ('Michael Fassbender', 283542748), ('John C. Reilly', 306222889), ('Sarah Silverman', 306222889), ('Jack McBrayer', 306222889), ('Jamie Elman', 306222889), ('Kerry Washington', 307412515), ('Rosamund Pike', 309340595), ('Guy Pearce', 313050752), ('Jamie Foxx', 325368238), ('Christoph Waltz', 325368238), ('Leonardo DiCaprio', 325368238), ('Samuel L. Jackson', 325368238), ('Jane Lynch', 331042190), ('Famke Janssen', 331141306), ('Rade Serbedzija', 331141306), ('Luke Grimes', 331141306), ('Maggie Grace', 343345336), ('Kelly Macdonald', 353983207), ('Julie Walters', 353983207), ('Kevin McKidd', 353983207), ('Russell Crowe', 380809770), ('Amanda Seyfried', 380809770), ('Will Smith', 399026776), ('Josh Brolin', 399026776), ('Michael Stuhlbarg', 399026776), ('Billy Connolly', 402503505), ('Liam Neeson', 482141306), ('Tommy Lee Jones', 483307827), ('Suraj Sharma', 489016565), ('Irrfan Khan', 489016565), ('Ayush Tandon', 489016565), ('Gautam Belur', 489016565), ('Adil Hussain', 489016565), ('Channing Tatum', 496294075), ('Mila Kunis', 499368315), ('Seth MacFarlane', 499368315), ('Joel McHale', 499368315), ('Charlize Theron', 499770142), ('Andrew Garfield', 537215857), ('Emma Stone', 537215857), ('Martin Sheen', 537215857), ('Mark Wahlberg', 537468315), ('Giovanni Ribisi', 537468315), ('Hugh Jackman', 542751440), ('Rhys Ifans', 561125608), ('Frances McDormand', 595060062), ('Ben Stiller', 601921274), ('David Schwimmer', 601921274), ('Chris Rock', 601921274), ('Liam Hemsworth', 616210692), ('Woody Harrelson', 620632953), ('Elizabeth Banks', 656566659), ('Robert Pattinson', 694563556), ('Taylor Lautner', 709000000), ('Peter Facinelli', 709000000), ('Elizabeth Reaser', 709000000), ('Emma Thompson', 753009983), ('Ian McKellen', 767003568), ('Martin Freeman', 767003568), ('Richard Armitage', 767003568), ('Andy Serkis', 767003568), ('Cate Blanchett', 767003568), ('John Leguizamo', 779138503), ('Ray Romano', 782244782), ('Chris Wedge', 782244782), ('Jennifer Lawrence', 800949406), ('Christian Bale', 831041287), ('Michael Caine', 831041287), ('Gary Oldman', 831041287), ('Tom Hardy', 858717867), ('Josh Hutcherson', 872710235), ('Daniel Craig', 908561013), ('Judi Dench', 908561013), ('Javier Bardem', 908561013), ('Naomie Harris', 908561013), ('Kristen Stewart', 919384318), ('Seann William Scott', 967234366), ('Ralph Fiennes', 1059561013), ('Sacha Baron Cohen', 1097110577), ('Anne Hathaway', 1211851057), ('Robert Downey Jr.', 1299557910), ('Chris Evans', 1299557910), ('Mark Ruffalo', 1299557910), ('Scarlett Johansson', 1299557910), ('Denis Leary', 1319460639), ('Chris Hemsworth', 1542450773)]\n"
     ]
    }
   ],
   "source": [
    "#cписал со слака. мозгов не хватил (в каком модуле искать все эти шаги?)\n",
    "import operator\n",
    "\n",
    "data2 = data.loc[data.release_year==2012]\n",
    "result = dict()\n",
    "\n",
    "for i in range(len(data2)):\n",
    "    actors = data2.iloc[i].cast.split('|')\n",
    "    for actor in actors:\n",
    "        if actor not in result:\n",
    "            result[actor]=data2.iloc[i].profit\n",
    "        else:\n",
    "            result[actor]+=data2.iloc[i].profit\n",
    "\n",
    "sorted_d = sorted(result.items(), key=operator.itemgetter(1))\n",
    "print(sorted_d)\n",
    "#answer_ls.append(3)"
   ]
  },
  {
   "cell_type": "markdown",
   "metadata": {},
   "source": [
    "# 18. Какой актер снялся в большем количестве высокобюджетных фильмов? (в фильмах где бюджет выше среднего по данной выборке)\n",
    "Варианты ответов:\n",
    "1. Tom Cruise\n",
    "2. Mark Wahlberg \n",
    "3. Matt Damon\n",
    "4. Angelina Jolie\n",
    "5. Adam Sandler"
   ]
  },
  {
   "cell_type": "code",
   "execution_count": 4,
   "metadata": {},
   "outputs": [
    {
     "data": {
      "text/plain": [
       "[('Matt Damon', 18), ('Adam Sandler', 17), ('Angelina Jolie', 16)]"
      ]
     },
     "execution_count": 4,
     "metadata": {},
     "output_type": "execute_result"
    }
   ],
   "source": [
    "Counter(data[data.budget>data.budget.mean()].cast.str.split('|').sum()).most_common(3)\n",
    "answer_ls.append(3)"
   ]
  },
  {
   "cell_type": "markdown",
   "metadata": {},
   "source": [
    "# 19. В фильмах какого жанра больше всего снимался Nicolas Cage?  \n",
    "Варианты ответа:\n",
    "1. Drama\n",
    "2. Action\n",
    "3. Thriller\n",
    "4. Adventure\n",
    "5. Crime"
   ]
  },
  {
   "cell_type": "code",
   "execution_count": 20,
   "metadata": {},
   "outputs": [
    {
     "data": {
      "text/plain": [
       "[('Action', 17), ('Thriller', 15), ('Drama', 12)]"
      ]
     },
     "execution_count": 20,
     "metadata": {},
     "output_type": "execute_result"
    }
   ],
   "source": [
    "Counter(data.loc[data.cast.str.contains('Nicolas Cage')].genres.str.split('|').sum()).most_common(3)\n",
    "\n",
    "answer_ls.append(2)"
   ]
  },
  {
   "cell_type": "markdown",
   "metadata": {},
   "source": [
    "# 20. Какая студия сняла больше всего фильмов?\n",
    "Варианты ответа:\n",
    "1. Universal Pictures (Universal)\n",
    "2. Paramount Pictures\n",
    "3. Columbia Pictures\n",
    "4. Warner Bros\n",
    "5. Twentieth Century Fox Film Corporation"
   ]
  },
  {
   "cell_type": "code",
   "execution_count": 21,
   "metadata": {},
   "outputs": [
    {
     "data": {
      "text/plain": [
       "[('Universal Pictures', 173),\n",
       " ('Warner Bros.', 168),\n",
       " ('Paramount Pictures', 122)]"
      ]
     },
     "execution_count": 21,
     "metadata": {},
     "output_type": "execute_result"
    }
   ],
   "source": [
    "Counter(data.production_companies.str.split('|').sum()).most_common(3)\n",
    "answer_ls.append(1)"
   ]
  },
  {
   "cell_type": "markdown",
   "metadata": {},
   "source": [
    "# 21. Какая студия сняла больше всего фильмов в 2015 году?\n",
    "Варианты ответа:\n",
    "1. Universal Pictures\n",
    "2. Paramount Pictures\n",
    "3. Columbia Pictures\n",
    "4. Warner Bros\n",
    "5. Twentieth Century Fox Film Corporation"
   ]
  },
  {
   "cell_type": "code",
   "execution_count": 22,
   "metadata": {},
   "outputs": [
    {
     "data": {
      "text/plain": [
       "[('Warner Bros.', 12),\n",
       " ('Universal Pictures', 10),\n",
       " ('Twentieth Century Fox Film Corporation', 8)]"
      ]
     },
     "execution_count": 22,
     "metadata": {},
     "output_type": "execute_result"
    }
   ],
   "source": [
    "Counter(data.loc[data.release_year == 2015].production_companies.str.split('|').sum()).most_common(3)\n",
    "answer_ls.append(4)"
   ]
  },
  {
   "cell_type": "markdown",
   "metadata": {},
   "source": [
    "# 22. Какая студия заработала больше всего денег в жанре комедий за все время?\n",
    "Варианты ответа:\n",
    "1. Warner Bros\n",
    "2. Universal Pictures (Universal)\n",
    "3. Columbia Pictures\n",
    "4. Paramount Pictures\n",
    "5. Walt Disney"
   ]
  },
  {
   "cell_type": "code",
   "execution_count": 45,
   "metadata": {},
   "outputs": [],
   "source": [
    "comedy = data.loc[data.genres.str.contains('Comedy')]\n",
    "data['profit'] = data['revenue'] - data['budget']\n",
    "result = dict()\n",
    "\n",
    "for i in range(len(comedy)):\n",
    "    comedy_prod = comedy.iloc[i].production_companies.split('|')\n",
    "    for production in comedy_prod:\n",
    "        if production not in result:\n",
    "            result[production]=comedy.iloc[i].profit\n",
    "        else:\n",
    "            result[production]+=comedy.iloc[i].profit\n",
    "\n",
    "sorted_d = sorted(result.items(), reverse=True, key=operator.itemgetter(1))\n",
    "#print(sorted_d)\n",
    "\n",
    "answer_ls.append(2)"
   ]
  },
  {
   "cell_type": "markdown",
   "metadata": {},
   "source": [
    "# 23. Какая студия заработала больше всего денег в 2012 году?\n",
    "Варианты ответа:\n",
    "1. Universal Pictures (Universal)\n",
    "2. Warner Bros\n",
    "3. Columbia Pictures\n",
    "4. Paramount Pictures\n",
    "5. Lucasfilm"
   ]
  },
  {
   "cell_type": "code",
   "execution_count": 46,
   "metadata": {},
   "outputs": [],
   "source": [
    "temp = data.loc[data.release_year == 2012]\n",
    "data['profit'] = data['revenue'] - data['budget']\n",
    "result = dict()\n",
    "\n",
    "for i in range(len(temp)):\n",
    "    production = temp.iloc[i].production_companies.split('|')\n",
    "    for company in production:\n",
    "        if company not in result:\n",
    "            result[company]=temp.iloc[i].profit\n",
    "        else:\n",
    "            result[company]+=temp.iloc[i].profit\n",
    "\n",
    "sorted_d = sorted(result.items(), reverse=True, key=operator.itemgetter(1))\n",
    "#print(sorted_d)\n",
    "\n",
    "answer_ls.append(3)"
   ]
  },
  {
   "cell_type": "markdown",
   "metadata": {},
   "source": [
    "# 24. Самый убыточный фильм от Paramount Pictures\n",
    "Варианты ответа:\n",
    "\n",
    "1. K-19: The Widowmaker tt0267626\n",
    "2. Next tt0435705\n",
    "3. Twisted tt0315297\n",
    "4. The Love Guru tt0811138\n",
    "5. The Fighter tt0964517"
   ]
  },
  {
   "cell_type": "code",
   "execution_count": 50,
   "metadata": {},
   "outputs": [
    {
     "data": {
      "text/plain": [
       "'K-19: The Widowmaker'"
      ]
     },
     "execution_count": 50,
     "metadata": {},
     "output_type": "execute_result"
    }
   ],
   "source": [
    "temp = data.loc[data.production_companies.str.contains('Paramount Pictures')]\n",
    "\n",
    "temp.original_title[temp.profit.idxmin]\n",
    "answer_ls.append(1)"
   ]
  },
  {
   "cell_type": "markdown",
   "metadata": {},
   "source": [
    "# 25. Какой Самый прибыльный год (заработали больше всего)?\n",
    "Варианты ответа:\n",
    "1. 2014\n",
    "2. 2008\n",
    "3. 2012\n",
    "4. 2002\n",
    "5. 2015"
   ]
  },
  {
   "cell_type": "code",
   "execution_count": 83,
   "metadata": {},
   "outputs": [
    {
     "data": {
      "text/plain": [
       "release_year\n",
       "2015    18668572378\n",
       "2014    16397812953\n",
       "2012    16077001687\n",
       "2013    15243179791\n",
       "2011    14730241341\n",
       "2009    13423744372\n",
       "2010    13117292530\n",
       "2008    11663881990\n",
       "2007    11565911801\n",
       "2004     9634180720\n",
       "2003     9228823312\n",
       "2002     9002361487\n",
       "2005     8981925558\n",
       "2006     8691077320\n",
       "2001     7950614865\n",
       "2000     6101399805\n",
       "Name: profit, dtype: int64"
      ]
     },
     "execution_count": 83,
     "metadata": {},
     "output_type": "execute_result"
    }
   ],
   "source": [
    "data.groupby(['release_year'])['profit'].sum().sort_values(ascending=False)\n",
    "answer_ls.append(5)"
   ]
  },
  {
   "cell_type": "markdown",
   "metadata": {},
   "source": [
    "# 26. Какой Самый прибыльный год для студии Warner Bros?\n",
    "Варианты ответа:\n",
    "1. 2014\n",
    "2. 2008\n",
    "3. 2012\n",
    "4. 2010\n",
    "5. 2015"
   ]
  },
  {
   "cell_type": "code",
   "execution_count": 62,
   "metadata": {},
   "outputs": [
    {
     "data": {
      "text/plain": [
       "release_year\n",
       "2014    2295464519\n",
       "2007    2201675217\n",
       "2008    2134595031\n",
       "2010    1974712985\n",
       "2011    1871393682\n",
       "2003    1855493377\n",
       "2009    1822454136\n",
       "2013    1636453400\n",
       "2004    1631933725\n",
       "2005    1551980298\n",
       "2001    1343545668\n",
       "2012    1258020056\n",
       "2002    1022709901\n",
       "2015     870368348\n",
       "2006     620170743\n",
       "2000     452631386\n",
       "Name: profit, dtype: int64"
      ]
     },
     "execution_count": 62,
     "metadata": {},
     "output_type": "execute_result"
    }
   ],
   "source": [
    "temp = data.loc[data.production_companies.str.contains('Warner Bros')]\n",
    "\n",
    "temp.groupby(['release_year'])['profit'].sum().sort_values(ascending=False)\n",
    "answer_ls.append(1)"
   ]
  },
  {
   "cell_type": "markdown",
   "metadata": {},
   "source": [
    "# 27. В каком месяце за все годы суммарно вышло больше всего фильмов?\n",
    "Варианты ответа:\n",
    "1. Январь\n",
    "2. Июнь\n",
    "3. Декабрь\n",
    "4. Сентябрь\n",
    "5. Май"
   ]
  },
  {
   "cell_type": "code",
   "execution_count": 85,
   "metadata": {},
   "outputs": [
    {
     "data": {
      "text/plain": [
       "release_date\n",
       "9     227\n",
       "12    191\n",
       "10    186\n",
       "8     161\n",
       "3     156\n",
       "4     149\n",
       "6     147\n",
       "11    146\n",
       "7     142\n",
       "5     140\n",
       "2     135\n",
       "1     110\n",
       "Name: original_title, dtype: int64"
      ]
     },
     "execution_count": 85,
     "metadata": {},
     "output_type": "execute_result"
    }
   ],
   "source": [
    "data.groupby([data['release_date'].dt.month])['original_title'].count().sort_values(ascending=False)\n",
    "answer_ls.append(4)"
   ]
  },
  {
   "cell_type": "markdown",
   "metadata": {},
   "source": [
    "# 28. Сколько суммарно вышло фильмов летом? (за июнь, июль, август)\n",
    "Варианты ответа:\n",
    "1. 345\n",
    "2. 450\n",
    "3. 478\n",
    "4. 523\n",
    "5. 381"
   ]
  },
  {
   "cell_type": "code",
   "execution_count": 116,
   "metadata": {},
   "outputs": [
    {
     "data": {
      "text/plain": [
       "Counter({450: 17})"
      ]
     },
     "execution_count": 116,
     "metadata": {},
     "output_type": "execute_result"
    }
   ],
   "source": [
    "Counter(data.loc[(data['release_date'].dt.month == 6)|(data['release_date'].dt.month == 7)|(data['release_date'].dt.month == 8)].count())\n",
    "answer_ls.append(2)\n",
    "\n",
    "#хотелось бы рещения через под список (но мое обучение затянулось и я забыл где это было)"
   ]
  },
  {
   "cell_type": "markdown",
   "metadata": {},
   "source": [
    "# 29. Какой режисер выпускает (суммарно по годам) больше всего фильмов зимой?\n",
    "Варианты ответов:\n",
    "1. Steven Soderbergh\n",
    "2. Christopher Nolan\n",
    "3. Clint Eastwood\n",
    "4. Ridley Scott\n",
    "5. Peter Jackson"
   ]
  },
  {
   "cell_type": "code",
   "execution_count": 123,
   "metadata": {},
   "outputs": [
    {
     "data": {
      "text/plain": [
       "[('Peter Jackson', 7), ('Clint Eastwood', 6), ('Steven Soderbergh', 5)]"
      ]
     },
     "execution_count": 123,
     "metadata": {},
     "output_type": "execute_result"
    }
   ],
   "source": [
    "winter = data.loc[(data['release_date'].dt.month == 12)|(data['release_date'].dt.month == 1)|(data['release_date'].dt.month == 12)]\n",
    "\n",
    "Counter(winter.director.str.split('|').sum()).most_common(3)\n",
    "answer_ls.append(5)\n",
    "\n",
    "\n"
   ]
  },
  {
   "cell_type": "markdown",
   "metadata": {},
   "source": [
    "# 30. Какой месяц чаще всего по годам самый прибыльный?\n",
    "Варианты ответа:\n",
    "1. Январь\n",
    "2. Июнь\n",
    "3. Декабрь\n",
    "4. Сентябрь\n",
    "5. Май"
   ]
  },
  {
   "cell_type": "code",
   "execution_count": 134,
   "metadata": {},
   "outputs": [
    {
     "data": {
      "text/plain": [
       "release_date  release_year\n",
       "6             2015            3757679861\n",
       "12            2009            3423239738\n",
       "6             2012            2965481705\n",
       "12            2015            2777325507\n",
       "6             2007            2764341802\n",
       "4             2015            2602565518\n",
       "6             2010            2449561498\n",
       "11            2012            2412991475\n",
       "5             2004            2412578839\n",
       "6             2013            2411922008\n",
       "7             2011            2331661017\n",
       "5             2014            2279978281\n",
       "6             2006            2098059770\n",
       "11            2013            2047380217\n",
       "              2014            2043956761\n",
       "5             2007            2042169546\n",
       "              2003            2000292657\n",
       "6             2008            1943384763\n",
       "12            2014            1919080286\n",
       "5             2011            1917491757\n",
       "Name: profit, dtype: int64"
      ]
     },
     "execution_count": 134,
     "metadata": {},
     "output_type": "execute_result"
    }
   ],
   "source": [
    "data.groupby([data['release_date'].dt.month, 'release_year'])['profit'].sum().sort_values(ascending=False).head(20)\n",
    "#answer_ls.append(1)\n",
    "\n",
    "#pivot = data.pivot_table(values=['profit'],\n",
    "#index=[data['release_date'].dt.month],\n",
    "#columns=['release_year'],\n",
    "#aggfunc='sum',\n",
    "#fill_value=0)\n",
    "#display(pivot)\n",
    "\n",
    "#не смог сгруппировать через индексы пивота и counter"
   ]
  },
  {
   "cell_type": "markdown",
   "metadata": {},
   "source": [
    "# 31. Названия фильмов какой студии в среднем самые длинные по количеству символов?\n",
    "Варианты ответа:\n",
    "1. Universal Pictures (Universal)\n",
    "2. Warner Bros\n",
    "3. Jim Henson Company, The\n",
    "4. Paramount Pictures\n",
    "5. Four By Two Productions"
   ]
  },
  {
   "cell_type": "code",
   "execution_count": 156,
   "metadata": {},
   "outputs": [
    {
     "name": "stdout",
     "output_type": "stream",
     "text": [
      "[('Four By Two Productions', 83), ('Jim Henson Company, The', 59), ('Dos Corazones', 47), ('Museum Canada Productions', 46), ('Polsky Films', 46), ('3Foot7', 41), ('Total Entertainment', 41), ('TSBD Canada Productions', 41), ('Zohar International', 41), ('Iron Film', 41), ('Cool Music', 41), ('Harry Potter Publishing Rights', 41), ('Nickelodeon Animation Studios', 40), ('United Plankton Pictures', 40), ('Ozumi Films', 40), ('Propeler', 40), ('P of A Productions Limited', 40), ('MIRACLE Productions GmbH & Co. KG', 39), ('The Javelina Film Company', 39), ('Chris Brinker Productions', 38), ('Intandem Films', 37), ('Aramid Entertainment Fund', 37), ('Lipsync Productions', 37), ('JD Productions', 37), ('Unique Features', 37), ('Mr. Smith Productions', 37), ('Alloy Entertainment', 37), ('Natural Nylon Entertainment', 37), ('Riff Raff Film Productions', 37), ('Filmauro', 37), ('Blue Flower Productions', 37), ('What to Expect Productions', 36), ('Hammer & Tongs', 36), ('Capella International', 36), ('KC Medien AG', 36), ('Sony', 35), ('Patalex IV Productions Limited', 35), ('China Movie Channel', 34), ('Sparkler Entertainment', 34), ('Linsefilm', 34), ('Unity Productions', 34), ('Michael Cerenzie Productions', 34), ('Funky Buddha Productions', 34), ('Square USA', 33), ('The Collective Studios', 33), ('Atlantic Television', 33), ('Ikiru Films', 32), ('Banter', 31), ('Bungalow Productions', 31), ('Silver Lion Films', 31), ('Vision View Entertainment', 31), ('Yellow Bird', 31), ('Mr. Mudd Production', 31), ('Abraham Productions', 31), ('Location Gourmet', 31), ('Benderspink', 31), ('Carousel Productions', 31), ('Summertime Entertainment', 31), ('UW3 Film Productions', 30), ('Ten Thirteen Productions', 30), ('Crying Box Productions', 30), ('Magical Elves Productions', 30), ('Scooter Braun Films', 30), ('Earth Canada Productions', 29), ('HW Two', 29), ('Dickhouse Productions', 29), ('Distant Horizons', 29), ('Film Afrika Worldwide', 29), ('Videovision Entertainment', 29), ('Truenorth Productions', 28), ('Cloudy Productions', 28), ('Stanley Kubrick Productions', 28), ('Picturehouse Entertainment', 28), ('Havana Nights LLC', 28), ('Internationale Filmproduktion Blackswan', 27), ('Kontsept Film Company', 27), ('Necropia', 27), ('Tequila Gang', 27), (\"Eric's Boy\", 27), ('Moving Pictures', 27), ('Gratitude International', 27), ('Mostow/Lieberman Productions', 27), ('80 Days Productions', 27), ('I Could Never Ltd.', 27), ('Bauer Martinez Studios', 27), ('Smoke House', 26), ('The Tyler Perry Company', 26), ('Blue Askew', 26), ('Konami Corporation Ltd.', 26), ('Verisimilitude', 26), ('Etalon film', 25), (\"It's a Laugh Productions\", 25), ('Millar Gough Ink', 25), ('Universal Cartoon Studios', 25), ('Big Beach Productions', 25), ('Telegraph Films', 25), ('Cowboy Films', 25), ('Constantin Film Ltd.', 25), ('Primal Foe Productions', 25), ('Resident Evil Productions', 25), ('Avi Arad Productions', 24), ('Matt Tolmach Productions', 24), ('Long Distance Films', 24), ('Mediastream Film GmbH & Co. Productions KG', 24), ('Gravier Productions', 24), ('Antena 3 Films', 24), ('TelevisiÃ³ de Catalunya (TV3)', 24), ('Antena 3 TelevisiÃ³n', 24), ('MPH Entertainment', 24), ('Stoller Global Solutions', 24), ('Rainmaker Entertainment', 24), ('Mainframe Entertainment', 24), ('Really Useful Films', 24), ('K. JAM Media', 23), ('Bulletproof Cupid', 23), ('Midnight Picture Show', 23), ('EMJAG Productions', 23), ('Milkshake Films', 23), ('Hargitay & Hargitay Pictures in Motion', 23), ('MI 3 Film', 23), ('Rocket Pictures', 23), ('Alliance Atlantis Motion Picture Production', 23), ('Bird and a Bear Entertainment', 23), ('Hallway Pictures', 23), ('Catch Productions', 23), ('Broken Chair Flickz', 22), ('Volcano Films', 22), ('Mosaic', 22), ('Neal H. Moritz Productions', 22), ('South Pacific Pictures', 22), ('Spice Factory', 22), ('The Australian Film Commission', 22), ('Universal Pictures Corporation', 22), ('ARP SÃ©lection', 22), ('Indigo Film', 22), ('Medusa Film', 22), ('Mutant Enemy Productions', 22), ('JC 23 Entertainment', 22), ('Liaison Films', 22), ('Cent Productions Inc.', 22), ('Mark Gordon Productions', 22), ('Munich Film Partners & Company (MFP) MI2 Productions', 22), ('Hasbro Studios', 21), ('Allspark Pictures', 21), ('Huayi Brothers', 21), ('New Wave Entertainment', 21), ('Terra Firma Films', 21), ('Superfinger Entertainment', 21), ('Gambit Pictures', 21), ('Electric Shepherd Productions', 21), ('Atlas Productions', 21), ('UW4 Productions', 21), ('Galavis Film', 21), ('Picture Machine', 21), ('Room 9 Entertainment', 21), ('Aldrich Group', 21), ('Optional Pictures', 21), ('NALA Films', 21), ('Samuels Media', 21), ('Zehnte Babelsberg', 20), ('Visiona Romantica', 20), ('The Halcyon Company', 20), ('Watermark', 20), ('Medienproduktion Prometheus Filmgesellschaft', 20), ('Portobello Studios', 20), ('New Crime Productions', 20), ('BrownHouse Productions', 20), ('Bottom of the Ninth Productions', 20), ('Merlin Films', 20), ('Mpower Pictures', 20), ('Lip Sync Post', 20), ('Trademark Films', 20), ('National Geographic Society', 20), ('Walt Disney Animation Canada', 20), ('Jean Doumanian Productions', 20), ('Art Pictures Studio', 20), ('Landscape Entertainment', 20), ('John US Productions', 20), ('Big Beach Films', 20), ('Motion Picture THETA Produktionsgesellschaft', 20), ('Motion Picture BETA Produktionsgesellschaft', 20), ('Bourne Again', 20), ('Lauren Levine Productions Inc.', 20), ('360 Pictures', 20), ('Land Films Inc.', 20), ('Tyler Perry Company, The', 20), ('Nine Yards Productions', 20), ('Rational Packaging Company', 20), ('TriStar Productions', 19), ('Disney', 19), ('Max Films Productions', 19), ('Morag Loves Company', 19), ('Grand Army Entertainment', 19), ('Hachiko', 19), ('Film Department, The', 19), ('Evil Twins', 19), ('Warp Films', 19), ('New Upstairs Productions', 19), ('Upstairs Canada Productions', 19), ('Freestyle Releasing', 19), ('FidÃ©litÃ© Films', 19), ('Hwy61', 19), ('AZL Productions KG', 19), ('MFP Munich Film Partners', 19), ('Phase 1 Productions', 19), ('Dee Gee Entertainment', 19), ('Prufrock Pictures', 19), ('Cort/Madden Productions', 19), ('MVL Incredible Productions', 19), ('Flashpoint Entertainment', 19), ('Kemp Company', 19), ('WV Films LLC', 19), ('Cott Productions', 19), ('Furia de Titanes II, A.I.E.', 19), ('Inferno Entertainment', 19), ('Heineken Branded Entertainment', 19), ('Doom Buggy Productions', 19), ('Alphaville Productions', 19), ('Earthship Productions', 19), ('Paco Cinematografica', 19), ('Regione Lazio', 19), ('Business Location Sudtirol Alto Adige', 19), ('Friuli Venezia Giulia Film Commission', 19), ('Matinee Pictures', 19), ('Starbucks Entertainment', 19), ('Cinema Gypsy Productions', 19), ('Eclipse Catering', 19), ('Nine Yards Two Productions', 19), ('Friday Night Lights LLC', 19), ('MDBF Filmgesellschaft mbH & Company KG', 19), ('Block 2 Pictures', 19), ('Jet Tone Production', 19), ('Lou Yi Inc.', 19), ('Technical Black', 19), ('Run It Up Productions Inc.', 19), ('Seven Arts Pictures', 19), ('Munich Film Partners & Company (MFP) ROE Production', 19), ('Davis-Panzer Productions', 19), ('Sierra/Affinity', 18), ('Black Bear Pictures', 18), ('Bristol Automotive', 18), ('5150 Action', 18), ('The Combine', 18), ('Mark Johnson Productions', 18), ('Curmudgeon Films', 18), ('Industrial Light & Magic (ILM)', 18), ('Village Roadshow Pictures Asia', 18), ('Parabolic Pictures', 18), ('Birdsong Pictures', 18), ('Swanford Films', 18), ('KC Medien', 18), ('Immortal Entertainment', 18), ('SGF Entertainment', 18), ('Evamere Entertainment', 18), ('Wild Ocean Films', 18), ('2S Films', 18), ('Recorded Pictures Company', 18), ('The Movie Network', 18), ('Millbrook Pictures', 18), ('Lago Film', 18), ('Corrino Media Corporation', 18), ('Corsan', 18), ('Staccato Films', 18), ('Pandora Pictures', 18), ('Talisman Productions', 18), ('Myriad Pictures', 18), ('Jeepers Creepers II', 18), ('Truth Entertainment', 18), ('Reforma Films', 18), ('Persistent Entertainment', 18), ('Dante Entertainment', 18), ('Crusader Entertainment', 18), ('O.N.C. Entertainment', 18), ('VIP 4 Medienfonds', 18), ('MMCB Film Produktion 2004', 18), ('Daybreak', 18), ('Gaylord Films', 18), ('Scholastic Productions', 18), ('Marshall Production', 18), ('Fine Line Features', 18), ('Zentropa Entertainments', 18), ('Danmarks Radio (DR)', 18), ('SVT Drama', 18), ('Arte', 18), ('Sweetpea Entertainment', 18), ('Orange Studios', 17), ('CityMation', 17), ('On Entertainment', 17), ('Zippcast Films', 17), ('Ex3 Productions', 17), ('Obelisk Productions', 17), ('Seven West Media', 17), ('Fear of God Films', 17), ('Seven Group Holdings', 17), ('Langley Productions', 17), ('Thunder Road Productions', 17), ('Fuqua Films', 17), ('Tooley Productions', 17), ('Great Scott Productions Pty. Ltd.', 17), ('Bedlam Productions', 17), ('See-Saw Films', 17), ('Spy Next Door', 17), ('Boram Entertainment Inc.', 17), ('Imhotep Productions', 17), ('Initial Entertainment Group', 17), ('First Foot Films', 17), ('Crystal City Entertainment', 17), ('Sony Pictures Worldwide Acquisitions (SPWA)', 17), ('TDJ Enterprises / New Dimensions Entertainment', 17), ('Our Stories Films', 17), ('Hughes Entertainment', 17), ('Shoelace Productions', 17), ('Alberto Grimaldi Productions', 17), ('Hacienda Productions', 17), ('World Wrestling Entertainment (WWE)', 17), ('Schroeder Hoffman Productions', 17), ('Jaffilms Inc.', 17), ('Captivate Entertainment', 17), ('Turner Pictures', 17), ('Antietam Filmworks', 17), ('Mindfire Entertainment', 17), ('K5 International', 17), ('Infogrames Entertainment', 17), ('Government of Malta', 17), ('Failure to Launch Productions', 17), ('Golden Mean', 17), ('Universal CGI', 17), ('Film Colony', 17), ('Fountainbridge Films', 17), ('Finding Forrester Productions', 17), ('Triple Threat Talent', 17), ('Infinite Frameworks Studios', 16), ('Viz Media', 16), ('Irish Dreamtime', 16), ('SPD Films', 16), ('Qwerty Films', 16), ('TF1 Droits Audiovisuels', 16), ('Sid & Marty Krofft Pictures', 16), ('Runteam Ltd.', 16), ('R.P. Productions', 16), ('Henceforth', 16), ('Projection Pictures', 16), ('London Boulevard', 16), ('HighRoad Entertainment', 16), ('Prelude Pictures', 16), ('Lone Runner Entertainment', 16), ('Kenio Films', 16), ('Perfect Game, The', 16), ('Asymmetrical Productions', 16), ('Les Films Alain Sarde', 16), ('Babbo Inc.', 16), ('The Picture Factory', 16), ('Cinerenta-Cinebeta', 16), ('VCL Communications', 16), ('Ott Medien', 16), ('Darren Star Productions', 16), ('Bay Films', 16), ('British Film Council', 16), ('Wheelhouse Entertainment', 16), ('Motion Picture Production GmbH & Co. Erste KG', 16), ('Moonrise', 16), ('First Light Production', 16), ('Varsity Pictures', 16), ('Studio Mir', 16), ('Loumolo & Co.', 16), ('Jackie Chan Films Limited', 16), ('All Knight Productions', 16), ('Michael Lobell Productions', 16), ('Cecchi Gori Group Tiger Cinematografica', 16), ('A&E Television Networks', 16), ('Mythology Entertainment (II)', 16), ('Essential Media & Entertainment', 16), ('Dutch Oven', 16), ('New Regency Productions', 16), ('ShadowCatcher Entertainment', 16), ('Daniel Bobker Productions', 16), ('Romero-Grunwald Productions', 16), ('Exception Wild Bunch', 16), ('Callahan Filmworks', 16), ('Pricel', 16), ('Tohokushinsha Film', 16), ('Commission du Film France', 16), ('Thousand Words', 16), ('Detour Filmproduction', 16), ('Paramount Classics', 16), ('Loofah Productions', 16), ('New Amsterdam Entertainment', 16), ('HorrorFlix', 16), ('Astral Media', 16), ('Reserve Room', 16), ('Dino de Laurentiis Cinematografica', 16), ('Red Lion Sarl', 16), ('Nancy Tenenbaum Films', 16), ('Pretty Pictures', 15), ('ArtÃ©mis Productions', 15), ('Le Tax Shelter du Gouvernement FÃ©dÃ©ral de Belgique', 15), ('Taxshelter. be', 15), ('Venture Forth', 15), ('Dayday Films', 15), ('Mad Chance Productions', 15), ('LBI Productions', 15), ('Hopscotch Films', 15), ('Provident Films', 15), ('FourBoys Entertainment', 15), ('Panorama Films', 15), ('Curse Productions', 15), ('Bernard Gayle Productions', 15), ('Saga Film', 15), ('Chambara Pictures', 15), ('Rice Films', 15), ('Battle Mountain Films', 15), ('American Film Company', 15), ('Lions Gate Family Entertainment', 15), ('Crest Animation Productions', 15), ('Furry Vengeance Productions', 15), ('Black and Blu Entertainment', 15), ('Finestkind', 15), ('Ufland', 15), ('Kingsgate Films', 15), ('Film Capital Europe Funds (FCEF )', 15), ('Baumgarten Management and Productions (BMP)', 15), ('Alta Loma Entertainment', 15), ('Random Films', 15), ('LBI Entertainment', 15), ('Ad Hominem Enterprises', 15), ('Aura Film Partnership', 15), ('TF1 Films Productions', 15), ('Sea Breeze Productions Inc.', 15), ('Clear Blue Sky Productions', 15), ('CAMERON MACKINTOSH', 15), ('RabbitBandini Productions', 15), ('Division Films', 15), ('Pop Films', 15), ('Millenium Films', 15), ('Silver Bullet Productions (II)', 15), ('Blind Wink Productions', 15), ('Archer Street Productions', 15), ('Latitude Media', 15), ('Mile High Productions', 15), ('Kevin Messick Productions', 15), ('Hit & Run Productions', 15), ('Contagious Entertainment', 15), ('Sunset Gower Studios', 15), ('Fellowship Adventure Group', 15), ('AR-TL', 15), ('Wendy Finerman Productions', 15), ('Zadan / Meron Productions', 15), ('ETIC Films', 15), ('Wind Dancer Productions', 15), ('Red Horizon Productions', 15), ('Versus Pictures', 14), ('Constantin Film.', 14), ('Raindog Films', 14), ('Amazon Studios', 14), ('Film Art Media', 14), ('Apollo Media', 14), ('Lucamar Productions', 14), ('Cannell Studios', 14), ('Screen Queensland', 14), ('Blacklab Entertainment', 14), ('Wolfhound Pictures', 14), ('Electronic Arts', 14), ('D8', 14), ('Creative Scotland', 14), ('Left Tackle Pictures', 14), ('Zucker/Netter Productions', 14), ('Jaffe / Braunstein Enterprise', 14), ('Dentsu Inc.', 14), ('Dreamworks Pictures', 14), ('Pink Machine', 14), ('China Film Group', 14), ('PVR Cinemas', 14), ('Hari Om Entertainment Co.', 14), ('Blockbuster Movie Entertainers', 14), ('Liveplanet', 14), ('Storm King Productions', 14), ('Animationwerks', 14), ('Dan Films', 14), ('CP Medien AG', 14), ('Internationale Filmproduktion Stella-del-Sud Second', 14), ('InVenture Entertainment', 14), ('Nu-Image Films', 14), ('3 in the Box', 14), ('Dr D Studios', 14), ('Kennedy Miller Mitchell', 14), ('Catch 23 Entertainment', 14), ('Stephen J. Cannell Productions', 14), ('Di Bonaventura Picture', 14), ('North Box Productions', 14), ('Mandalay Vision', 14), ('Studio Babelsberg Motion Pictures', 14), ('Pit Bull Productions', 14), ('Mediastream Dritte Film', 14), ('Harbour Pictures', 14), ('SOIXAN7E QUIN5E', 14), ('See Me Louisiana', 14), ('Langley Park Production', 14), ('Aggregate Films', 14), ('DumbDumb', 14), ('PathÃ© Distribution', 14), ('Company Films', 14), ('Dalian Wanda Group', 14), ('Kumar Mobiliengesellschaft mbH & Co. Projekt Nr. 3 KG', 14), ('Parkway Pictures (I)', 14), ('Five Roses', 14), ('Sound for Film', 14), ('Universal Animation Studios', 14), ('True Grit Productions', 14), ('Zero Gravity Management', 14), ('Pierce/Williams Entertainment', 14), ('Shawn Danielle Productions Ltd.', 14), ('Thirteen Productions', 14), ('Taormina Productions', 14), ('Sociedad General de Cine S.A.', 14), ('Entertainment Films', 14), ('Material Entertainment', 14), ('Beech Hill Films', 14), ('Underground', 14), ('Brass Hat Films', 14), ('Dreamachine', 14), ('Cruella Productions', 14), ('SNL Studios', 14), ('Straight Up Films', 13), ('Warner Bros. Interactive Entertainment', 13), ('Rob Thomas Productions', 13), ('Panay Films', 13), ('Easy There Tiger Productions', 13), ('Red Om Films', 13), ('Crystal Sky Worldwide', 13), ('MDP Worldwide', 13), ('Carousel Picture Company, The', 13), ('Signature Entertainment', 13), ('Europa Corp', 13), ('Art In Motion', 13), ('Internationale Filmproduktion', 13), ('Lietuvos Kinostudija', 13), ('Scout Productions', 13), ('UTV Motion Pictures', 13), ('Hungry Eye Lowland Pictures B.V.', 13), ('Flan de Coco Films', 13), ('Tripod Entertainment', 13), ('Media Farm', 13), ('Sunday Night', 13), ('Cattleya', 13), ('FidÃ©litÃ© Productions', 13), ('Gimages', 13), ('FOZ', 13), ('Herrick Entertainment', 13), ('Stone Village Pictures', 13), ('Sneak Preview Productions', 13), ('TF 1 Film Productions', 13), ('MBC Beteiligungs Filmproduktion', 13), ('Catfish Productions', 13), ('Tiara Blu Films', 13), ('Grand Slam Productions', 13), ('Filmax Entertainment', 13), ('ICF', 13), ('Visual Arts Entertainment', 13), ('Into the Wild', 13), ('Monkey Dance Productions', 13), ('Bueprint Pictures', 13), ('Sunlight Productions', 13), ('Madison 23', 13), ('Clipsal Films', 13), ('CatchPlay', 12), ('A113', 12), ('Sierra / Affinity', 12), ('IFP Westcoast Erste', 12), ('Camp / Thompson Pictures', 12), ('Trancas International Films', 12), ('Smartest Man Productions', 12), ('Czech Anglo Productions', 12), ('Wandering Star Pictures', 12), ('Ozla Pictures', 12), ('Sean Bailey Productions', 12), ('Polish Film Institute', 12), ('Exclusive Films', 12), ('Monolith Films', 12), ('On the Road', 12), ('Ealing Studios', 12), ('Fragile Films', 12), ('Quickfire Films', 12), ('Outlaw Productions (I)', 12), ('Top Rope', 12), ('Babylon', 12), ('Starz Media', 12), ('Studiopolis', 12), ('Vanguard Animation', 12), ('Sherazade Film Development', 12), ('Corduroy Films', 12), ('Scared Productions', 12), ('Lennox House Films', 12), ('Deuce Three Productions', 12), ('Chrysalis Films', 12), ('Apaches Entertainment', 12), ('Hedge Fund Film Partners', 12), ('Knightsbridge Entertainment', 12), ('Corner Store Entertainment', 12), ('Disney Enterprises', 12), ('Kasdan Pictures', 12), ('Chartoff Productions', 12), ('Digital Domain', 12), ('Perdido Productions', 12), ('Will Vinton Studios', 12), ('Media Asia Films', 12), ('Muse Entertainment Enterprises', 12), ('3L Filmverleih', 12), ('Samuelson Productions', 12), ('Mirabai Films', 12), ('VIP 2 Medienfonds', 12), ('Gone North Productions', 12), ('Industrial Development Corporation of South Africa', 12), ('Miracle Pictures', 12), ('Two Brothers Productions', 12), ('Yuma', 12), ('SW7D Productions', 12), ('Arts Council of England', 12), ('Neo Art & Logic', 12), ('Wes Craven Films', 12), ('JLT Productions', 12), ('Ehman Productions', 11), ('Pendle Mountain Productions', 11), ('Stoney Lake Entertainment', 11), ('Goldenlight Films', 11), ('Sahara Productions', 11), ('Silvatar Media', 11), ('Furst Films', 11), ('Edmonds Entertainment Group (EEG)', 11), ('Epidemic Pictures', 11), ('Echo Lake Productions', 11), ('Premiere Picture', 11), (\"Butcher's Run Films\", 11), ('Informant Media', 11), ('Italian Tax Credit', 11), ('Prospect Park', 11), ('Millbrook Farm Productions', 11), ('Matador Pictures', 11), ('Magic Light Pictures', 11), ('Cinema Four', 11), ('Twentieth Century Fox', 11), ('Fast Track Productions', 11), ('Simon Fields Productions', 11), ('Cruise-Wagner Productions', 11), ('Pistolero Productions LLC', 11), ('Double Nickel Entertainment', 11), ('Internationale Filmproduktion Stella-del-SÃ¼d', 11), ('Cohen/Pearl Productions', 11), ('IDEA Filmproduktions', 11), ('Denver and Delilah Productions', 11), ('Image Entertainment', 11), ('Brookwell-McNamara Entertainment', 11), ('Cliffjack Motion Pictures', 11), ('Incentive Filmed Entertainment', 11), ('Canal+Polska', 11), ('Heritage Films', 11), ('Agencja Produkcji Filmowej', 11), ('Beverly Detroit', 11), ('Intermedia', 11), ('Ascension Pictures', 11), ('ARD Degeto Film', 11), ('Cloud Atlas Productions', 11), ('Transfilm', 11), ('VideoFilmes', 11), ('Newman/Tooley Films', 11), ('Joseph Nittolo Entertainment', 11), ('\"DIA\" Productions GmbH & Co. KG', 11), ('Don Simpson/Jerry Bruckheimer Films', 11), ('Reiner-Greisman', 11), ('Disney Double Dare You (DDY)', 11), ('Apparatus Productions', 11), ('Envision Entertainment', 11), ('Sycamore Pictures', 11), ('Sudden Storm Productions', 11), ('Inferno International', 11), ('Branded Entertainment/Batfilm Productions', 11), ('Entertainment Manufacturing Company', 11), ('Kanbar Entertainment', 11), ('Blue Yonder Films', 11), ('Alan Greenspan Productions', 11), ('The Movie Network (TMN)', 11), ('Silent Hill DCP Inc.', 11), ('Konami', 11), ('Black & White Productions', 11), ('Cappa Productions', 11), ('Green Hills Productions', 11), ('Avenue Pictures Productions', 11), ('Crystal Sky Pictures', 11), ('MDBF Zweite Filmgesellschaft', 11), ('CJ Entertainment', 11), ('Southpaw Entertainment', 11), ('Halcyon Pictures', 11), ('Kinematograf Wien', 11), ('Chime Films', 11), ('Interscope Communications', 11), ('Polygram Filmed Entertainment', 11), ('Limited Edition Productions Inc.', 11), ('Barry Mendel Productions', 11), ('Universal Pictures International (UPI)', 10), ('Beagle Pug Films', 10), ('Allison Shearmur Productions', 10), ('Scholastic Entertainment', 10), ('The Cantillon Company', 10), ('The Shuman Company', 10), ('Head Gear Films', 10), ('Metanoia Films', 10), ('Oasis Films', 10), ('Aperture Entertainment', 10), ('Hearst Entertainment Productions', 10), ('LightWorkers Media', 10), ('Block / Hanson', 10), ('Pan EuropÃ©enne Production', 10), ('Phantom Four', 10), ('Top Shelf Productions', 10), ('Chako Film Company', 10), ('Oceana Media Finance', 10), ('Pantheon Entertainment Corporation', 10), ('Innocence Productions', 10), ('Omega Entertainment', 10), ('Sogecine', 10), ('Las Producciones del Escorpion', 10), ('New Redemption Pictures', 10), ('Internationale Filmproduktion Richter', 10), ('Littlestar', 10), ('Toff Guy Films', 10), ('Dark Lot Entertainment', 10), ('Andale Pictures', 10), ('La Petite Reine', 10), ('uFilm', 10), ('Battleplan Productions', 10), ('Voltage pictures', 10), ('ANA Media', 10), ('Picture Perfect (I)', 10), ('Hofflund/Polone', 10), ('Indelible Productions', 10), ('Ghost Ship Films Pty. Ltd.', 10), ('Unfaithful Filmproduktion GmbH & Co. KG', 10), ('Shutt/Jones Productions', 10), ('98 MPH Productions', 10), ('Milagro Films', 10), ('DoRo Fiction Film', 10), ('Brandywine Productions', 10), ('Extension 765', 10), ('Film 44', 10), ('A Hot Dog', 10), ('Liddell Entertainment', 10), ('Wonderful Films PLC', 10), ('Rai Cinema', 10), ('Alfama Films', 10), ('Laurinfilm', 10), ('Subterranean Productions LLC', 10), ('Subterranean Productions UK Ltd.', 10), ('Underworld Produktions GmbH', 10), ('Stan Winston Studio', 10), ('Recorded Picture Company (RPC)', 10), ('Gidden Media', 10), ('Lee Daniels Entertainment', 10), ('Follow Through Productions', 10), ('Salamander Pictures', 10), ('Pam Williams Productions', 10), ('Temple Hill Productions', 10), ('LGM Productions', 10), ('Les Productions du TrÃ©sor', 10), ('Mars Distribution', 10), ('Reel FX Creative Studios', 10), ('Boll KG', 10), ('Post No Bills Films', 10), ('Pandemonium Productions', 10), ('Kingdom Feature Productions', 10), ('Motion Picture ETA Produktionsgesellschaft', 10), ('Foqus Arte Digital', 10), ('Metropolis Films', 10), ('Tessalit Productions', 10), ('Raygun Productions', 10), ('Rosey Film Productions LLC', 10), ('Edge City', 10), ('Fellah Pictures', 10), ('Broken Lizard Industries', 10), ('Coconut Pete Productions', 10), ('Eden Rock Media', 10), ('Element Films', 10), ('Jessie Nelson Productions', 10), ('Yer Dead Productions', 10), ('Huayi Brothers Media Corporation', 10), ('Cranium Films', 10), ('Mars Production Pty. Ltd.', 10), ('Fox Animation Studios', 10), ('Nora Ephron Productions', 10), ('Rocklin / Faust', 9), ('Entertainment One Features', 9), ('OddLot Entertainment', 9), ('Brothers Dowdle Productions', 9), ('DefyNite Films', 9), ('MJW Films', 9), ('Tonik Productions', 9), ('Asis Productions', 9), ('Team Downey', 9), ('Porchlight Films', 9), ('Screen NSW', 9), ('Snoot Entertainment', 9), ('MavroCine Pictures GmbH & Co. KG', 9), ('20th Century Fox Home Entertainment', 9), ('Midnight Sun Pictures', 9), ('Ilion Animation Studios', 9), ('Hand Made Films', 9), ('Tezuka Production Company Ltd.', 9), ('Laura Bickford Productions', 9), ('Medienproduktion Poseidon Filmgesellschaft', 9), ('Darlow Smithson Productions', 9), ('Octagon Films', 9), ('Birnbaum/Barber', 9), ('Oops Doughnuts Productions', 9), ('Frontier Pictures', 9), ('EFTI', 9), ('Rhythm and Hues', 9), ('Picnic Basket', 9), ('Red Hour Productions', 9), ('Jonathan Krane Group', 9), ('Underworld Entertainment', 9), ('Horseshoe Bay Productions', 9), ('The Department of Trade and Industry of South Africa', 9), ('ScreenWest', 9), ('Collision Entertainment', 9), ('Abandon Entertainment', 9), ('Foxtor Productions', 9), ('Outlander Productions', 9), ('Rifkin-Eberts', 9), ('Michaels-Goldwyn', 9), ('Many Rivers Productions', 9), ('Boy of the Year', 9), ('Tailor Made', 9), ('Mango Farms', 9), ('Bekmambetov Projects Ltd.', 9), ('Toledo Productions', 9), ('IM Filmproduktion', 9), ('Cosmic Pictures', 9), ('Motion Picture Corporation of America', 9), ('Adam Schroeder Productions', 9), ('Artina Films', 9), ('Lucky Monkey Pictures', 9), ('Green Room Films', 9), ('Lucasfilm Ltd.', 9), ('Partnership Pictures', 9), ('Serenade Films', 9), ('Also Known As Pictures', 9), ('Dimension Films (US version)', 9), ('N1 European Film Produktions GmbH & Co. KG', 9), ('Baumgarten Merims Productions', 9), ('8:38 Productions', 9), ('SkyLand Entertainment', 9), ('Baby Cow Productions', 9), ('Colossal Pictures', 9), ('Big Primate Pictures', 9), ('Bewitched', 9), ('Clubdeal', 9), ('Pacific Renaissance Pictures Ltd.', 9), ('Granada Film Productions', 9), ('Fantail Films Inc.', 9), ('Columbus 81 Productions', 9), ('Andalasia Productions', 9), ('Right Coast Productions', 9), ('Nightfall Productions', 9), ('Level 1 Entertainment', 9), ('MID Foundation', 9), ('Foresight Unlimited', 9), ('RAMCO', 9), ('Captivity Productions', 9), ('Mill Film', 9), ('KirchMedia', 9), ('Screenland Pictures', 9), ('Riche-Ludwig Productions', 8), ('Item 7', 8), ('Parallel Film Productions', 8), ('STX Entertainment', 8), ('Ahimsa Films', 8), ('Vast Entertainment', 8), ('Toho Company', 8), ('Jolie Pas', 8), ('Silverwood Films', 8), ('Sighvatsson Films', 8), ('Smokewood Entertainment Group', 8), ('Vidhu Vinod Chopra Productions', 8), ('Goldsmith-Thomas Productions', 8), ('Revelations Entertainment', 8), ('Ocean Pictures', 8), ('Pioneer Pictures', 8), ('Fireworks Pictures', 8), ('GHS Productions KG', 8), ('Munich Film Partners & Company (MFP) GHS Productions', 8), ('Nides/McCormick Productions', 8), ('Native Pictures Productions', 8), ('Achte Babelsberg Film', 8), ('Internationale Filmproduktion Blackbird Erste', 8), ('Defiance Productions', 8), ('Pistachio Pictures', 8), ('Hungarian National Film Office', 8), ('Lazio Film Commission', 8), ('Marvel Entertainment, LLC', 8), ('Milk & Honey', 8), ('Witt/Thomas Productions', 8), ('Horsepower Films', 8), ('Core Productions', 8), ('Camelot Pictures', 8), ('Illusion Entertainment', 8), ('Province of British Columbia Film Incentive BC', 8), ('Y Productions', 8), ('Mediana Productions Filmgesellschaft', 8), ('Monolith Pictures (III)', 8), ('Troika Pictures', 8), ('Emergency Films', 8), ('Apotheosis Media Group', 8), ('Greenestreet Films', 8), ('Witness Protection Films', 8), ('Gaumont', 8), ('Kintop Pictures', 8), ('Patalex V Productions Limited', 8), ('Max Stronghold Productions Inc.', 8), ('Cineblue Internationale Filmproduktionsgesellschaft', 8), ('City Productions', 8), ('C.O.R.E. Feature Animation', 8), ('Hoytyboy Pictures', 8), ('Nigel Productions', 8), ('Irwin Allen Productions', 8), ('11:11 Mediaworks', 8), ('Blue Sea Productions', 8), ('Frantic Films', 8), ('Maple Shade Films', 8), ('Sideways Productions Inc.', 8), ('Vaughn Productions', 8), ('Fat Free', 8), ('Katira Productions GmbH & Co. KG', 8), ('Caro-McLeod', 8), ('Danjaq', 7), ('B24', 7), ('Black Label Media', 7), ('Little Stranger', 7), ('Le Grisbi Productions', 7), ('M Productions', 7), ('Gulfstream Pictures', 7), ('Constantin Film International', 7), ('Darko Entertainment', 7), ('Mystery Clock Cinema', 7), ('Whamaphram Productions', 7), ('Case 39 Productions', 7), ('Farah Films & Management', 7), ('Aversano Films', 7), ('Hydraulx', 7), ('Transmission Pictures', 7), ('American Entertainment Partners L.P.', 7), ('Empire Pictures', 7), ('Heyday films', 7), ('ASAF', 7), ('Luna Pictures', 7), ('VN Productions', 7), ('K/O Camera Toys', 7), ('Film 4', 7), ('Storefront Films', 7), ('Zanagar Films', 7), ('Wayfare Entertainment', 7), ('Sanctum Australia', 7), ('Great Wight Productions/ Osford Films', 7), ('Producers Circle', 7), ('Senator Film Produktion', 7), ('Benaroya Pictures', 7), ('Pie Films Inc.', 7), ('Ixtlan', 7), ('Onda Entertainment', 7), ('Headline Pictures', 7), ('Akil Production Company', 7), ('Newmarket Films', 7), ('Esperanto Filmoj', 7), ('Riddick Canada Productions', 7), ('Fastnet Films', 7), ('Caramel Film', 7), ('Saints LA', 7), ('Nina Saxon Film Design', 7), ('Motion Picture KAPPA Produktionsgesellschaft', 7), ('Stratus Film Co.', 7), ('Syndicate Films International', 7), ('4M', 7), ('Debra Hill Productions', 7), ('AFG Talons Productions', 7), ('Scanbox', 7), ('Eketahuna LLC', 7), ('Electric Entertainment', 7), ('Flyboys Films', 7), ('Yash Raj Films', 7), ('Starlite Films', 7), ('Harlequin Pictures', 7), ('Intertainment AG', 7), ('Blackout Productions Inc.', 7), ('Blue Productions', 7), ('Grosvenor Park Impact Productions', 7), ('I Remember Productions', 7), ('Compulsion Inc.', 7), ('Splendid Medien AG', 7), ('Inimitable Pictures', 6), ('ShivHans Pictures', 6), ('Studio Babelsberg StudioBabelsberg Motion Pictures', 6), ('Serendipity Productions', 6), ('Trackform Film Productions', 6), ('Kickstart Productions', 6), ('TOKYOPOP', 6), ('Burg/Koules Productions', 6), ('SND', 6), ('MICA Entertainment', 6), ('Decibel Films', 6), ('OB Productions', 6), ('Front Street Productions', 6), ('Spitfire Pictures', 6), ('Triggerfish Animation', 6), ('Alliance Atlantis Communications', 6), ('Outerbanks Entertainment', 6), ('Kalis Productions GmbH & Co. Zweite KG', 6), ('Bristol Bay Productions', 6), ('Desertlands Entertainment', 6), (\"Cooper's Town Productions\", 6), ('Eagle Vision Inc.', 6), ('Manitoba Film and Video Production Tax Credit', 6), ('Domino 17521', 6), ('Anka Film', 6), ('Daybreak Productions', 6), ('SKA Films', 6), ('Walrus & Associates', 6), ('Hollywood Partners', 6), ('Charenton Productions', 6), ('Number 9 Films', 5), ('PeaPie Films', 5), ('Kramer & Sigman Films', 5), ('Zaftig Films', 5), ('Outpost Studios', 5), ('HimenÃ³ptero', 5), ('Mod Producciones', 5), ('Stone Productions', 5), ('Mimran Schur Pictures', 5), ('Night Chronicles', 5), ('Motel Movies', 5), ('Blind Wink', 5), ('Neunte Babelsberg Film', 5), ('Holleran Company', 5), ('Sechzehnte Babelsberg Film', 5), ('Ventanarosa Productions', 5), ('Handprint Entertainment', 5), ('Rena Film', 5), ('Peach Trees', 5), ('NuAmerica Entertainment', 5), ('Krane Entertainment', 5), ('City Light Films', 5), ('Pinewood Studios', 5), ('Metrol Technology', 5), ('Le Pacte', 5), ('Filmgate Films', 5), ('Hart-Sharp Entertainment', 5), ('Central Films', 5), ('ApolloProScreen Filmproduktion', 5), ('Patalex Productions', 5), ('Open City Films', 5), ('BBC', 5), ('Springwood Productions', 5), ('Duperele Films', 4), (\"We're Not Brothers Productions\", 4), ('Cinelou Films', 4), ('Kilburn Media', 4), ('Fetisov Teterin Films', 4), ('Farewell Productions', 4), ('Liberty Films UK', 4), ('Lunar Industries', 4), ('Xingu Films', 4), ('Limelight Fund', 4), ('Infinity Features Entertainment', 4), ('Exodus Film Group', 4), ('Exodus Productions', 4), ('Rickshaw Productions', 4), ('Double Negative', 4), ('Toma 78', 4), ('De Milo', 4), ('Dillywood', 4), ('Five Star Institute', 4), ('Reaper Productions', 4), ('Helena Productions', 4), ('Mirage Studios', 4), ('Imagi Production', 4), ('Berlanti Productions', 3), ('Everest Entertainment', 3), ('Ixtlan Productions', 2), ('Global Entertainment Group', 2), ('XM2 Productions', 2), ('One Race Films', 1.135135135135135), ('Feigco Entertainment', 0.4857142857142857), ('Mad Hatter Entertainment', 0.38863976083707025), ('Babieka', 0.375), ('Living Films', 0.3287671232876712), ('Free State Pictures', 0.3157894736842105), ('Chartoff-Winkler Productions', 0.2927515833919775), ('Route One Films', 0.2878787878787879), ('Fuji Television Network', 0.28451882845188287), ('Wigram Productions', 0.2677219545767378), ('Pacific Standard', 0.26380368098159507), ('Entertainment One', 0.22988505747126436), ('Anton Capital Entertainment (ACE)', 0.2195945945945946), ('Columbia TriStar', 0.21428571428571427), ('Lucasfilm', 0.21035940803382663), ('Key Creatives', 0.18101545253863136), ('Marvel Knights', 0.16775884665792923), ('The Zanuck Company', 0.16019760056457305), ('The Saul Zaentz Company', 0.14431818181818182), ('Pacific Data Images (PDI)', 0.14270806157057137), ('Bagdasarian Productions', 0.1403966597077244), ('Miramax', 0.1370056497175141), ('Olive Bridge Entertainment', 0.13623789764868602), ('Revolution Sun Studios', 0.13384723195515066), ('LStar Capital', 0.12871287128712872), ('Anarchos Productions', 0.12376237623762376), ('Kurtzman/Orci', 0.1222532960447463), ('American Zoetrope', 0.11833785004516711), ('Albert S. Ruddy Productions', 0.11480022509848059), ('Imprint Entertainment', 0.11456483126110124), ('Bad Robot', 0.11310951239008793), ('Parkes+MacDonald Image Nation', 0.11238891792995295), ('Parallel Zide', 0.11188811188811189), ('Telecinco Cinema', 0.11160714285714286), ('Genre Films', 0.11016949152542373), ('Maguire Entertainment', 0.10909090909090909), ('Penn Station Entertainment', 0.10178117048346055), ('Zanuck Company, The', 0.1003921568627451), ('Eyetronics', 0.10017486884836373), ('Practical Pictures', 0.09987277353689568), ('TC Productions', 0.09980139026812314), ('Escape Artists', 0.09915611814345991), ('Bazelevs Production', 0.09907722195240408), ('Fox International Productions', 0.09703504043126684), ('British Broadcasting Corporation (BBC)', 0.09587852494577007), ('Dark Castle Entertainment', 0.0947263184203949), ('Temple Hill Entertainment', 0.09425837320574162), ('RatPac Entertainment', 0.09418282548476455), ('GK Films', 0.09363887791386803), ('Bold Films', 0.09298998569384835), ('Rogue', 0.0922384701912261), ('Lynda Obst Productions', 0.09205020920502092), ('Paramount Vantage', 0.08927231807951988), ('David Foster Productions', 0.08867843306069738), ('Tim Burton Productions', 0.08838912133891214), ('Kumar Mobiliengesellschaft mbH & Co. Projekt Nr. 2 KG', 0.08819385742462665), ('Mid Atlantic Films', 0.08690568978955573), ('Chockstone Pictures', 0.08614927590048273), ('Pure Flix Entertainment', 0.0859375), ('Revolution Films', 0.08579289644822412), ('Illumination Entertainment', 0.08563425370148059), ('Internationale Filmproduktion Blackbird Dritte', 0.08519388954171563), ('87Eleven', 0.08406219630709427), ('Plan B Entertainment', 0.08231173380035026), ('Trigger Street Productions', 0.08215848322800194), ('Madhouse Entertainment', 0.081377151799687), ('Winkler Films', 0.08035714285714286), ('platinum studios', 0.07928047968021319), ('Junction Entertainment', 0.0791843220338983), ('Nouvelles Ã‰ditions de Films (NEF)', 0.0785602503912363), ('Clifford Werber Productions', 0.07682806324110672), ('Fuzzy Door Productions', 0.07611940298507462), ('France 3 CinÃ©ma', 0.07552954292084726), ('Dune Entertainment III', 0.07439310884886452), ('Wild Bunch', 0.07371096586782862), ('Walt Disney Studios Motion Pictures', 0.07329842931937172), ('Huayi Brothers Media', 0.07142857142857142), ('Australian Film Finance Corporation (AFFC)', 0.07142857142857142), ('Jon Shestack Productions', 0.07093425605536333), ('Hypnotic', 0.07064905226881103), ('Happy Madison Productions', 0.07058823529411765), ('Madacy Entertainment', 0.07020822210357715), ('Walt Disney', 0.07019867549668875), ('Sketch Films', 0.06845841784989858), ('Josephson Entertainment', 0.06805194805194806), ('Focus Features', 0.06699629171817058), ('Dentsu', 0.0667144906743185), ('Mark Canton Productions', 0.06623277182235834), ('DisneyToon Studios', 0.06573181419807186), ('Red Wagon Productions', 0.06476323119777158), ('Alberta Film Entertainment', 0.06433041301627034), ('Mediastream Vierte Film GmbH & Co. Vermarktungs KG', 0.06389508928571429), ('Media Rights Capital', 0.06356198867212083), ('Moonlighting Films', 0.06341154090044387), ('Muse Productions', 0.06303724928366762), ('Sunswept Entertainment', 0.06267136701919311), ('Mandalay Pictures', 0.0625), ('Roth Films', 0.060707635009310985), ('21 Laps Entertainment', 0.060453400503778336), ('Iron Horse Entertainment (II)', 0.06021341463414634), ('Dylan Sellers Productions', 0.06008010680907877), ('Flynn Picture Company', 0.0599250936329588), ('Why Not Productions', 0.05986842105263158), ('Edward R. Pressman Film', 0.059469787437305945), ('Hal Lieberman Company', 0.059114518921592876), ('View Askew Productions', 0.05884127942063971), ('Walt Disney Animation Australia', 0.05830775975449364), ('Screen Gems', 0.05739732805541811), ('David Kirschner Productions', 0.05663924794359577), ('Lions Gate Films', 0.055900621118012424), ('Little Bird', 0.05578512396694215), ('China Film Co-Production Corporation', 0.0556792873051225), ('DC Entertainment', 0.05565402339595888), ('Open Road Films', 0.05477477477477478), ('Sony Pictures Animation', 0.054697391744745506), ('Screen Australia', 0.05365853658536585), ('IMF Internationale Medien und Film GmbH & Co. 3. Produktions KG', 0.05344202898550725), ('Solana Films', 0.05335255948089401), ('Offspring Entertainment', 0.053275554422635735), ('Samuel Goldwyn Films', 0.053212455656286954), ('Kumar Mobiliengesellschaft mbH & Co. Projekt Nr. 1 KG', 0.052517091361093844), ('Radar Pictures', 0.05243161094224924), ('Regency Enterprises', 0.052329749103942655), ('Blue-Tongue Films', 0.05217391304347826), ('Radiant Productions', 0.05196332000940512), ('RatPac-Dune Entertainment', 0.05157593123209169), ('Neal Street Productions', 0.051521099116781155), ('Walt Disney Television Animation', 0.05087719298245614), ('Hyde Park Films', 0.0504844467108618), ('Prescience', 0.05014925373134328), ('Overture Films', 0.04888888888888889), ('1492 Pictures', 0.048881955278211126), ('Bluegrass Films', 0.04874651810584958), ('C-2 Pictures', 0.048625792811839326), ('Film Rites', 0.04842931937172775), ('Sidney Kimmel Entertainment', 0.04827927704877445), ('Baltimore Spring Creek Productions', 0.04797742238946378), ('Ruby Films', 0.047762316660398645), ('Goldmann Pictures', 0.0469601677148847), ('Babelsberg Film', 0.04647392596595515), ('Sony Pictures Home Entertainment', 0.046357615894039736), ('LionsGate', 0.04630969609261939), ('Hyde Park Entertainment', 0.04625984251968504), ('Big Kid Pictures', 0.04559270516717325), ('Media Magik Entertainment', 0.04500494559841741), ('Broken Road Productions', 0.044897959183673466), ('Atlas Entertainment', 0.04489112227805695), ('MacDonald/Parkes Productions', 0.04457652303120357), ('Bedford Falls Company, The', 0.044264635887672536), ('Saturn Films', 0.043888747129369736), ('Tree Line Films', 0.04386865059004618), ('Red Granite Pictures', 0.04382183908045977), ('Kanzaman', 0.04380664652567976), ('Wild West Picture Show Productions', 0.04358733145186579), ('New Legacy', 0.04342921601804851), ('BenderSpink', 0.043243243243243246), ('Heyday Films', 0.043213149522799574), ('Lawrence Bender Productions', 0.043124491456468676), ('Electric City Entertainment', 0.043076923076923075), ('Art Linson Productions', 0.04296257248286769), ('Baldwin Entertainment Group', 0.0428254984001969), ('Initial Entertainment Group (IEG)', 0.04260890264222804), ('Ardustry Entertainment', 0.042606516290726815), ('Insurge Pictures', 0.04252461951656222), ('Capitol Films', 0.042147516307074764), ('Emperor Motion Pictures', 0.0414985590778098), ('USA Films', 0.040952380952380955), ('Everyman Pictures', 0.04056737588652482), ('International Traders', 0.04046997389033943), ('NeoReel', 0.04040771751001092), ('Room 101', 0.04038946988820772), ('HBO Films', 0.040044085231447465), ('Figment Films', 0.04), ('Maverick Films', 0.03980764092973551), ('River Road Entertainment', 0.039546533087266016), ('Element Pictures', 0.03945008965929468), ('X-Filme Creative Pool', 0.03944773175542406), ('BIM Distribuzione', 0.03938730853391685), ('Allied Filmmakers', 0.039295070254822574), ('Goldcrest Pictures', 0.039291217257318954), ('StudioCanal', 0.03917327565489065), ('Aegis Film Fund', 0.039045553145336226), ('CBS Films', 0.03895639742673338), ('Isle of Man Film', 0.038869257950530034), ('Apatow Productions', 0.038782523318605794), ('Green Hat Films', 0.03877159309021113), ('MHF Zweite Academy Film', 0.03830480847595762), ('20th Century Fox', 0.03789126853377265), ('Buckaroo Entertainment', 0.037589112119248216), ('Katalyst Films', 0.037564029595902104), ('Weed Road Pictures', 0.03740053050397878), ('Energy Entertainment', 0.037369744879626306), ('Intellectual Properties Worldwide', 0.03732718894009217), ('American Empirical Pictures', 0.03721604639922668), ('2929 Productions', 0.037165510406342916), ('Blue Tulip Productions', 0.03715846994535519), ('Stillking Films', 0.037140463557665454), ('Point Grey Pictures', 0.037037037037037035), ('Andell Entertainment', 0.03696098562628337), ('Syncopy', 0.03656998738965952), ('Lawrence Gordon Productions', 0.03651925820256776), ('Cheetah Vision', 0.0364963503649635), ('Tiger Aspect Productions', 0.036298076923076926), ('Skylark Productions', 0.03620196887900921), ('Hemisphere Media Capital', 0.03605243991260015), ('KMP Film Invest', 0.03585926928281461), ('Tig Productions', 0.035781544256120526), ('Prana Studios', 0.03566121842496285), ('Artisan Entertainment', 0.03553988062940857), ('Cloud Eight Films', 0.035474234503360715), ('Ram Bergman Productions', 0.03545759463344514), ('Boxing Cat Films', 0.035346097201767304), ('Virtual Studios', 0.035311795642374154), ('Dune Films', 0.03529411764705882), ('Icon Entertainment International', 0.03528274528757854), ('WideAwake', 0.03464566929133858), ('DC Comics', 0.034482758620689655), ('Second Mate Productions', 0.034345047923322686), ('Constantin Film Produktion', 0.03432723628163368), ('WV Films III', 0.03422920892494929), ('Deep River Productions', 0.034159613059250304), ('Colombia Pictures', 0.0341221794166208), ('Crescendo Productions', 0.03409090909090909), ('Road Rebel', 0.03409090909090909), ('Stars Road Entertainment', 0.03372243839169909), ('BBC Films', 0.03342149555181534), ('Lions Gate', 0.03324617108703773), ('David Ladd Films', 0.03314238952536825), ('Epsilon Motion Pictures', 0.033111005240590755), ('Arc Productions', 0.0328719723183391), ('China Film Group Corporation (CFGC)', 0.03285198555956679), ('Ludlum Entertainment', 0.03268668615466383), ('Ambience Entertainment', 0.032658393207054215), ('DMG Entertainment', 0.032598274209012464), ('Walden Media', 0.03251231527093596), ('Envision Entertainment Corporation', 0.03234105108416024), ('Herold Productions', 0.03204101249599487), ('Don Carmody Productions', 0.031906614785992216), ('Studio Babelsberg', 0.03190051365233847), ('Palomar Pictures (II)', 0.03189792663476874), ('FilmEngine', 0.03188158269285511), ('Kerner Entertainment Company', 0.03169398907103825), ('Gotham Group', 0.0316333118140736), ('Kennedy/Marshall Company, The', 0.03142501555693839), ('Sony Pictures Entertainment (SPE)', 0.031379962192816635), ('Senator International', 0.03137902559867878), ('Mandeville Films', 0.031231585150265175), ('Brownstone Productions', 0.031188118811881188), ('Marv Films', 0.03117569352708058), ('Jouror Productions', 0.031022782355792537), ('Bazmark Films', 0.031013916500994037), ('Big Screen Productions', 0.030797101449275364), ('This Is That Productions', 0.03079136690647482), ('Color Force', 0.03068227694792087), ('Sommers Company, The', 0.030553969160479727), ('Dino De Laurentiis Company', 0.030543530543530543), ('Storefront Pictures', 0.03043367993913264), ('Grindstone Entertainment Group', 0.030303030303030304), ('John Wells Productions', 0.03009542451676046), ('Two Ton Films', 0.02999747920342828), ('Mutual Film Company', 0.029893924783027964), ('Wintergreen Productions', 0.029815303430079154), ('Overbrook Entertainment', 0.029765311963365768), ('Management 360', 0.029721079103795154), ('Amblin Entertainment', 0.02967498822421102), ('Splendid Pictures', 0.029663281667557457), ('Disruption Entertainment', 0.02962962962962963), ('Indian Paintbrush', 0.029497098646034815), ('Canal Plus', 0.0293480875631465), ('HanWay Films', 0.02932551319648094), ('Thunder Road Pictures', 0.02909514111143439), ('Gary Sanchez Productions', 0.029082774049217), ('M6 Films', 0.029035433070866142), ('Beacon Pictures', 0.028824833702882482), ('Mike Zoss Productions', 0.02867002920095567), ('Sony Pictures Entertainment', 0.02858899477405472), ('Newmarket Capital Group', 0.028266033254156768), ('World 2000 Entertainment', 0.028192371475953566), ('Davis-Films', 0.028070175438596492), ('Paul Schiff Productions', 0.027853767719472768), ('Sikelia Productions', 0.02781136638452237), ('Nickelodeon Movies', 0.027793374508702975), ('Tall Trees Productions', 0.027686222808174028), ('Vertigo Entertainment', 0.027617373838814963), ('Blumhouse Productions', 0.027417027417027416), ('The Kennedy/Marshall Company', 0.02737905369484317), ('TSG Entertainment', 0.027353463587921848), ('Harpo Films', 0.027315619567916564), ('Red Hour Films', 0.027218290691344585), ('Firm Films', 0.027062190996617226), ('CinemaNX', 0.02692778457772338), ('Wildwood Enterprises', 0.026923993328568024), ('Nu Image Films', 0.026905829596412557), ('Crystal Lake Entertainment', 0.02689075630252101), ('Misher Films', 0.02682763246143528), ('Celador Films', 0.026816608996539794), ('Material', 0.02678093197643278), ('Chernin Entertainment', 0.026741996233521657), ('Killer Films', 0.026676456191874694), ('Fortis Films', 0.026574096241321524), ('Alpha Core', 0.02656621728786677), ('Pathe', 0.026358257127487898), ('Playtone Productions', 0.026344676180021953), ('Twins Financing', 0.026300409117475162), ('Odyssey Entertainment', 0.02627302275189599), ('Spring Creek Productions', 0.026241799437675725), ('Super Cool ManChu', 0.026232343614874604), ('Storyline Entertainment', 0.026222894604135148), ('Pariah Entertainment Group', 0.02592388306674021), ('Original Film', 0.025896887621762888), ('Playtone Production', 0.0258732212160414), ('Demarest Films', 0.025792188651436992), ('Studio 37', 0.025703200775945685), ('CinÃ©+', 0.02570093457943925), ('TÃ©lÃ©film Canada', 0.02567361464158617), ('Imagi Animation Studios', 0.025654314589271834), ('Stage 6 Films', 0.025560538116591928), ('Waverly Films', 0.02556011360050489), ('Out of the Blue... Entertainment', 0.025411492925209354), ('New Regency Pictures', 0.025373134328358207), ('Birnbaum / Barber Productions', 0.025291346392263825), ('Touchstone Pictures', 0.02525134440028057), ('Lucky Red', 0.025157232704402517), ('Ecosse Films', 0.025135534746180386), ('Echo Films', 0.024906600249066), ('Omnilab Media', 0.02483660130718954), ('Sony Pictures Releasing', 0.024749163879598662), ('Clinica Estetico', 0.02473886750962067), ('3 Arts Entertainment', 0.024727992087042534), ('Centropolis Entertainment', 0.024602026049204053), ('Screen Gems, Inc.', 0.02439732791170491), ('Cheyenne Enterprises', 0.0242808128793877), ('The Ladd Company', 0.02406679764243615), ('QED International', 0.02380007933359778), ('Global Entertainment Productions GmbH & Company Medien KG', 0.023687877380399444), ('Contrafilm', 0.02368558042686101), ('Home Box Office (HBO)', 0.023633677991137372), ('Voltage Pictures', 0.023538065465244576), ('Tim Burton Animation Company', 0.0235254006137061), ('Platinum Dunes', 0.023408004027183488), ('Mediastream Dritte Film GmbH & Co. Beteiligungs KG', 0.02334305960817007), ('Rising Star', 0.023255813953488372), ('British Film Institute (BFI)', 0.023255813953488372), ('Canal+', 0.023136938391175678), ('Kaplan/Perrone Entertainment', 0.023040095751047276), ('WWE Studios', 0.022995283018867923), ('Lightstorm Entertainment', 0.022904737116085372), ('Playtone', 0.022798932815910746), ('Jinks/Cohen Company', 0.02267818574514039), ('Type A Films', 0.022620571916346564), ('Mikona Productions GmbH & Co. KG', 0.02258469259723965), ('Scottish Screen', 0.02254283137962128), ('FilmWorks', 0.02221074380165289), ('Exclusive Media Group', 0.022198353025420694), ('Cruel and Unusual Films', 0.022123893805309734), ('Hollywood Pictures', 0.0220734126984127), ('Three Strange Angels', 0.02205005959475566), ('Paramount Pictures', 0.022019208245490748), ('Parkes/MacDonald Productions', 0.02200902934537246), ('PathÃ©', 0.02195416164053076), ('Cube Vision', 0.021859706362153345), ('Impact Pictures', 0.021809977437954375), ('Ingenious Film Partners', 0.021680876979293544), ('Serendipity Point Films', 0.02161200101703534), ('Montecito Picture Company, The', 0.02158273381294964), ('Revolution Studios', 0.021444417056938624), ('DJ Films', 0.02141802067946824), ('Marvel Entertainment', 0.02139231327048586), ('Columbia Pictures Corporation', 0.021370499419279907), ('A Band Apart', 0.021337946943483274), ('Spyglass Entertainment', 0.021281571562207672), ('Ghoulardi Film Company', 0.021237545883586787), ('Boll Kino Beteiligungs GmbH & Co. KG', 0.02116062840654056), ('Phoenix Pictures', 0.02115521749465177), ('Marty Katz Productions', 0.02111684655091506), ('Prana Animation Studios', 0.02111667859699356), ('Annapurna Pictures', 0.021101992966002344), ('Universal', 0.021101573676680974), ('Prime Focus', 0.021052631578947368), ('Aldamisa Entertainment', 0.021009952082565425), ('Walt Disney Pictures', 0.020765282314512367), ('Ingenious Media', 0.020731247644176404), ('Origin Pictures', 0.020721686316541622), ('Participant Productions', 0.020703933747412008), ('Focus Films', 0.020644511581067473), ('Darkwoods Productions', 0.020634920634920634), ('Washington Square Films', 0.020560747663551402), ('Automatik Entertainment', 0.02046229632436529), ('Michael London Productions', 0.02044711014176663), ('Rogue Marble', 0.02042079207920792), ('Onyx Films', 0.020378457059679767), ('David Brown Productions', 0.020345398627868466), ('Seed Productions', 0.020255063765941484), ('Sean S. Cunningham Films', 0.0201765447667087), ('Pacific Film and Television Commission', 0.020053081686818047), ('Eon Productions', 0.020025429116338207), ('TF1 Films Production', 0.01991388589881593), ('Endgame Entertainment', 0.019833496571988248), ('Shady Acres Entertainment', 0.019683026584867074), ('Jerry Weintraub Productions', 0.01945020746887967), ('Jersey Films', 0.019447779111644657), ('Millennium Films', 0.01937188142060464), ('Cold Spring Pictures', 0.01927525057825752), ('Affirm Films', 0.01916376306620209), ('Infinitum Nihil', 0.019122609673790775), ('Laurence Mark Productions', 0.019052044609665426), ('Nick Wechsler Productions', 0.01883179061602298), ('Prospero Pictures', 0.018738845925044618), ('Rat Entertainment', 0.018731988472622477), ('Emmett/Furla Films', 0.018599562363238512), ('Fake Empire', 0.018594104308390022), ('Good Machine', 0.018550326348333906), ('Miramax Films', 0.018457169900615238), ('Castle Rock Entertainment', 0.01844311377245509), ('FilmColony', 0.018385093167701864), ('Evergreen Media Group', 0.01830481496219658), ('Lonely Film Productions GmbH & Co. KG.', 0.018130665833072834), ('Depth of Field', 0.018018018018018018), ('Karz Entertainment', 0.017923823749066467), ('Intrepid Pictures', 0.017879627297909845), ('VIP Medienfonds 4', 0.017757009345794394), ('Section Eight Productions', 0.01775147928994083), ('Toho-Towa', 0.017704011065006915), ('Jerry Bruckheimer Films', 0.017652671755725192), ('Linson Entertainment', 0.01764705882352941), ('Casey Silver Productions', 0.0176), ('ImageMovers', 0.017572633552014997), ('Ghost House Pictures', 0.01751674394641937), ('Red Wagon Entertainment', 0.01749696233292831), ('Monarch Pictures', 0.01744186046511628), ('Kennedy Miller Productions', 0.01735357917570499), ('Biscayne Pictures', 0.017346053772766695), ('Bona Fide Productions', 0.017344497607655503), ('Groundswell Productions', 0.017266187050359712), ('Industry Entertainment', 0.017012351433232348), ('Lion Rock Productions', 0.016999575010624733), ('One Race Productions', 0.016846175089754212), ('Pixar Animation Studios', 0.01675531914893617), ('Nu Image Entertainment GmbH', 0.01673517322372284), ('Tribeca Productions', 0.016732512200790146), ('PathÃ© Renn Productions', 0.016689098250336473), ('Aardman Animations', 0.0166545981173063), ('Beacon Communications', 0.016568047337278107), ('Forward Pass', 0.016537467700258397), ('Pictures in Paradise', 0.016471449487554905), ('Before the Door Pictures', 0.016454749439042633), ('Grosvenor Park Media Ltd.', 0.016409502816556454), ('Laika Entertainment', 0.01634877384196185), ('Studio Canal', 0.01630695443645084), ('AR Films', 0.016224188790560472), ('Wildgaze Films', 0.01613987895090787), ('Lin Pictures', 0.01611090295991008), ('Valhalla Motion Pictures', 0.01607538802660754), ('Michael De Luca Productions', 0.01604418726985797), ('Guy Walks into a Bar Productions', 0.015943312666076175), ('Runteldat Entertainment', 0.015841584158415842), ('Signature Pictures', 0.015779620219309978), ('MTV Films', 0.01571520205259782), ('Gerber Pictures', 0.015703307718008687), ('Bandito Brothers', 0.015691868758915834), ('Di Bonaventura Pictures', 0.01564471360080747), ('Kernos Filmproduktionsgesellschaft & Company', 0.015632754342431762), ('Fox Searchlight Pictures', 0.015617715617715617), ('Appian Way', 0.01557632398753894), ('TriStar Pictures', 0.015546639919759278), ('Intermedia Films', 0.015545430179576521), ('Twentieth Century Fox Animation', 0.015535827520608751), (\"Mel's Cite du Cinema\", 0.015417906410603192), ('Grive Productions', 0.015408320493066256), ('Vendome Pictures', 0.015394483643361129), ('Laura Ziskin Productions', 0.015352038115404976), ('Scott Free Productions', 0.015313563441905688), ('Section Eight', 0.01530479896238651), ('Paramount Animation', 0.015232292460015232), ('Tollin/Robbins Productions', 0.015219560878243513), ('Blue Star Pictures', 0.015204054414510537), ('Morgan Creek Productions', 0.015172735760971055), ('Tapestry Films', 0.015050752537626881), ('Inferno Distribution', 0.014971927635683094), ('Marvel Studios', 0.014961585119288313), ('Hard Eight Pictures', 0.014936159961455071), ('CinÃ©CinÃ©ma', 0.014882655981682884), ('Sony Pictures', 0.014814814814814815), ('Major Studio Partners', 0.014745637748832637), ('Participant Media', 0.014687100893997445), ('Zephyr Films', 0.014605647517039922), ('Smokehouse Pictures', 0.014435221941537351), ('Blueprint Pictures', 0.014371812702828002), ('Instituto de la CinematografÃ\\xada y de las Artes Audiovisuales (ICAA)', 0.014281790716836034), ('Lionsgate', 0.014193227091633466), ('K/O Paper Products', 0.014167650531286895), ('Bedford Falls Productions', 0.014071294559099437), ('Mirage Enterprises', 0.01405672009864365), ('DreamWorks Pictures', 0.01396780303030303), ('Kalima Productions GmbH & Co. KG', 0.013789581205311542), ('Davis Entertainment', 0.013725979535812328), ('Universal Pictures', 0.013714551371455138), ('The Canton Company', 0.013666352497643733), ('Virtual Films', 0.013595166163141994), ('FilmDistrict', 0.013513513513513514), ('Angry Films', 0.013482574408547443), ('Dark Horse Entertainment', 0.013398608606029374), ('MFPV Film', 0.013293452974410104), ('Peninsula Films', 0.013286934514394179), ('Metropolitan Filmexport', 0.013281682346430549), ('DreamWorks', 0.013162335470806615), ('The Safran Company', 0.013136942675159236), ('Hammer Film Productions', 0.013065795613625758), ('Metro-Goldwyn-Mayer (MGM)', 0.01303538175046555), ('40 Acres & A Mule Filmworks', 0.012826492537313433), ('Brad Grey Pictures', 0.012823614807645777), ('Mars Media Beteiligungs', 0.012786885245901639), ('NPV Entertainment', 0.01276294020326164), ('VIP 3 Medienfonds', 0.01275298031605212), ('Blackfriars Bridge Films', 0.012705530642750373), ('26 Films', 0.012687052700065062), ('Evolution Entertainment', 0.012673653424323665), ('Alcon Entertainment', 0.012607040913415794), ('Robert Simonds Productions', 0.01258948407800543), ('Reliance BIG Entertainment', 0.012554321583775953), ('FilmNation Entertainment', 0.012454212454212455), ('Paradox Entertainment', 0.012404232032105071), ('Treehouse Pictures', 0.012345679012345678), ('Brightlight Pictures', 0.012345679012345678), ('Dune Entertainment', 0.012291052114060964), ('Gunn Films', 0.012226512226512226), ('H2F Entertainment', 0.01221001221001221), ('Fox Searchlight', 0.012177650429799427), ('Cruise/Wagner Productions', 0.0121153380179307), ('Closest to the Hole Productions', 0.01206140350877193), ('Hasbro', 0.012054001928640309), ('Hopscotch Features', 0.012030075187969926), ('Starz Animation', 0.012026458208057728), ('Icon Productions', 0.011950027159152634), ('Mad Chance', 0.011856770215793217), ('Wessler Entertainment', 0.011847463902258423), ('Ascendant Pictures', 0.011841695232159551), ('Bac Films', 0.01183821111476488), ('Egmond Film & Television', 0.011812080536912751), ('Silver Reel', 0.011743772241992882), ('Walt Disney Animation Studios', 0.01173096976016684), ('Grosvenor Park Productions', 0.011724856696195935), ('Shangri-La Entertainment', 0.011684023368046735), ('Outlaw Sinema', 0.011574074074074073), ('Worldview Entertainment', 0.01156737998843262), ('IM Global', 0.011514933429291111), ('Overnight Films', 0.011434894872740686), ('Crave Films', 0.011385199240986717), ('Next Entertainment', 0.011337868480725623), ('Artists Production Group (APG)', 0.011323806956052845), ('Moving Picture Company (MPC)', 0.01109391124871001), ('Irish Film Board', 0.01098901098901099), ('Castel Film Romania', 0.010947368421052631), ('Conundrum Entertainment', 0.010921177587844255), ('De Line Pictures', 0.010899182561307902), ('Vinyl Films', 0.010892730286526165), ('Fox Atomic', 0.010858324715615306), ('Zide-Perry Productions', 0.010843373493975903), ('Canal+ EspaÃ±a', 0.010714285714285714), ('PathÃ© Pictures International', 0.010526315789473684), ('Alliance Films', 0.01050363587395637), ('Province of British Columbia Production Services Tax Credit', 0.010503175378602833), ('Stuber Productions', 0.010482965181579932), ('Warner Independent Pictures (WIP)', 0.01046077210460772), ('Village Roadshow Pictures', 0.010401891252955082), ('A24', 0.010309278350515464), ('DreamWorks Animation', 0.010304337407141146), ('Imagine Entertainment', 0.010294805802526907), ('Likely Story', 0.010285714285714285), ('Hammerhead Productions', 0.010280373831775701), ('Warner Bros.', 0.010244470314318976), ('ApolloMedia Distribution', 0.010193679918450561), ('Propaganda Films', 0.010188487009679063), ('Troublemaker Studios', 0.010103561505430665), ('Leverage Management', 0.010097087378640776), ('Anonymous Content', 0.009942828734775044), ('WV Films II', 0.009933774834437087), ('Silver Pictures', 0.009783368273934312), ('Nu Image Entertainment', 0.009776177000257269), ('Twisted Pictures', 0.009751340809361287), ('Yucaipa Films', 0.009632536567962896), ('Virgin Produced', 0.009618941916389198), ('DreamWorks SKG', 0.009610876699484294), ('Spectacle Entertainment Group', 0.009557344064386318), ('Odd Lot Entertainment', 0.009448818897637795), ('The Mark Gordon Company', 0.0094478889873044), ('The Jacobson Company', 0.00944733112895607), ('Marc Platt Productions', 0.009437672040896579), ('Sony Pictures Classics', 0.009418642416368951), ('France 2 CinÃ©ma', 0.00939926440539436), ('Animal Logic', 0.009290802105915144), ('After Dark Films', 0.009255962976148096), ('LD Entertainment', 0.009242144177449169), ('Radical Media', 0.009202453987730062), ('Gran Via Productions', 0.009197751660705161), ('Nimar Studios', 0.009182209469153515), ('UK Film Council', 0.00903225806451613), ('TPS Star', 0.009021512838306732), ('Blue Sky Studios', 0.008880431335236283), ('Dimension Films', 0.008864007464427339), ('Strike Entertainment', 0.008856905618599501), ('Indochina Productions', 0.008856682769726247), ('2 Entertain', 0.008798391151332328), ('Gold Circle Films', 0.008795504519912045), ('Malpaso Productions', 0.008776091081593928), ('Wonderland Sound and Vision', 0.008680555555555556), ('Franchise Pictures', 0.008640822045773003), ('The Montecito Picture Company', 0.008591885441527447), ('Cobalt Media Group', 0.008347245409015025), ('Alphaville Films', 0.008345255126371007), ('Double Feature Films', 0.008192651439920555), ('Scion Films', 0.008132147395171537), ('Mayhem Pictures', 0.00809102402022756), ('Rainforest Films', 0.008054674151818403), ('1984 Private Defense Contractors', 0.008043875685557587), ('Cinerenta Medienbeteiligungs KG', 0.00799744081893794), ('Flower Films (II)', 0.007978060334081277), ('Warner Bros. Animation', 0.00796812749003984), ('WingNut Films', 0.007941988950276244), ('Imaginary Forces', 0.007909604519774011), ('Blinding Edge Pictures', 0.007831039392501186), ('Columbia Pictures', 0.007816200852676456), ('DiNovi Pictures', 0.007754084741068956), ('Wayans Bros. Entertainment', 0.007504236262406197), ('Walt Disney Feature Animation', 0.00748792270531401), ('Protozoa Pictures', 0.007444168734491315), ('Marvel Enterprises', 0.0074418604651162795), ('Rogue Pictures', 0.007413509060955519), ('The Weinstein Company', 0.0073782587309394985), ('Avery Pix', 0.007316497521831484), ('Quinta Communications', 0.007306380905991232), ('Team Todd', 0.007285089849441476), ('Castelao Producciones', 0.007144820005496016), ('Kopelson Entertainment', 0.007096069868995633), ('Canadian Film or Video Production Tax Credit (CPTC)', 0.007086999022482893), ('Universal Studios', 0.007008086253369272), ('LivePlanet', 0.0068846815834767644), ('Chris Lee Productions', 0.006840530141085934), ('Bel Air Entertainment', 0.006753609687936655), ('Atmosphere Entertainment MM', 0.006582411795681938), ('Imagenation Abu Dhabi FZ', 0.0065170166545981175), ('Lakeshore Entertainment', 0.006439303601240162), ('Radical Studios', 0.006430868167202572), ('Relativity Media', 0.006370987503062975), ('Bad Hat Harry Productions', 0.00628053035589672), ('Vanguard Films', 0.006166828951639078), ('International Production Company', 0.006122448979591836), ('Craven-Maddalena Films', 0.00610758750293634), ('United Artists', 0.006077606358111267), ('Big Talk Productions', 0.005813953488372093), ('Hollywood Gang Productions', 0.0057940479325783514), ('Working Title Films', 0.005766458433445459), ('Reliance Entertainment', 0.005761613251710479), ('Gracie Films', 0.005698005698005698), ('Fierce Entertainment', 0.005630918863578193), ('Fox 2000 Pictures', 0.005627198124267292), ('Amen Ra Films', 0.005372576500817566), ('New Line Cinema', 0.0053475935828877), ('Film i VÃ¤st', 0.005345687811831789), ('No Trace Camping', 0.005303030303030303), (\"Donners' Company\", 0.005118659841786877), ('Warner Bros. Pictures', 0.005107963779893197), ('David Dobkin Productions', 0.0050916496945010185), ('Weinstein Company, The', 0.005054334091483447), ('Legendary Pictures', 0.0050052687038988405), ('Mandate Pictures', 0.004993429697766097), ('Buena Vista', 0.004966887417218543), ('DNA Films', 0.0049057578104828295), ('Gold/Miller Productions', 0.004842615012106538), ('Cross Creek Pictures', 0.004713275726630008), ('Film4', 0.004477611940298508), ('Good Universe', 0.0044526901669758815), ('Scott Rudin Productions', 0.0042452830188679245), ('Konrad Pictures', 0.0042293233082706765), ('Bob Yari Productions', 0.004207573632538569), ('Current Entertainment', 0.00409731113956466), ('Skydance Productions', 0.004082822980460776), ('Twentieth Century Fox Film Corporation', 0.0039562485454968585), ('Mace Neufeld Productions', 0.003899902502437439), ('Summit Entertainment', 0.003887269193391642), ('Scope Pictures', 0.0035650623885918), ('Mosaic Media Group', 0.003329918032786885), ('EuropaCorp', 0.0030356691120667846), ('Yari Film Group', 0.0028058361391694723), (\"Bull's Eye Entertainment\", 0.0028042624789680315), ('GreeneStreet Films', 0.0025621316935690495)]\n"
     ]
    }
   ],
   "source": [
    "temp = data\n",
    "data['len1'] = data.original_title.str.len()\n",
    "result = dict()\n",
    "num=0\n",
    "total = 0\n",
    "\n",
    "for i in range(len(temp)):\n",
    "    production = temp.iloc[i].production_companies.split('|')\n",
    "    for company in production:\n",
    "        if company not in result:\n",
    "            num ==1\n",
    "            total = temp.iloc[i].len1\n",
    "            result[company]=total\n",
    "        else:\n",
    "            #result[company]+=temp.iloc[i].len1\n",
    "            total +=temp.iloc[i].len1\n",
    "            num +=1\n",
    "            result[company] = total/num\n",
    "            \n",
    "sorted_d = sorted(result.items(), reverse=True, key=operator.itemgetter(1))\n",
    "print(sorted_d)\n",
    "\n",
    "answer_ls.append(5)\n"
   ]
  },
  {
   "cell_type": "markdown",
   "metadata": {},
   "source": [
    "# 32. Названия фильмов какой студии в среднем самые длинные по количеству слов?\n",
    "Варианты ответа:\n",
    "1. Universal Pictures (Universal)\n",
    "2. Warner Bros\n",
    "3. Jim Henson Company, The\n",
    "4. Paramount Pictures\n",
    "5. Four By Two Productions"
   ]
  },
  {
   "cell_type": "code",
   "execution_count": null,
   "metadata": {},
   "outputs": [],
   "source": [
    "### Перепутал и не смог \n",
    "temp = data\n",
    "data['len1'] = data.original_title.str.len()\n",
    "result = dict()\n",
    "num=0\n",
    "total = 0\n",
    "\n",
    "for i in range(len(temp)):\n",
    "    production = temp.iloc[i].production_companies.split('|')\n",
    "    for company in production:\n",
    "        if company not in result:\n",
    "            num ==1\n",
    "            total = temp.iloc[i].len1\n",
    "            result[company]=total\n",
    "        else:\n",
    "            #result[company]+=temp.iloc[i].len1\n",
    "            total +=temp.iloc[i].len1\n",
    "            num +=1\n",
    "            result[company] = total/num\n",
    "            \n",
    "sorted_d = sorted(result.items(), reverse=True, key=operator.itemgetter(1))\n",
    "print(sorted_d)\n",
    "\n",
    "answer_ls.append(5)"
   ]
  },
  {
   "cell_type": "markdown",
   "metadata": {},
   "source": [
    "# 33. Сколько разных слов используется в названиях фильмов?(без учета регистра)\n",
    "Варианты ответа:\n",
    "1. 6540\n",
    "2. 1002\n",
    "3. 2461\n",
    "4. 28304\n",
    "5. 3432"
   ]
  },
  {
   "cell_type": "code",
   "execution_count": null,
   "metadata": {},
   "outputs": [],
   "source": [
    "answer_ls.append(1)"
   ]
  },
  {
   "cell_type": "markdown",
   "metadata": {},
   "source": [
    "# 34. Какие фильмы входят в 1 процент лучших по рейтингу?\n",
    "Варианты ответа:\n",
    "1. Inside Out, Gone Girl, 12 Years a Slave\n",
    "2. BloodRayne, The Adventures of Rocky & Bullwinkle\n",
    "3. The Lord of the Rings: The Return of the King\n",
    "4. 300, Lucky Number Slevin"
   ]
  },
  {
   "cell_type": "code",
   "execution_count": null,
   "metadata": {},
   "outputs": [],
   "source": [
    "answer_ls.append(1)"
   ]
  },
  {
   "cell_type": "markdown",
   "metadata": {},
   "source": [
    "# 35. Какие актеры чаще всего снимаются в одном фильме вместе\n",
    "Варианты ответа:\n",
    "1. Johnny Depp & Helena Bonham Carter\n",
    "2. Hugh Jackman & Ian McKellen\n",
    "3. Vin Diesel & Paul Walker\n",
    "4. Adam Sandler & Kevin James\n",
    "5. Daniel Radcliffe & Rupert Grint"
   ]
  },
  {
   "cell_type": "code",
   "execution_count": null,
   "metadata": {},
   "outputs": [],
   "source": [
    "answer_ls.append(1)"
   ]
  },
  {
   "cell_type": "markdown",
   "metadata": {},
   "source": [
    "# 36. У какого из режиссеров выше вероятность выпустить фильм в прибыли? (5 баллов)101\n",
    "Варианты ответа:\n",
    "1. Quentin Tarantino\n",
    "2. Steven Soderbergh\n",
    "3. Robert Rodriguez\n",
    "4. Christopher Nolan\n",
    "5. Clint Eastwood"
   ]
  },
  {
   "cell_type": "code",
   "execution_count": null,
   "metadata": {},
   "outputs": [],
   "source": [
    "answer_ls.append(1)"
   ]
  },
  {
   "cell_type": "markdown",
   "metadata": {},
   "source": [
    "# Submission"
   ]
  },
  {
   "cell_type": "code",
   "execution_count": 6,
   "metadata": {},
   "outputs": [
    {
     "data": {
      "text/plain": [
       "0"
      ]
     },
     "execution_count": 6,
     "metadata": {},
     "output_type": "execute_result"
    }
   ],
   "source": [
    "len(answer_ls)"
   ]
  },
  {
   "cell_type": "code",
   "execution_count": 5,
   "metadata": {},
   "outputs": [
    {
     "data": {
      "text/html": [
       "<div>\n",
       "<style scoped>\n",
       "    .dataframe tbody tr th:only-of-type {\n",
       "        vertical-align: middle;\n",
       "    }\n",
       "\n",
       "    .dataframe tbody tr th {\n",
       "        vertical-align: top;\n",
       "    }\n",
       "\n",
       "    .dataframe thead th {\n",
       "        text-align: right;\n",
       "    }\n",
       "</style>\n",
       "<table border=\"1\" class=\"dataframe\">\n",
       "  <thead>\n",
       "    <tr style=\"text-align: right;\">\n",
       "      <th></th>\n",
       "      <th>Id</th>\n",
       "      <th>Answer</th>\n",
       "    </tr>\n",
       "  </thead>\n",
       "  <tbody>\n",
       "  </tbody>\n",
       "</table>\n",
       "</div>"
      ],
      "text/plain": [
       "Empty DataFrame\n",
       "Columns: [Id, Answer]\n",
       "Index: []"
      ]
     },
     "execution_count": 5,
     "metadata": {},
     "output_type": "execute_result"
    }
   ],
   "source": [
    "pd.DataFrame({'Id':range(1,len(answer_ls)+1), 'Answer':answer_ls}, columns=['Id', 'Answer'])"
   ]
  },
  {
   "cell_type": "code",
   "execution_count": null,
   "metadata": {},
   "outputs": [],
   "source": []
  }
 ],
 "metadata": {
  "kernelspec": {
   "display_name": "Python 3",
   "language": "python",
   "name": "python3"
  },
  "language_info": {
   "codemirror_mode": {
    "name": "ipython",
    "version": 3
   },
   "file_extension": ".py",
   "mimetype": "text/x-python",
   "name": "python",
   "nbconvert_exporter": "python",
   "pygments_lexer": "ipython3",
   "version": "3.7.4"
  }
 },
 "nbformat": 4,
 "nbformat_minor": 4
}
